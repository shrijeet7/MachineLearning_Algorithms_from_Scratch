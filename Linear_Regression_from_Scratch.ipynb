{
 "cells": [
  {
   "cell_type": "markdown",
   "metadata": {},
   "source": [
    "# Imports "
   ]
  },
  {
   "cell_type": "code",
   "execution_count": 1,
   "metadata": {},
   "outputs": [],
   "source": [
    "import numpy as np\n",
    "import pandas as pd\n",
    "import matplotlib.pyplot as plt\n",
    "import math\n",
    "\n",
    "from sklearn.model_selection import train_test_split\n",
    "\n",
    "%matplotlib inline"
   ]
  },
  {
   "cell_type": "markdown",
   "metadata": {},
   "source": [
    "# What is Linear Regression ?\n",
    "\n",
    "        Linear regression assumes a linear or straight line relationship between the input variables (X) and\n",
    "        single output variable (y).\n",
    "\n",
    "        The output 'Y' or the prediction h(x) can be estimated from a linear combination of the input variables (X). \n",
    "        When there is a single input variable X = [X1] , then this method is called simple linear regression.\n",
    "        \n",
    "        in such case h(x)= theta0 + theta1*X1\n",
    "        where theta0, theta1 are co efficients ; comapring with Y = c + mx\n",
    "        theta0 can be considered as 'c' the intercept term and theta1 as 'm' the slope\n",
    "        \n",
    "        We then require a cost function such that\n",
    "        it calculates the mean squared error between the actual value of Y and our estimated value h(x)\n",
    "        \n",
    "        Then we need to minimize this error by changing the values of theta0 and theta1 \n",
    "        this is done by a method called Gradient descent\n",
    "        after the error is minimized we use those values of theta0 and theta1 for which the error is minimum\n",
    "        or when our estimated value is almost same as the actual value\n",
    "        \n",
    "        These values of Theta0 and Theta1 are the used to predict Y for values of X (X = [X1] single attribute) in testset\n",
    "        predicted Y = theta0(minimized) + theta1 * Xi ; \n",
    "        where xi is the ith example in the test set and Yi is the actual value of Y for Xi"
   ]
  },
  {
   "cell_type": "markdown",
   "metadata": {},
   "source": [
    "# Requirements:\n",
    "\n",
    "            let prediction(theta,Xi) be a function that estimates Yi for given Xi and Optimum theta.\n",
    "            Prediction(theta,Xi): theta is 1d vector [theta0 , theta1]; theta is the optimized value of theta such \n",
    "            that the difference between predicted value and actual value (cost/mean squared error) is minimum.\n",
    "            \n",
    "                Xi is an example or an instance of X (an entire row with only 1 attribute X1)\n",
    "                The predicted value for Xi is given by:\n",
    "                Prediction(theta,Xi) = theta0 + Theta1* Xi\n",
    "                                     = theta0*X0 + Theta1 * X1 (X0 is always =1)\n",
    "                        \n",
    "                        \n",
    "            for easy of calculation using vector multiplication we add a vector X0 to our X\n",
    "            X0 is a M dimensional vector of all 1's where M is the number of rows or no of examples in X\n",
    "            so X = [X0, X1] \n",
    "            where, X0 is a column of all 1 X1 is the coloumn containing the value of attribute X1 for each row/example in X\n",
    "            \n",
    "            then prediction(theta,Xi) = Theta * Xi' ; theta * Xi(Transpose) \n",
    "            now we need to get the optimum value of theta\n",
    "            for this we require i)  cost function: to calculate the Mean sq error\n",
    "                                ii) gradient descent to minimize the cost function with respect to theta\n",
    "                                \n",
    "            Before diving in the cost function\n",
    "            we require a method to transpose a 1d vector and also to add a column X0 to X\n",
    "            such that all X0 = 1\n",
    "            example if X = [[2],[1],[6]]\n",
    "            then after adding X0 terms : X = [[1,2],[1,1],[1,6]]\n",
    "            \n",
    "            \n",
    "            "
   ]
  },
  {
   "cell_type": "markdown",
   "metadata": {},
   "source": [
    "# Function to Transpose an array:"
   ]
  },
  {
   "cell_type": "code",
   "execution_count": 2,
   "metadata": {},
   "outputs": [],
   "source": [
    "def Transpose(x): # x is np array of dimension 1 X n ; 1 row , n columns (n being the number of attributes)\n",
    "    x = np.array(x)\n",
    "    x = x.transpose()\n",
    "    return x  # returns a vector of size n X 1 ;n rows , 1 column "
   ]
  },
  {
   "cell_type": "markdown",
   "metadata": {},
   "source": [
    "# How Transpose works:\n",
    "\n",
    "        Note : In python each sublist is a row and no of element in each sublist = num of cols"
   ]
  },
  {
   "cell_type": "code",
   "execution_count": 3,
   "metadata": {},
   "outputs": [
    {
     "name": "stdout",
     "output_type": "stream",
     "text": [
      "[[1]\n",
      " [2]\n",
      " [3]]\n",
      "\n",
      "[[1 3]\n",
      " [2 6]]\n"
     ]
    }
   ],
   "source": [
    "y = [[1,2,3]]\n",
    "#then we should get yT = [[1],[2],[3]]\n",
    "x = [[1,2],[3,6]] \n",
    "# then xT = [[1,3],[2,6]]\n",
    "yT = Transpose(y)\n",
    "print(yT)\n",
    "print(\"\")\n",
    "xT = Transpose(x)\n",
    "print(xT)"
   ]
  },
  {
   "cell_type": "markdown",
   "metadata": {},
   "source": [
    "# Function to add X0 column in X :"
   ]
  },
  {
   "cell_type": "code",
   "execution_count": 4,
   "metadata": {},
   "outputs": [],
   "source": [
    "def addX0(X):      ## X = [X1,X2] we need x1 and x2 to be seperate rows X = [[x1],[x2]]\n",
    "    X = np.array(X,dtype=float)\n",
    "    l = len(X)\n",
    "    X0 = np.ones((l,1),dtype=float)  # creating a column of 1\n",
    "    X = np.column_stack((X0,X)) \n",
    "    return X"
   ]
  },
  {
   "cell_type": "markdown",
   "metadata": {},
   "source": [
    "# How inserting X0 works: \n",
    "\n",
    "        consider the following example given in cell below:"
   ]
  },
  {
   "cell_type": "code",
   "execution_count": 5,
   "metadata": {},
   "outputs": [
    {
     "data": {
      "text/plain": [
       "array([[1., 2.],\n",
       "       [1., 3.]])"
      ]
     },
     "execution_count": 5,
     "metadata": {},
     "output_type": "execute_result"
    }
   ],
   "source": [
    "x = [2,3] #its still a list \n",
    "x = np.array(x)\n",
    "l = len(x)\n",
    "X0 = np.ones((l,1),dtype=float)\n",
    "X = np.column_stack((X0,x))\n",
    "X"
   ]
  },
  {
   "cell_type": "markdown",
   "metadata": {},
   "source": [
    "# Step 1 : The Cost Function Cost(theta):\n",
    "\n",
    "        Cost(X,Y,theta) : simply calcultes the sum of all mean squared errors between h(Xi) and Yi\n",
    "        so : Cost(theta): = (1/2M) * sum((h(xi)-yi)^2) where i = 1 to M"
   ]
  },
  {
   "cell_type": "code",
   "execution_count": 6,
   "metadata": {},
   "outputs": [],
   "source": [
    "def costFunc(X,Y,theta):\n",
    "    m = len(Y)\n",
    "    \n",
    "    Y = np.array([Y])\n",
    "    Y = Transpose(Y)                              # Y = Y' coloumn vector\n",
    "    \n",
    "    theta= np.array([theta])\n",
    "    theta= Transpose(theta)                       # theta = theta' coloumn vector\n",
    "   \n",
    "    X = addX0(X)                         # adding X0 column to X\n",
    "    \n",
    "    estimated_val = X @ theta               #  @ : matrix multiplication , * : scalar multiplication\n",
    "        \n",
    "    error = np.subtract(estimated_val,Y)    # matrix subtraction\n",
    "    sq_error = error **2                # element wise square\n",
    "    \n",
    "    cost = 1/(2*m) * sum(sq_error)\n",
    "    return cost[0]"
   ]
  },
  {
   "cell_type": "markdown",
   "metadata": {},
   "source": [
    "# Verify if Cost function works:"
   ]
  },
  {
   "cell_type": "code",
   "execution_count": 7,
   "metadata": {},
   "outputs": [
    {
     "data": {
      "text/plain": [
       "1.25"
      ]
     },
     "execution_count": 7,
     "metadata": {},
     "output_type": "execute_result"
    }
   ],
   "source": [
    "X = [[1,2,1],[1,8,2]]\n",
    "Y=[12,28]\n",
    "theta = [1,3,2,5]\n",
    "# m(no of rows = 2)\n",
    "# x becomes = X[[1,1,2,1],[1,2,8,2]] Y= [[2],[8]] theta = [[1],[3],[2],[5]]\n",
    "#hpy = [[(1*1 + 1*3 + 2*2 +1*5)],[(1*1+1*3+8*2+2*5)] ] = [[13],[26]]\n",
    "#error = [[13-12],[26-28]]=[[1],[-2]]\n",
    "#sq_error = [[1],[4]]\n",
    "#cost = (1/4) * sum(1+4)=5/4=1.25\n",
    "cost = costFunc(X,Y,theta)\n",
    "cost"
   ]
  },
  {
   "cell_type": "markdown",
   "metadata": {},
   "source": [
    "# Step 1 : Minimize the cost function with respect to theta :\n",
    "\n",
    "#             what is gradient descent ?\n",
    "\n",
    "        Gradient descent is an optimization algorithm used to find the values of parameters (coefficients) \n",
    "        of  cost function (f) that minimizes a cost function\n",
    "    \n",
    "        psuedocode:\n",
    "            \n",
    "        repeat untill no change in Theta\n",
    "        {\n",
    "            theta(j) = theta(j) - alpha *  d/d(thetaj) (cost(theta))\n",
    "        } for 0<=j<=n \n",
    "        (as we add the X0 intercept term so if there is only 1 feature n=1 we will have theta0 & theta 1 hence 0<=j<=n )\n",
    "        \n",
    "        what is alpha ?\n",
    "        The learning rate.\n",
    "        it controls by how much the coefficients (theta) changes with each update\n",
    "        alpha large : the value of theta decreases rapidly with each update\n",
    "        alpha small the value of theta decreases slowly with each update\n",
    "        \n",
    "        vectorized implementation:\n",
    "            \n",
    "        d/d(theta(j) cost(theta) = d/d(theta(j) {(1/2M) * sum((h(xi)-yi)^2) } where i = 1 to M\n",
    "        after differentiating we get :\n",
    "                                       \n",
    "        d/d(theta(j) cost(theta) = (1/M) * sum{(h(xi)-yi)X(i,j)} where i = 1 to M (row number )and j = column number  \n",
    "            \n",
    "        so:\n",
    "        theta(0)= theta(0) - alpha* {(1/M) * sum{ (h(xi)-yi) * X(i,0) }} for i = 1 to M (row number )\n",
    "        theta(1)= theta(1) - alpha* {(1/M) * sum{ (h(xi)-yi) * X(i,1) }} for i = 1 to M (row number )\n",
    "        .\n",
    "        .\n",
    "            \n",
    "        now let delta = (1/M) * sum{ (h(xi)-yi) * X(i,j) } ,  h(xi)-yi): error for each estimated vs actual value\n",
    "                delta = (1/M) * sum{ error * X(i,j) } ;   0 <= j <= n ; n = number of features , (from 0 as X0 is added)\n",
    "                X(i,j) : depends on theta(for theta 1 : X(i,1)) while i denotes all rows \n",
    "                its basically a 1-dimensional vector\n",
    "                \n",
    "         so Theta = Theta - alpha*delta\n",
    "         \n",
    "         lastly, the values of theta vector for which the cost is minimum is our optimized theta"
   ]
  },
  {
   "cell_type": "markdown",
   "metadata": {},
   "source": [
    "# Implementing Gradient descent:\n",
    "\n",
    "            vectorized implementation"
   ]
  },
  {
   "cell_type": "code",
   "execution_count": 8,
   "metadata": {},
   "outputs": [],
   "source": [
    "def GradientDescent(x,y,theta,alpha,num_iterations):\n",
    "    \n",
    "    no_of_examples = len(y)\n",
    "    cost_history = np.zeros(num_iterations,dtype=float)\n",
    "    #cost_history is an array with elements=num_iteration, to store change in cost(mean sq error)to chekc for convergence\n",
    "    \n",
    "    Y = np.array([y])\n",
    "    Y = Transpose(Y)                              # Y = y' coloumn vector\n",
    "    Theta= np.array(theta)\n",
    "    Theta= Transpose(Theta)                       # Theta = theta' coloumn vector\n",
    "    X = addX0(x)                                  # adding X0 column to x \n",
    "    \n",
    "    for i in range(num_iterations):\n",
    "        cost_history[i] = costFunc(x,y,Theta)\n",
    "        \n",
    "        estimated_val = X @ Theta               #  @ : matrix multiplication , * : scalar multiplication\n",
    "        error = np.subtract(estimated_val,Y)    # matrix subtraction\n",
    "        delta = Transpose(X) @ error       \n",
    "        delta = delta/no_of_examples\n",
    "        \n",
    "        Theta = Theta - (alpha * delta)\n",
    "        \n",
    "    return Theta,cost_history"
   ]
  },
  {
   "cell_type": "markdown",
   "metadata": {},
   "source": [
    "# Load Dataset:\n",
    "    \n",
    "    Dataset contains two Columns X & Y \n",
    "    number of examples = 97\n",
    "    X is treated as the feature\n",
    "    Y is treated as the variable dependent on X "
   ]
  },
  {
   "cell_type": "code",
   "execution_count": 9,
   "metadata": {},
   "outputs": [
    {
     "data": {
      "text/html": [
       "<div>\n",
       "<style scoped>\n",
       "    .dataframe tbody tr th:only-of-type {\n",
       "        vertical-align: middle;\n",
       "    }\n",
       "\n",
       "    .dataframe tbody tr th {\n",
       "        vertical-align: top;\n",
       "    }\n",
       "\n",
       "    .dataframe thead th {\n",
       "        text-align: right;\n",
       "    }\n",
       "</style>\n",
       "<table border=\"1\" class=\"dataframe\">\n",
       "  <thead>\n",
       "    <tr style=\"text-align: right;\">\n",
       "      <th></th>\n",
       "      <th>X</th>\n",
       "      <th>Y</th>\n",
       "    </tr>\n",
       "  </thead>\n",
       "  <tbody>\n",
       "    <tr>\n",
       "      <th>0</th>\n",
       "      <td>6.1101</td>\n",
       "      <td>17.5920</td>\n",
       "    </tr>\n",
       "    <tr>\n",
       "      <th>1</th>\n",
       "      <td>5.5277</td>\n",
       "      <td>9.1302</td>\n",
       "    </tr>\n",
       "    <tr>\n",
       "      <th>2</th>\n",
       "      <td>8.5186</td>\n",
       "      <td>13.6620</td>\n",
       "    </tr>\n",
       "    <tr>\n",
       "      <th>3</th>\n",
       "      <td>7.0032</td>\n",
       "      <td>11.8540</td>\n",
       "    </tr>\n",
       "    <tr>\n",
       "      <th>4</th>\n",
       "      <td>5.8598</td>\n",
       "      <td>6.8233</td>\n",
       "    </tr>\n",
       "  </tbody>\n",
       "</table>\n",
       "</div>"
      ],
      "text/plain": [
       "        X        Y\n",
       "0  6.1101  17.5920\n",
       "1  5.5277   9.1302\n",
       "2  8.5186  13.6620\n",
       "3  7.0032  11.8540\n",
       "4  5.8598   6.8233"
      ]
     },
     "execution_count": 9,
     "metadata": {},
     "output_type": "execute_result"
    }
   ],
   "source": [
    "data = pd.read_csv('data.txt',header=None)\n",
    "data.columns=['X','Y']\n",
    "data.head()"
   ]
  },
  {
   "cell_type": "code",
   "execution_count": 10,
   "metadata": {},
   "outputs": [
    {
     "data": {
      "text/html": [
       "<div>\n",
       "<style scoped>\n",
       "    .dataframe tbody tr th:only-of-type {\n",
       "        vertical-align: middle;\n",
       "    }\n",
       "\n",
       "    .dataframe tbody tr th {\n",
       "        vertical-align: top;\n",
       "    }\n",
       "\n",
       "    .dataframe thead th {\n",
       "        text-align: right;\n",
       "    }\n",
       "</style>\n",
       "<table border=\"1\" class=\"dataframe\">\n",
       "  <thead>\n",
       "    <tr style=\"text-align: right;\">\n",
       "      <th></th>\n",
       "      <th>X</th>\n",
       "      <th>Y</th>\n",
       "    </tr>\n",
       "  </thead>\n",
       "  <tbody>\n",
       "    <tr>\n",
       "      <th>count</th>\n",
       "      <td>97.000000</td>\n",
       "      <td>97.000000</td>\n",
       "    </tr>\n",
       "    <tr>\n",
       "      <th>mean</th>\n",
       "      <td>8.159800</td>\n",
       "      <td>5.839135</td>\n",
       "    </tr>\n",
       "    <tr>\n",
       "      <th>std</th>\n",
       "      <td>3.869884</td>\n",
       "      <td>5.510262</td>\n",
       "    </tr>\n",
       "    <tr>\n",
       "      <th>min</th>\n",
       "      <td>5.026900</td>\n",
       "      <td>-2.680700</td>\n",
       "    </tr>\n",
       "    <tr>\n",
       "      <th>25%</th>\n",
       "      <td>5.707700</td>\n",
       "      <td>1.986900</td>\n",
       "    </tr>\n",
       "    <tr>\n",
       "      <th>50%</th>\n",
       "      <td>6.589400</td>\n",
       "      <td>4.562300</td>\n",
       "    </tr>\n",
       "    <tr>\n",
       "      <th>75%</th>\n",
       "      <td>8.578100</td>\n",
       "      <td>7.046700</td>\n",
       "    </tr>\n",
       "    <tr>\n",
       "      <th>max</th>\n",
       "      <td>22.203000</td>\n",
       "      <td>24.147000</td>\n",
       "    </tr>\n",
       "  </tbody>\n",
       "</table>\n",
       "</div>"
      ],
      "text/plain": [
       "               X          Y\n",
       "count  97.000000  97.000000\n",
       "mean    8.159800   5.839135\n",
       "std     3.869884   5.510262\n",
       "min     5.026900  -2.680700\n",
       "25%     5.707700   1.986900\n",
       "50%     6.589400   4.562300\n",
       "75%     8.578100   7.046700\n",
       "max    22.203000  24.147000"
      ]
     },
     "execution_count": 10,
     "metadata": {},
     "output_type": "execute_result"
    }
   ],
   "source": [
    "data.describe()"
   ]
  },
  {
   "cell_type": "code",
   "execution_count": 11,
   "metadata": {},
   "outputs": [],
   "source": [
    "X = data['X']\n",
    "Y = data['Y']"
   ]
  },
  {
   "cell_type": "code",
   "execution_count": 12,
   "metadata": {},
   "outputs": [],
   "source": [
    "X = np.array(X)"
   ]
  },
  {
   "cell_type": "code",
   "execution_count": 13,
   "metadata": {},
   "outputs": [],
   "source": [
    "Y = np.array(Y)"
   ]
  },
  {
   "cell_type": "code",
   "execution_count": 14,
   "metadata": {},
   "outputs": [
    {
     "name": "stdout",
     "output_type": "stream",
     "text": [
      "67\n",
      "67\n",
      "30\n",
      "30\n"
     ]
    }
   ],
   "source": [
    "X_train,X_test,Y_train,Y_test = train_test_split(X,Y,test_size = 0.3,random_state = 42)\n",
    "print(len(X_train))\n",
    "print(len(Y_train))\n",
    "print(len(X_test))\n",
    "print(len(Y_test))"
   ]
  },
  {
   "cell_type": "code",
   "execution_count": 15,
   "metadata": {},
   "outputs": [
    {
     "name": "stdout",
     "output_type": "stream",
     "text": [
      "Theta value we got after 20 iteration\n",
      "\n",
      "[[0.00125051]\n",
      " [0.8111048 ]]\n",
      "-------------------------------------\n",
      "change in cost with iteration\n",
      "\n",
      "[0.61190176 0.15211041 0.02624355 0.00086587 0.00227297 0.00856305\n",
      " 0.01408007 0.01792688 0.02038992 0.0219088  0.02283147 0.02339146\n",
      " 0.02373513 0.02395116 0.02409234 0.02418977 0.02426168 0.02431873\n",
      " 0.02436712 0.02441047]\n"
     ]
    }
   ],
   "source": [
    "alpha = 0.005\n",
    "n = np.size(X[1])+1                          # no of features in X + 1 for X0 term which will be added\n",
    "initial_Theta = np.zeros((1,n),dtype=float)  # initialize theta vector with all 0's\n",
    "iterations = 20\n",
    "theta,cost_history=GradientDescent(x=X_train,y=Y_train,theta=initial_Theta,alpha=alpha,num_iterations=iterations)\n",
    "print(\"Theta value we got after 20 iteration\\n\")\n",
    "print(theta)\n",
    "print(\"-------------------------------------\")\n",
    "print(\"change in cost with iteration\\n\")\n",
    "print(cost_history)"
   ]
  },
  {
   "cell_type": "markdown",
   "metadata": {},
   "source": [
    "# Find the optimal num of iterations required for Convergence:"
   ]
  },
  {
   "cell_type": "code",
   "execution_count": 16,
   "metadata": {},
   "outputs": [
    {
     "data": {
      "image/png": "[encoded data removed]",
      "text/plain": [
       "<Figure size 1000x400 with 1 Axes>"
      ]
     },
     "metadata": {},
     "output_type": "display_data"
    }
   ],
   "source": [
    "my_dpi = 100 # dots per inch .. (resolution)\n",
    "plt.figure(figsize=(1000/my_dpi, 400/my_dpi), dpi = my_dpi) # to enlarge the plot (can be omitted)\n",
    "\n",
    "plt.plot(np.arange(0,iterations,step=1),cost_history,label=\"mean sq error\")\n",
    "plt.xticks(np.arange(0,iterations,step=1))\n",
    "plt.xlabel('Iterations')\n",
    "plt.ylabel('Mean squared error')\n",
    "plt.legend()\n",
    "plt.grid()"
   ]
  },
  {
   "cell_type": "markdown",
   "metadata": {},
   "source": [
    "# Trying to vizualize the convergence point better:"
   ]
  },
  {
   "cell_type": "code",
   "execution_count": 17,
   "metadata": {},
   "outputs": [
    {
     "data": {
      "image/png": "[encoded data removed]",
      "text/plain": [
       "<Figure size 1000x400 with 1 Axes>"
      ]
     },
     "metadata": {},
     "output_type": "display_data"
    }
   ],
   "source": [
    "my_dpi = 100 # dots per inch .. (resolution)\n",
    "plt.figure(figsize=(1000/my_dpi, 400/my_dpi), dpi = my_dpi) # to enlarge the plot (can be omitted)\n",
    "\n",
    "plt.plot(np.arange(1,10,step=1),cost_history[1:10],linewidth=1,label=\"mean sq error\")\n",
    "plt.xticks(np.arange(1,10,step=1))\n",
    "plt.xlabel('Iterations')\n",
    "plt.ylabel('Mean squared error')\n",
    "plt.ylim(0,0.1)\n",
    "plt.yticks(np.arange(0,0.1,step=0.01))\n",
    "plt.legend()\n",
    "plt.grid()"
   ]
  },
  {
   "cell_type": "markdown",
   "metadata": {},
   "source": [
    "# Inference :\n",
    "\n",
    "    we see on the 4th iteration(as interation starts from 0) the error is minimum, and increases again \n",
    "    when iterations are increased.\n",
    "    Hence we select number of iterations = 4"
   ]
  },
  {
   "cell_type": "code",
   "execution_count": 18,
   "metadata": {},
   "outputs": [
    {
     "name": "stdout",
     "output_type": "stream",
     "text": [
      "Optimal value of theta\n",
      "\n",
      "[[0.05535396]\n",
      " [0.71312766]]\n",
      "-------------------------------------\n",
      "final Mean squared error: 0.000865875 \n",
      "\n"
     ]
    }
   ],
   "source": [
    "alpha = 0.005\n",
    "n = np.size(X[1])+1                          # no of features in X + 1 for X0 term which will be added\n",
    "initial_Theta = np.zeros((1,n),dtype=float)  # initialize theta vector with all 0's\n",
    "iterations = 4                             # best value of iteration from graph\n",
    "optimized_theta,cost_history=GradientDescent(x=X_train,y=Y_train,theta=initial_Theta,alpha=alpha,num_iterations=iterations)\n",
    "print(\"Optimal value of theta\\n\")\n",
    "print(optimized_theta)\n",
    "print(\"-------------------------------------\")\n",
    "print(\"final Mean squared error: %.9f \\n\" %cost_history[-1])"
   ]
  },
  {
   "cell_type": "markdown",
   "metadata": {},
   "source": [
    "# Predicting Y from X in test Set(X_test):\n",
    "\n",
    "        first checking with a single test case\n",
    "        Here we will be predicting for the 10th example(row) in the test set"
   ]
  },
  {
   "cell_type": "code",
   "execution_count": 19,
   "metadata": {},
   "outputs": [
    {
     "data": {
      "text/plain": [
       "array([[ 1.    , 21.279 ],\n",
       "       [ 1.    ,  5.4069],\n",
       "       [ 1.    ,  5.3054],\n",
       "       [ 1.    ,  6.4296],\n",
       "       [ 1.    ,  5.1884]])"
      ]
     },
     "execution_count": 19,
     "metadata": {},
     "output_type": "execute_result"
    }
   ],
   "source": [
    "finalX_test = addX0(X_test) # the bias/intercept term from theta0 , X0 needs to be added\n",
    "finalX_test[0:5]        "
   ]
  },
  {
   "cell_type": "code",
   "execution_count": 20,
   "metadata": {},
   "outputs": [
    {
     "data": {
      "text/plain": [
       "17.929000000000002"
      ]
     },
     "execution_count": 20,
     "metadata": {},
     "output_type": "execute_result"
    }
   ],
   "source": [
    "actual_value = Y_test[0]\n",
    "actual_value"
   ]
  },
  {
   "cell_type": "markdown",
   "metadata": {},
   "source": [
    "# Making Predictions of Y given the value of X:\n",
    "\n",
    "        pred = X * Theta; where X is (mXn) Matrix and theta is (nX1) column vector\n",
    "        The result will be a mX1 vector , where m is no of rows in X\n",
    "        Here :\n",
    "        X = (1X2) matrix ; a single row from X_test  \n",
    "        optimized_theta = (2X1) column vector"
   ]
  },
  {
   "cell_type": "code",
   "execution_count": 21,
   "metadata": {},
   "outputs": [
    {
     "data": {
      "text/plain": [
       "15.229997517006257"
      ]
     },
     "execution_count": 21,
     "metadata": {},
     "output_type": "execute_result"
    }
   ],
   "source": [
    "predicted_value = finalX_test[0] @ optimized_theta\n",
    "predicted_value[0]"
   ]
  },
  {
   "cell_type": "markdown",
   "metadata": {},
   "source": [
    "# Prediction for entire Test set and ploting it as the best fit line"
   ]
  },
  {
   "cell_type": "code",
   "execution_count": 22,
   "metadata": {},
   "outputs": [],
   "source": [
    "rows = len(finalX_test)\n",
    "pred = np.zeros((rows),dtype=float)\n",
    "pred               \n",
    "for i in range(rows):\n",
    "    pred[i] = finalX_test[i] @ optimized_theta"
   ]
  },
  {
   "cell_type": "code",
   "execution_count": 23,
   "metadata": {},
   "outputs": [
    {
     "data": {
      "text/plain": [
       "Text(0.5,1,'Linear Regression without feature scaling')"
      ]
     },
     "execution_count": 23,
     "metadata": {},
     "output_type": "execute_result"
    },
    {
     "data": {
      "image/png": "[encoded data removed]",
      "text/plain": [
       "<Figure size 1000x400 with 1 Axes>"
      ]
     },
     "metadata": {},
     "output_type": "display_data"
    }
   ],
   "source": [
    "my_dpi = 100 # dots per inch .. (resolution)\n",
    "plt.figure(figsize=(1000/my_dpi, 400/my_dpi), dpi = my_dpi) # to enlarge the plot (can be omitted)\n",
    "\n",
    "Testsetplt=plt.scatter(X_test,Y_test,color='r',s=5, label = 'Test set(xi,yi)')\n",
    "bestfitline=plt.plot(X_test,pred,linewidth = 0.5,label = 'prediction(yi)=theta0 + theta1*xi')\n",
    "plt.xlabel('X (Features)')\n",
    "plt.ylabel('Y (Actual Values)')\n",
    "plt.legend()\n",
    "plt.title(\"Linear Regression without feature scaling\")"
   ]
  },
  {
   "cell_type": "markdown",
   "metadata": {},
   "source": [
    "# Feature Scaling:\n",
    "\n",
    "    Linear Regression uses Gradient descent for minimizing the cost function\n",
    "\n",
    "    Theta = Theta - alpha * [ (1/M) * sum{ (h(xi)-yi) * X(i,j) } ]\n",
    "\n",
    "    The presence of feature value X in the formula will affect the step size of the gradient descent.\n",
    "    The difference in ranges of features will cause different step sizes for each feature.\n",
    "    To ensure that the gradient descent moves smoothly towards the minima and that the steps for gradient descent\n",
    "    are updated at the same rate for all the features, we scale the data before feeding it to the model.\n",
    "\n",
    "    we are going to use Feature Standardization\n",
    "\n",
    "    Standardization is scaling technique where the values are centered around the mean with a unit standard deviation.\n",
    "    This means that the mean of the attribute becomes zero and the resultant distribution has a unit standard deviation.\n",
    "        \n",
    "        xk' = (xk - mean(x))/std(x) ; where xk is a value of feature x, xk' is the scaled value for xk\n",
    "                                      mean(x): mean of all values under feature x\n",
    "                                      std(x): standard deviation of all values under feature x"
   ]
  },
  {
   "cell_type": "code",
   "execution_count": 24,
   "metadata": {},
   "outputs": [],
   "source": [
    "def calculate_Mean(x):\n",
    "    return sum(x)/len(x)"
   ]
  },
  {
   "cell_type": "markdown",
   "metadata": {},
   "source": [
    "# std deviation formula:\n",
    "\n",
    "    Std div = square root of varience\n",
    "    varience = calculate the Mean of all numbers\n",
    "               Then for each number: subtract the Mean and square the Difference\n",
    "               Then add all the squared differences and divide by total numbers -1(mean of the Squared difference)\n",
    "               Note :the std_div formula i saw had N-1 hence i am implementing according to formula"
   ]
  },
  {
   "cell_type": "code",
   "execution_count": 25,
   "metadata": {},
   "outputs": [],
   "source": [
    "def calculate_StdDiv(x):\n",
    "    mean = calculate_Mean(x)\n",
    "    sum_sq_diff = 0\n",
    "    for xi in x:\n",
    "        diff = xi - mean\n",
    "        sum_sq_diff += pow(diff,2)\n",
    "    \n",
    "    varience = sum_sq_diff/(len(x)-1)\n",
    "    std_div = math.sqrt(varience)\n",
    "    \n",
    "    return std_div"
   ]
  },
  {
   "cell_type": "code",
   "execution_count": 26,
   "metadata": {},
   "outputs": [
    {
     "data": {
      "text/plain": [
       "8.159800000000002"
      ]
     },
     "execution_count": 26,
     "metadata": {},
     "output_type": "execute_result"
    }
   ],
   "source": [
    "mean = calculate_Mean(X)\n",
    "mean"
   ]
  },
  {
   "cell_type": "code",
   "execution_count": 27,
   "metadata": {},
   "outputs": [
    {
     "data": {
      "text/plain": [
       "3.8698835278823314"
      ]
     },
     "execution_count": 27,
     "metadata": {},
     "output_type": "execute_result"
    }
   ],
   "source": [
    "a = calculate_StdDiv(X)\n",
    "a"
   ]
  },
  {
   "cell_type": "markdown",
   "metadata": {},
   "source": [
    "# Function For Scaling The Features"
   ]
  },
  {
   "cell_type": "code",
   "execution_count": 28,
   "metadata": {},
   "outputs": [],
   "source": [
    "def Standard_Scaler(X):\n",
    "    \n",
    "    X_scaled = np.zeros(X.shape,dtype=float)\n",
    "    no_of_rows = len(X)\n",
    "    mean = calculate_Mean(X)\n",
    "    std_div = calculate_StdDiv(X)\n",
    "    \n",
    "    for i in range(no_of_rows):\n",
    "        X_scaled[i] = ( X[i] - mean )/std_div\n",
    "        \n",
    "    return X_scaled   "
   ]
  },
  {
   "cell_type": "code",
   "execution_count": 29,
   "metadata": {},
   "outputs": [
    {
     "data": {
      "text/plain": [
       "array([6.1101, 5.5277, 8.5186, 7.0032, 5.8598])"
      ]
     },
     "execution_count": 29,
     "metadata": {},
     "output_type": "execute_result"
    }
   ],
   "source": [
    "X[0:5]"
   ]
  },
  {
   "cell_type": "code",
   "execution_count": 30,
   "metadata": {},
   "outputs": [
    {
     "data": {
      "text/plain": [
       "array([-0.52965418, -0.68014967,  0.09271597, -0.29887204, -0.59433313,\n",
       "        0.05765031, -0.17659446,  0.10809111, -0.4324678 , -0.80240141,\n",
       "       -0.63286142,  1.55151956, -0.62684057,  0.06423966, -0.65094982,\n",
       "       -0.71847124, -0.46368321, -0.78289178, -0.44709356, -0.28140382,\n",
       "       -0.50924013,  3.12934483, -0.68986572, -0.47383855, -0.67053698,\n",
       "        2.78695726,  1.20628953,  0.72281245,  1.29621472,  3.62884306,\n",
       "       -0.75128876, -0.40580033,  0.28124877, -0.58606415,  0.01325621,\n",
       "       -0.05850305, -0.01651212, -0.65983898,  1.20835678, -0.46678407,\n",
       "       -0.71136508, -0.33006161,  0.91687514, -0.61658186, -0.08659175,\n",
       "       -0.27564137, -0.79837028, -0.60942403,  0.91480789, -0.67655783,\n",
       "       -0.16010818, -0.73699893, -0.19016076, -0.14385446, -0.47210723,\n",
       "       -0.46536284, -0.48724981, -0.65120823,  0.29726993,  0.33432531,\n",
       "        0.17199484, -0.77017822,  3.39007619,  1.74377341,  2.79057494,\n",
       "       -0.24331482,  0.03496229,  0.53650193, -0.68746255,  3.14769163,\n",
       "        0.51066136, -0.21326223, -0.55650254, -0.24132509, -0.80955925,\n",
       "       -0.41652416, -0.16052163, -0.80707855,  0.54632135, -0.78868007,\n",
       "       -0.62808092, -0.76782673, -0.46618974,  0.41574895, -0.42479315,\n",
       "        0.0923542 ,  0.26367719, -0.55758784, -0.68203603, -0.80116106,\n",
       "       -0.63363664, -0.13519787, -0.59151651, -0.73759326,  0.034523  ,\n",
       "        1.35254717, -0.70361291])"
      ]
     },
     "execution_count": 30,
     "metadata": {},
     "output_type": "execute_result"
    }
   ],
   "source": [
    "X_scaled = Standard_Scaler(X)\n",
    "X_scaled"
   ]
  },
  {
   "cell_type": "markdown",
   "metadata": {},
   "source": [
    "# Dividing the scaled features and actual values into training and test sets"
   ]
  },
  {
   "cell_type": "code",
   "execution_count": 31,
   "metadata": {},
   "outputs": [],
   "source": [
    "X_train_scld,X_test_scld,Y_train,Y_test = train_test_split(X_scaled,Y,test_size = 0.3,random_state = 42)"
   ]
  },
  {
   "cell_type": "markdown",
   "metadata": {},
   "source": [
    "# Running Gradient descent on scaled features:\n",
    "\n",
    "        here learning rate is initialized with a higher value (0.005 to 0.02) as X is now scaled \n",
    "        thus changes in X will not change the theta value too much hence with alpha = 0.005\n",
    "        gradient decent would require more iterations \n",
    "        alpha can be 0.03 ,0.05, 0.1, 0.5 ,1 in order to reduce the number of iterations required,\n",
    "        however with higher alpha value gradient descent may diverge quickly \n",
    "        (one can initialize alpha with different value and select the one which suitd the model best)"
   ]
  },
  {
   "cell_type": "code",
   "execution_count": 32,
   "metadata": {},
   "outputs": [
    {
     "name": "stdout",
     "output_type": "stream",
     "text": [
      "Theta value we got after 100 iteration\n",
      "\n",
      "[[5.05349076]\n",
      " [4.26621497]]\n",
      "-------------------------------------\n",
      "change in cost with iteration\n",
      "\n",
      "[6.11901761e-01 5.78491433e-01 5.46663657e-01 5.16350283e-01\n",
      " 4.87485983e-01 4.60008133e-01 4.33856703e-01 4.08974156e-01\n",
      " 3.85305342e-01 3.62797401e-01 3.41399673e-01 3.21063606e-01\n",
      " 3.01742672e-01 2.83392280e-01 2.65969704e-01 2.49434002e-01\n",
      " 2.33745942e-01 2.18867937e-01 2.04763976e-01 1.91399556e-01\n",
      " 1.78741627e-01 1.66758525e-01 1.55419922e-01 1.44696767e-01\n",
      " 1.34561236e-01 1.24986680e-01 1.15947577e-01 1.07419488e-01\n",
      " 9.93790090e-02 9.18037317e-02 8.46722003e-02 7.79638735e-02\n",
      " 7.16590863e-02 6.57390140e-02 6.01856378e-02 5.49817113e-02\n",
      " 5.01107287e-02 4.55568940e-02 4.13050920e-02 3.73408598e-02\n",
      " 3.36503600e-02 3.02203547e-02 2.70381805e-02 2.40917249e-02\n",
      " 2.13694033e-02 1.88601367e-02 1.65533313e-02 1.44388579e-02\n",
      " 1.25070323e-02 1.07485973e-02 9.15470438e-03 7.71689670e-03\n",
      " 6.42709287e-03 5.27757104e-03 4.26095388e-03 3.37019407e-03\n",
      " 2.59856045e-03 1.93962467e-03 1.38724845e-03 9.35571322e-04\n",
      " 5.78998886e-04 3.12191544e-04 1.30053707e-04 2.77234362e-05\n",
      " 5.62511035e-07 4.41469089e-05 1.54257674e-04 3.26872164e-04\n",
      " 5.58155654e-04 8.44453295e-04 1.18228239e-03 1.56832501e-03\n",
      " 1.99942088e-03 2.47256061e-03 2.98487918e-03 3.53364964e-03\n",
      " 4.11627720e-03 4.73029344e-03 5.37335081e-03 6.04321739e-03\n",
      " 6.73777182e-03 7.45499843e-03 8.19298267e-03 8.94990659e-03\n",
      " 9.72404460e-03 1.05137594e-02 1.13174982e-02 1.21337885e-02\n",
      " 1.29612352e-02 1.37985166e-02 1.46443813e-02 1.54976452e-02\n",
      " 1.63571881e-02 1.72219512e-02 1.80909341e-02 1.89631920e-02\n",
      " 1.98378337e-02 2.07140186e-02 2.15909545e-02 2.24678957e-02]\n"
     ]
    }
   ],
   "source": [
    "alpha = 0.02\n",
    "n = np.size(X[1])+1                          # no of features in X + 1 for X0 term which will be added\n",
    "initial_Theta = np.zeros((1,n),dtype=float)  # initialize theta vector with all 0's\n",
    "iterations = 100\n",
    "theta,cost_history=GradientDescent(x=X_train_scld,y=Y_train,theta=initial_Theta,alpha=alpha,num_iterations=iterations)\n",
    "print(\"Theta value we got after 100 iteration\\n\")\n",
    "print(theta)\n",
    "print(\"-------------------------------------\")\n",
    "print(\"change in cost with iteration\\n\")\n",
    "print(cost_history)"
   ]
  },
  {
   "cell_type": "markdown",
   "metadata": {},
   "source": [
    "# Find the optimal num of iterations required for Convergence:"
   ]
  },
  {
   "cell_type": "code",
   "execution_count": 33,
   "metadata": {},
   "outputs": [
    {
     "data": {
      "image/png": "[encoded data removed]",
      "text/plain": [
       "<Figure size 1000x400 with 1 Axes>"
      ]
     },
     "metadata": {},
     "output_type": "display_data"
    }
   ],
   "source": [
    "my_dpi = 100 # dots per inch .. (resolution)\n",
    "plt.figure(figsize=(1000/my_dpi, 400/my_dpi), dpi = my_dpi) # to enlarge the plot (can be omitted)\n",
    "\n",
    "plt.plot(np.arange(0,iterations,step=1),cost_history,linewidth=1,label=\"mean sq error\")\n",
    "plt.xticks(np.arange(0,iterations,step=5))\n",
    "plt.xlabel('Iterations')\n",
    "plt.ylabel('Mean squared error')\n",
    "plt.legend()\n",
    "plt.grid()"
   ]
  },
  {
   "cell_type": "markdown",
   "metadata": {},
   "source": [
    "# Trying to visualize the covergence point better"
   ]
  },
  {
   "cell_type": "code",
   "execution_count": 34,
   "metadata": {},
   "outputs": [
    {
     "data": {
      "image/png": "[encoded data removed]",
      "text/plain": [
       "<Figure size 1000x400 with 1 Axes>"
      ]
     },
     "metadata": {},
     "output_type": "display_data"
    }
   ],
   "source": [
    "my_dpi = 100 # dots per inch .. (resolution)\n",
    "plt.figure(figsize=(1000/my_dpi, 400/my_dpi), dpi = my_dpi) # to enlarge the plot (can be omitted)\n",
    "\n",
    "plt.plot(np.arange(55,70,step=1),cost_history[55:70],linewidth=1,label=\"mean Sq error\")\n",
    "plt.xticks(np.arange(55,70,step=1))\n",
    "plt.xlabel('Iterations')\n",
    "plt.ylabel('Mean squared error')\n",
    "plt.ylim(0,0.005)\n",
    "plt.yticks(np.arange(0,0.005,step=0.001))\n",
    "plt.legend()\n",
    "plt.grid()"
   ]
  },
  {
   "cell_type": "markdown",
   "metadata": {},
   "source": [
    "# Inference :\n",
    "\n",
    "    we see after on 65th iteration(as interation starts from 0) the error is minimum, and increases again \n",
    "    when iterations are increased.\n",
    "    Hence we select number of iterations = 65"
   ]
  },
  {
   "cell_type": "code",
   "execution_count": 35,
   "metadata": {},
   "outputs": [
    {
     "name": "stdout",
     "output_type": "stream",
     "text": [
      "Optimal value of theta\n",
      "\n",
      "[[4.28119483]\n",
      " [3.58643217]]\n",
      "-------------------------------------\n",
      "final Mean squared error: 0.000000563 \n",
      "\n"
     ]
    }
   ],
   "source": [
    "alpha = 0.02\n",
    "n = np.size(X[1])+1                          # no of features in X + 1 for X0 term which will be added\n",
    "initial_Theta = np.zeros((1,n),dtype=float)  # initialize theta vector with all 0's\n",
    "iterations = 65                              # best value of iteration from graph\n",
    "optimized_theta,cost_history=GradientDescent(x=X_train_scld,y=Y_train,theta=initial_Theta,alpha=alpha,num_iterations=iterations)\n",
    "print(\"Optimal value of theta\\n\")\n",
    "print(optimized_theta)\n",
    "print(\"-------------------------------------\")\n",
    "print(\"final Mean squared error: %.9f \\n\" %cost_history[-1])\n"
   ]
  },
  {
   "cell_type": "markdown",
   "metadata": {},
   "source": [
    "# Predicting Y from X in test Set(X_test):\n",
    "\n",
    "        first checking with a single test case\n",
    "        Here we will be predicting for the 10th example(row) in the test set"
   ]
  },
  {
   "cell_type": "code",
   "execution_count": 36,
   "metadata": {},
   "outputs": [
    {
     "data": {
      "text/plain": [
       "array([[ 1.        ,  3.39007619],\n",
       "       [ 1.        , -0.71136508],\n",
       "       [ 1.        , -0.73759326],\n",
       "       [ 1.        , -0.44709356],\n",
       "       [ 1.        , -0.76782673]])"
      ]
     },
     "execution_count": 36,
     "metadata": {},
     "output_type": "execute_result"
    }
   ],
   "source": [
    "finalX_test_scaled = addX0(X_test_scld) # the bias/intercept term from theta0 , X0 needs to be added\n",
    "finalX_test_scaled[0:5] "
   ]
  },
  {
   "cell_type": "code",
   "execution_count": 37,
   "metadata": {},
   "outputs": [
    {
     "data": {
      "text/plain": [
       "17.929000000000002"
      ]
     },
     "execution_count": 37,
     "metadata": {},
     "output_type": "execute_result"
    }
   ],
   "source": [
    "actual_value = Y_test[0]\n",
    "actual_value"
   ]
  },
  {
   "cell_type": "markdown",
   "metadata": {},
   "source": [
    "# Making Prediction of Y given the value of X:\n",
    "\n",
    "        pred = X * Theta; where X is (mXn) Matrix and theta is (nX1) column vector\n",
    "        The result will be a mX1 vector , where m is no of rows in X\n",
    "        Here :\n",
    "        X = (1X2) matrix ; a single row from X_test  \n",
    "        optimized_theta = (2X1) column vector"
   ]
  },
  {
   "cell_type": "code",
   "execution_count": 38,
   "metadata": {},
   "outputs": [
    {
     "data": {
      "text/plain": [
       "16.439473124090856"
      ]
     },
     "execution_count": 38,
     "metadata": {},
     "output_type": "execute_result"
    }
   ],
   "source": [
    "predicted_value = finalX_test_scaled[0] @ optimized_theta\n",
    "predicted_value[0]"
   ]
  },
  {
   "cell_type": "markdown",
   "metadata": {},
   "source": [
    "# Prediction for entire Test set and ploting it as the best fit line"
   ]
  },
  {
   "cell_type": "code",
   "execution_count": 39,
   "metadata": {},
   "outputs": [],
   "source": [
    "rows = len(finalX_test_scaled)\n",
    "pred = np.zeros((rows),dtype=float)\n",
    "pred               \n",
    "for i in range(rows):\n",
    "    pred[i] = finalX_test_scaled[i] @ optimized_theta"
   ]
  },
  {
   "cell_type": "code",
   "execution_count": 40,
   "metadata": {},
   "outputs": [
    {
     "data": {
      "text/plain": [
       "<matplotlib.legend.Legend at 0x6d9fc6e240>"
      ]
     },
     "execution_count": 40,
     "metadata": {},
     "output_type": "execute_result"
    },
    {
     "data": {
      "image/png": "[encoded data removed]",
      "text/plain": [
       "<Figure size 1000x400 with 1 Axes>"
      ]
     },
     "metadata": {},
     "output_type": "display_data"
    }
   ],
   "source": [
    "my_dpi = 100 # dots per inch .. (resolution)\n",
    "plt.figure(figsize=(1000/my_dpi, 400/my_dpi), dpi = my_dpi) # to enlarge the plot (can be omitted)\n",
    "\n",
    "plt.scatter(X_test_scld,Y_test,color='r',s=5,label = 'Test set(xi,yi)')\n",
    "plt.plot(X_test_scld,pred,'g-',linewidth=0.5,label = 'prediction(yi)=theta0 + theta1*xi')\n",
    "plt.xlabel(\"X (Scaled_features)\")\n",
    "plt.ylabel('Y (Actual values)')\n",
    "plt.title('Linear Regression with Feature scaling')\n",
    "plt.legend()"
   ]
  },
  {
   "cell_type": "markdown",
   "metadata": {},
   "source": [
    "# Entension / Future works:\n",
    "\n",
    "        The above is an example of single variable Linear Regression , so with minor modifications one can change this code \n",
    "        to supoort multi variable Linear regression.\n",
    "        The feature scaling method used here is Stadardization\n",
    "        one can also use a normalization for feature scaling depending on the data set they use."
   ]
  },
  {
   "cell_type": "code",
   "execution_count": null,
   "metadata": {},
   "outputs": [],
   "source": []
  }
 ],
 "metadata": {
  "kernelspec": {
   "display_name": "Python 3",
   "language": "python",
   "name": "python3"
  },
  "language_info": {
   "codemirror_mode": {
    "name": "ipython",
    "version": 3
   },
   "file_extension": ".py",
   "mimetype": "text/x-python",
   "name": "python",
   "nbconvert_exporter": "python",
   "pygments_lexer": "ipython3",
   "version": "3.6.5"
  }
 },
 "nbformat": 4,
 "nbformat_minor": 2
}
