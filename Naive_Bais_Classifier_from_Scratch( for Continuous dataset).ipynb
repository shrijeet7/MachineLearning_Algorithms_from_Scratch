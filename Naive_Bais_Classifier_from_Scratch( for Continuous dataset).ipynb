{
 "cells": [
  {
   "cell_type": "markdown",
   "metadata": {},
   "source": [
    "# Imports"
   ]
  },
  {
   "cell_type": "code",
   "execution_count": 1,
   "metadata": {},
   "outputs": [],
   "source": [
    "import numpy as np\n",
    "import pandas as pd\n",
    "import math\n",
    "\n",
    "from sklearn.model_selection import train_test_split\n",
    "from sklearn.metrics import accuracy_score\n",
    "from sklearn.metrics import confusion_matrix \n",
    "from sklearn.metrics import precision_score\n",
    "from sklearn.metrics import recall_score\n",
    "from sklearn.metrics import f1_score"
   ]
  },
  {
   "cell_type": "markdown",
   "metadata": {},
   "source": [
    "#  Requirements in Naive Bayesian Classifier:\n",
    "\n",
    "    1: Separate Dataset By Class.\n",
    "    2: calculate mean and std_div of given column\n",
    "    3: calculate mean and std_div of each column(feature) based on which class they belong in detaset.\n",
    "    4: Gaussian Probability Density calculation for each attribute in a tupple (as we will use continuous data).\n",
    "    5: calculate Class Probabilities and select class with max probability as predicted class."
   ]
  },
  {
   "cell_type": "markdown",
   "metadata": {},
   "source": [
    "# Using public Dataset (continuous data)\n",
    "        \n",
    "        Dataset used : Iris\n",
    "        Description :\n",
    "                     150 rows / examples \n",
    "                     5 coloumn (4 features , 1 class label)\n",
    "                     feature: Sepal-Length\tSepal-Width\tPetal-Length\tPetal-Width\n",
    "                     3 classes : Iris-setosa , iris-versicolor , iris-virginica"
   ]
  },
  {
   "cell_type": "code",
   "execution_count": 2,
   "metadata": {},
   "outputs": [
    {
     "data": {
      "text/html": [
       "<div>\n",
       "<style scoped>\n",
       "    .dataframe tbody tr th:only-of-type {\n",
       "        vertical-align: middle;\n",
       "    }\n",
       "\n",
       "    .dataframe tbody tr th {\n",
       "        vertical-align: top;\n",
       "    }\n",
       "\n",
       "    .dataframe thead th {\n",
       "        text-align: right;\n",
       "    }\n",
       "</style>\n",
       "<table border=\"1\" class=\"dataframe\">\n",
       "  <thead>\n",
       "    <tr style=\"text-align: right;\">\n",
       "      <th></th>\n",
       "      <th>Id</th>\n",
       "      <th>SepalLengthCm</th>\n",
       "      <th>SepalWidthCm</th>\n",
       "      <th>PetalLengthCm</th>\n",
       "      <th>PetalWidthCm</th>\n",
       "      <th>Species</th>\n",
       "    </tr>\n",
       "  </thead>\n",
       "  <tbody>\n",
       "    <tr>\n",
       "      <th>0</th>\n",
       "      <td>1</td>\n",
       "      <td>5.1</td>\n",
       "      <td>3.5</td>\n",
       "      <td>1.4</td>\n",
       "      <td>0.2</td>\n",
       "      <td>Iris-setosa</td>\n",
       "    </tr>\n",
       "    <tr>\n",
       "      <th>1</th>\n",
       "      <td>2</td>\n",
       "      <td>4.9</td>\n",
       "      <td>3.0</td>\n",
       "      <td>1.4</td>\n",
       "      <td>0.2</td>\n",
       "      <td>Iris-setosa</td>\n",
       "    </tr>\n",
       "    <tr>\n",
       "      <th>2</th>\n",
       "      <td>3</td>\n",
       "      <td>4.7</td>\n",
       "      <td>3.2</td>\n",
       "      <td>1.3</td>\n",
       "      <td>0.2</td>\n",
       "      <td>Iris-setosa</td>\n",
       "    </tr>\n",
       "    <tr>\n",
       "      <th>3</th>\n",
       "      <td>4</td>\n",
       "      <td>4.6</td>\n",
       "      <td>3.1</td>\n",
       "      <td>1.5</td>\n",
       "      <td>0.2</td>\n",
       "      <td>Iris-setosa</td>\n",
       "    </tr>\n",
       "    <tr>\n",
       "      <th>4</th>\n",
       "      <td>5</td>\n",
       "      <td>5.0</td>\n",
       "      <td>3.6</td>\n",
       "      <td>1.4</td>\n",
       "      <td>0.2</td>\n",
       "      <td>Iris-setosa</td>\n",
       "    </tr>\n",
       "  </tbody>\n",
       "</table>\n",
       "</div>"
      ],
      "text/plain": [
       "   Id  SepalLengthCm  SepalWidthCm  PetalLengthCm  PetalWidthCm      Species\n",
       "0   1            5.1           3.5            1.4           0.2  Iris-setosa\n",
       "1   2            4.9           3.0            1.4           0.2  Iris-setosa\n",
       "2   3            4.7           3.2            1.3           0.2  Iris-setosa\n",
       "3   4            4.6           3.1            1.5           0.2  Iris-setosa\n",
       "4   5            5.0           3.6            1.4           0.2  Iris-setosa"
      ]
     },
     "execution_count": 2,
     "metadata": {},
     "output_type": "execute_result"
    }
   ],
   "source": [
    "iris = pd.read_csv('Iris.csv')\n",
    "iris.head()"
   ]
  },
  {
   "cell_type": "code",
   "execution_count": 3,
   "metadata": {},
   "outputs": [
    {
     "data": {
      "text/html": [
       "<div>\n",
       "<style scoped>\n",
       "    .dataframe tbody tr th:only-of-type {\n",
       "        vertical-align: middle;\n",
       "    }\n",
       "\n",
       "    .dataframe tbody tr th {\n",
       "        vertical-align: top;\n",
       "    }\n",
       "\n",
       "    .dataframe thead th {\n",
       "        text-align: right;\n",
       "    }\n",
       "</style>\n",
       "<table border=\"1\" class=\"dataframe\">\n",
       "  <thead>\n",
       "    <tr style=\"text-align: right;\">\n",
       "      <th></th>\n",
       "      <th>Id</th>\n",
       "      <th>SepalLengthCm</th>\n",
       "      <th>SepalWidthCm</th>\n",
       "      <th>PetalLengthCm</th>\n",
       "      <th>PetalWidthCm</th>\n",
       "      <th>Species</th>\n",
       "    </tr>\n",
       "  </thead>\n",
       "  <tbody>\n",
       "    <tr>\n",
       "      <th>0</th>\n",
       "      <td>1</td>\n",
       "      <td>5.1</td>\n",
       "      <td>3.5</td>\n",
       "      <td>1.4</td>\n",
       "      <td>0.2</td>\n",
       "      <td>0</td>\n",
       "    </tr>\n",
       "    <tr>\n",
       "      <th>1</th>\n",
       "      <td>2</td>\n",
       "      <td>4.9</td>\n",
       "      <td>3.0</td>\n",
       "      <td>1.4</td>\n",
       "      <td>0.2</td>\n",
       "      <td>0</td>\n",
       "    </tr>\n",
       "    <tr>\n",
       "      <th>2</th>\n",
       "      <td>3</td>\n",
       "      <td>4.7</td>\n",
       "      <td>3.2</td>\n",
       "      <td>1.3</td>\n",
       "      <td>0.2</td>\n",
       "      <td>0</td>\n",
       "    </tr>\n",
       "    <tr>\n",
       "      <th>3</th>\n",
       "      <td>4</td>\n",
       "      <td>4.6</td>\n",
       "      <td>3.1</td>\n",
       "      <td>1.5</td>\n",
       "      <td>0.2</td>\n",
       "      <td>0</td>\n",
       "    </tr>\n",
       "    <tr>\n",
       "      <th>4</th>\n",
       "      <td>5</td>\n",
       "      <td>5.0</td>\n",
       "      <td>3.6</td>\n",
       "      <td>1.4</td>\n",
       "      <td>0.2</td>\n",
       "      <td>0</td>\n",
       "    </tr>\n",
       "  </tbody>\n",
       "</table>\n",
       "</div>"
      ],
      "text/plain": [
       "   Id  SepalLengthCm  SepalWidthCm  PetalLengthCm  PetalWidthCm  Species\n",
       "0   1            5.1           3.5            1.4           0.2        0\n",
       "1   2            4.9           3.0            1.4           0.2        0\n",
       "2   3            4.7           3.2            1.3           0.2        0\n",
       "3   4            4.6           3.1            1.5           0.2        0\n",
       "4   5            5.0           3.6            1.4           0.2        0"
      ]
     },
     "execution_count": 3,
     "metadata": {},
     "output_type": "execute_result"
    }
   ],
   "source": [
    "species = {'Iris-setosa': 0,'Iris-versicolor': 1,'Iris-virginica' : 2}\n",
    "iris.Species = [species[item] for item in iris.Species]\n",
    "iris.head()"
   ]
  },
  {
   "cell_type": "code",
   "execution_count": 4,
   "metadata": {},
   "outputs": [
    {
     "data": {
      "text/html": [
       "<div>\n",
       "<style scoped>\n",
       "    .dataframe tbody tr th:only-of-type {\n",
       "        vertical-align: middle;\n",
       "    }\n",
       "\n",
       "    .dataframe tbody tr th {\n",
       "        vertical-align: top;\n",
       "    }\n",
       "\n",
       "    .dataframe thead th {\n",
       "        text-align: right;\n",
       "    }\n",
       "</style>\n",
       "<table border=\"1\" class=\"dataframe\">\n",
       "  <thead>\n",
       "    <tr style=\"text-align: right;\">\n",
       "      <th></th>\n",
       "      <th>SepalLengthCm</th>\n",
       "      <th>SepalWidthCm</th>\n",
       "      <th>PetalLengthCm</th>\n",
       "      <th>PetalWidthCm</th>\n",
       "      <th>Species</th>\n",
       "    </tr>\n",
       "  </thead>\n",
       "  <tbody>\n",
       "    <tr>\n",
       "      <th>0</th>\n",
       "      <td>5.1</td>\n",
       "      <td>3.5</td>\n",
       "      <td>1.4</td>\n",
       "      <td>0.2</td>\n",
       "      <td>0</td>\n",
       "    </tr>\n",
       "    <tr>\n",
       "      <th>1</th>\n",
       "      <td>4.9</td>\n",
       "      <td>3.0</td>\n",
       "      <td>1.4</td>\n",
       "      <td>0.2</td>\n",
       "      <td>0</td>\n",
       "    </tr>\n",
       "    <tr>\n",
       "      <th>2</th>\n",
       "      <td>4.7</td>\n",
       "      <td>3.2</td>\n",
       "      <td>1.3</td>\n",
       "      <td>0.2</td>\n",
       "      <td>0</td>\n",
       "    </tr>\n",
       "    <tr>\n",
       "      <th>3</th>\n",
       "      <td>4.6</td>\n",
       "      <td>3.1</td>\n",
       "      <td>1.5</td>\n",
       "      <td>0.2</td>\n",
       "      <td>0</td>\n",
       "    </tr>\n",
       "    <tr>\n",
       "      <th>4</th>\n",
       "      <td>5.0</td>\n",
       "      <td>3.6</td>\n",
       "      <td>1.4</td>\n",
       "      <td>0.2</td>\n",
       "      <td>0</td>\n",
       "    </tr>\n",
       "  </tbody>\n",
       "</table>\n",
       "</div>"
      ],
      "text/plain": [
       "   SepalLengthCm  SepalWidthCm  PetalLengthCm  PetalWidthCm  Species\n",
       "0            5.1           3.5            1.4           0.2        0\n",
       "1            4.9           3.0            1.4           0.2        0\n",
       "2            4.7           3.2            1.3           0.2        0\n",
       "3            4.6           3.1            1.5           0.2        0\n",
       "4            5.0           3.6            1.4           0.2        0"
      ]
     },
     "execution_count": 4,
     "metadata": {},
     "output_type": "execute_result"
    }
   ],
   "source": [
    "iris = iris[['SepalLengthCm','SepalWidthCm','PetalLengthCm','PetalWidthCm','Species']] # dropping the id col as not needed\n",
    "iris.head()"
   ]
  },
  {
   "cell_type": "code",
   "execution_count": 5,
   "metadata": {},
   "outputs": [
    {
     "name": "stdout",
     "output_type": "stream",
     "text": [
      "<class 'pandas.core.frame.DataFrame'>\n",
      "RangeIndex: 150 entries, 0 to 149\n",
      "Data columns (total 5 columns):\n",
      "SepalLengthCm    150 non-null float64\n",
      "SepalWidthCm     150 non-null float64\n",
      "PetalLengthCm    150 non-null float64\n",
      "PetalWidthCm     150 non-null float64\n",
      "Species          150 non-null int64\n",
      "dtypes: float64(4), int64(1)\n",
      "memory usage: 5.9 KB\n"
     ]
    }
   ],
   "source": [
    "iris.info()"
   ]
  },
  {
   "cell_type": "code",
   "execution_count": 6,
   "metadata": {},
   "outputs": [
    {
     "data": {
      "text/html": [
       "<div>\n",
       "<style scoped>\n",
       "    .dataframe tbody tr th:only-of-type {\n",
       "        vertical-align: middle;\n",
       "    }\n",
       "\n",
       "    .dataframe tbody tr th {\n",
       "        vertical-align: top;\n",
       "    }\n",
       "\n",
       "    .dataframe thead th {\n",
       "        text-align: right;\n",
       "    }\n",
       "</style>\n",
       "<table border=\"1\" class=\"dataframe\">\n",
       "  <thead>\n",
       "    <tr style=\"text-align: right;\">\n",
       "      <th></th>\n",
       "      <th>SepalLengthCm</th>\n",
       "      <th>SepalWidthCm</th>\n",
       "      <th>PetalLengthCm</th>\n",
       "      <th>PetalWidthCm</th>\n",
       "      <th>Species</th>\n",
       "    </tr>\n",
       "  </thead>\n",
       "  <tbody>\n",
       "    <tr>\n",
       "      <th>count</th>\n",
       "      <td>150.000000</td>\n",
       "      <td>150.000000</td>\n",
       "      <td>150.000000</td>\n",
       "      <td>150.000000</td>\n",
       "      <td>150.000000</td>\n",
       "    </tr>\n",
       "    <tr>\n",
       "      <th>mean</th>\n",
       "      <td>5.843333</td>\n",
       "      <td>3.054000</td>\n",
       "      <td>3.758667</td>\n",
       "      <td>1.198667</td>\n",
       "      <td>1.000000</td>\n",
       "    </tr>\n",
       "    <tr>\n",
       "      <th>std</th>\n",
       "      <td>0.828066</td>\n",
       "      <td>0.433594</td>\n",
       "      <td>1.764420</td>\n",
       "      <td>0.763161</td>\n",
       "      <td>0.819232</td>\n",
       "    </tr>\n",
       "    <tr>\n",
       "      <th>min</th>\n",
       "      <td>4.300000</td>\n",
       "      <td>2.000000</td>\n",
       "      <td>1.000000</td>\n",
       "      <td>0.100000</td>\n",
       "      <td>0.000000</td>\n",
       "    </tr>\n",
       "    <tr>\n",
       "      <th>25%</th>\n",
       "      <td>5.100000</td>\n",
       "      <td>2.800000</td>\n",
       "      <td>1.600000</td>\n",
       "      <td>0.300000</td>\n",
       "      <td>0.000000</td>\n",
       "    </tr>\n",
       "    <tr>\n",
       "      <th>50%</th>\n",
       "      <td>5.800000</td>\n",
       "      <td>3.000000</td>\n",
       "      <td>4.350000</td>\n",
       "      <td>1.300000</td>\n",
       "      <td>1.000000</td>\n",
       "    </tr>\n",
       "    <tr>\n",
       "      <th>75%</th>\n",
       "      <td>6.400000</td>\n",
       "      <td>3.300000</td>\n",
       "      <td>5.100000</td>\n",
       "      <td>1.800000</td>\n",
       "      <td>2.000000</td>\n",
       "    </tr>\n",
       "    <tr>\n",
       "      <th>max</th>\n",
       "      <td>7.900000</td>\n",
       "      <td>4.400000</td>\n",
       "      <td>6.900000</td>\n",
       "      <td>2.500000</td>\n",
       "      <td>2.000000</td>\n",
       "    </tr>\n",
       "  </tbody>\n",
       "</table>\n",
       "</div>"
      ],
      "text/plain": [
       "       SepalLengthCm  SepalWidthCm  PetalLengthCm  PetalWidthCm     Species\n",
       "count     150.000000    150.000000     150.000000    150.000000  150.000000\n",
       "mean        5.843333      3.054000       3.758667      1.198667    1.000000\n",
       "std         0.828066      0.433594       1.764420      0.763161    0.819232\n",
       "min         4.300000      2.000000       1.000000      0.100000    0.000000\n",
       "25%         5.100000      2.800000       1.600000      0.300000    0.000000\n",
       "50%         5.800000      3.000000       4.350000      1.300000    1.000000\n",
       "75%         6.400000      3.300000       5.100000      1.800000    2.000000\n",
       "max         7.900000      4.400000       6.900000      2.500000    2.000000"
      ]
     },
     "execution_count": 6,
     "metadata": {},
     "output_type": "execute_result"
    }
   ],
   "source": [
    "iris.describe()  # just to comapre the results we will get below"
   ]
  },
  {
   "cell_type": "code",
   "execution_count": 7,
   "metadata": {},
   "outputs": [
    {
     "data": {
      "text/html": [
       "<div>\n",
       "<style scoped>\n",
       "    .dataframe tbody tr th:only-of-type {\n",
       "        vertical-align: middle;\n",
       "    }\n",
       "\n",
       "    .dataframe tbody tr th {\n",
       "        vertical-align: top;\n",
       "    }\n",
       "\n",
       "    .dataframe thead th {\n",
       "        text-align: right;\n",
       "    }\n",
       "</style>\n",
       "<table border=\"1\" class=\"dataframe\">\n",
       "  <thead>\n",
       "    <tr style=\"text-align: right;\">\n",
       "      <th></th>\n",
       "      <th>SepalLengthCm</th>\n",
       "      <th>SepalWidthCm</th>\n",
       "      <th>PetalLengthCm</th>\n",
       "      <th>PetalWidthCm</th>\n",
       "    </tr>\n",
       "    <tr>\n",
       "      <th>Species</th>\n",
       "      <th></th>\n",
       "      <th></th>\n",
       "      <th></th>\n",
       "      <th></th>\n",
       "    </tr>\n",
       "  </thead>\n",
       "  <tbody>\n",
       "    <tr>\n",
       "      <th>0</th>\n",
       "      <td>50</td>\n",
       "      <td>50</td>\n",
       "      <td>50</td>\n",
       "      <td>50</td>\n",
       "    </tr>\n",
       "    <tr>\n",
       "      <th>1</th>\n",
       "      <td>50</td>\n",
       "      <td>50</td>\n",
       "      <td>50</td>\n",
       "      <td>50</td>\n",
       "    </tr>\n",
       "    <tr>\n",
       "      <th>2</th>\n",
       "      <td>50</td>\n",
       "      <td>50</td>\n",
       "      <td>50</td>\n",
       "      <td>50</td>\n",
       "    </tr>\n",
       "  </tbody>\n",
       "</table>\n",
       "</div>"
      ],
      "text/plain": [
       "         SepalLengthCm  SepalWidthCm  PetalLengthCm  PetalWidthCm\n",
       "Species                                                          \n",
       "0                   50            50             50            50\n",
       "1                   50            50             50            50\n",
       "2                   50            50             50            50"
      ]
     },
     "execution_count": 7,
     "metadata": {},
     "output_type": "execute_result"
    }
   ],
   "source": [
    "d = iris.groupby('Species').count()\n",
    "d"
   ]
  },
  {
   "cell_type": "markdown",
   "metadata": {},
   "source": [
    "# converting the Dataframe into Numpy array:\n",
    "\n",
    "    ( easier and simpler for calculations )"
   ]
  },
  {
   "cell_type": "code",
   "execution_count": 8,
   "metadata": {},
   "outputs": [
    {
     "data": {
      "text/plain": [
       "array([[5.1, 3.5, 1.4, 0.2, 0. ],\n",
       "       [4.9, 3. , 1.4, 0.2, 0. ],\n",
       "       [4.7, 3.2, 1.3, 0.2, 0. ],\n",
       "       [4.6, 3.1, 1.5, 0.2, 0. ],\n",
       "       [5. , 3.6, 1.4, 0.2, 0. ]])"
      ]
     },
     "execution_count": 8,
     "metadata": {},
     "output_type": "execute_result"
    }
   ],
   "source": [
    "Dataset = np.array(iris)\n",
    "Dataset[0:5]"
   ]
  },
  {
   "cell_type": "markdown",
   "metadata": {},
   "source": [
    "# Requirement 1:\n",
    "\n",
    "# Function Seperate the dataset according to their label and store in a dictionary"
   ]
  },
  {
   "cell_type": "code",
   "execution_count": 9,
   "metadata": {},
   "outputs": [],
   "source": [
    "def DivideByLabel(dataset): # this functions requires the dataset to contain class labels\n",
    "    Label_divided_data = dict()\n",
    "    d = len(dataset[1]) # used later to exclude the lables\n",
    "    for i in range(len(dataset)):\n",
    "        row = dataset[i]\n",
    "        label = row[-1]#last column of row has label\n",
    "        if (label not in Label_divided_data):\n",
    "            Label_divided_data[label] = list()# for each new label create a list, the label name becomes key and the list is the item \n",
    "        Label_divided_data[label].append(row[0:d-1]) # put each row in a list, whose key matches its label (exclude last column i.e class label)\n",
    "    return Label_divided_data"
   ]
  },
  {
   "cell_type": "markdown",
   "metadata": {},
   "source": [
    "# Testing Function DivideByLabel"
   ]
  },
  {
   "cell_type": "code",
   "execution_count": 10,
   "metadata": {},
   "outputs": [],
   "source": [
    "Label_divided_data = DivideByLabel(Dataset)"
   ]
  },
  {
   "cell_type": "code",
   "execution_count": 11,
   "metadata": {},
   "outputs": [
    {
     "name": "stdout",
     "output_type": "stream",
     "text": [
      "50\n",
      "50\n",
      "50\n"
     ]
    }
   ],
   "source": [
    "print(len(Label_divided_data[0])) # get no of items for key value '0'\n",
    "print(len(Label_divided_data[1])) # get no of items for key value '1'\n",
    "print(len(Label_divided_data[2])) # get no of items for key value '2'"
   ]
  },
  {
   "cell_type": "code",
   "execution_count": 12,
   "metadata": {},
   "outputs": [
    {
     "name": "stdout",
     "output_type": "stream",
     "text": [
      "0.0\n",
      "[5.1 3.5 1.4 0.2]\n",
      "[4.9 3.  1.4 0.2]\n",
      "[4.7 3.2 1.3 0.2]\n",
      "[4.6 3.1 1.5 0.2]\n",
      "[5.  3.6 1.4 0.2]\n",
      "[5.4 3.9 1.7 0.4]\n",
      "[4.6 3.4 1.4 0.3]\n",
      "[5.  3.4 1.5 0.2]\n",
      "[4.4 2.9 1.4 0.2]\n",
      "[4.9 3.1 1.5 0.1]\n",
      "[5.4 3.7 1.5 0.2]\n",
      "[4.8 3.4 1.6 0.2]\n",
      "[4.8 3.  1.4 0.1]\n",
      "[4.3 3.  1.1 0.1]\n",
      "[5.8 4.  1.2 0.2]\n",
      "[5.7 4.4 1.5 0.4]\n",
      "[5.4 3.9 1.3 0.4]\n",
      "[5.1 3.5 1.4 0.3]\n",
      "[5.7 3.8 1.7 0.3]\n",
      "[5.1 3.8 1.5 0.3]\n",
      "[5.4 3.4 1.7 0.2]\n",
      "[5.1 3.7 1.5 0.4]\n",
      "[4.6 3.6 1.  0.2]\n",
      "[5.1 3.3 1.7 0.5]\n",
      "[4.8 3.4 1.9 0.2]\n",
      "[5.  3.  1.6 0.2]\n",
      "[5.  3.4 1.6 0.4]\n",
      "[5.2 3.5 1.5 0.2]\n",
      "[5.2 3.4 1.4 0.2]\n",
      "[4.7 3.2 1.6 0.2]\n",
      "[4.8 3.1 1.6 0.2]\n",
      "[5.4 3.4 1.5 0.4]\n",
      "[5.2 4.1 1.5 0.1]\n",
      "[5.5 4.2 1.4 0.2]\n",
      "[4.9 3.1 1.5 0.1]\n",
      "[5.  3.2 1.2 0.2]\n",
      "[5.5 3.5 1.3 0.2]\n",
      "[4.9 3.1 1.5 0.1]\n",
      "[4.4 3.  1.3 0.2]\n",
      "[5.1 3.4 1.5 0.2]\n",
      "[5.  3.5 1.3 0.3]\n",
      "[4.5 2.3 1.3 0.3]\n",
      "[4.4 3.2 1.3 0.2]\n",
      "[5.  3.5 1.6 0.6]\n",
      "[5.1 3.8 1.9 0.4]\n",
      "[4.8 3.  1.4 0.3]\n",
      "[5.1 3.8 1.6 0.2]\n",
      "[4.6 3.2 1.4 0.2]\n",
      "[5.3 3.7 1.5 0.2]\n",
      "[5.  3.3 1.4 0.2]\n",
      "\n",
      "1.0\n",
      "[7.  3.2 4.7 1.4]\n",
      "[6.4 3.2 4.5 1.5]\n",
      "[6.9 3.1 4.9 1.5]\n",
      "[5.5 2.3 4.  1.3]\n",
      "[6.5 2.8 4.6 1.5]\n",
      "[5.7 2.8 4.5 1.3]\n",
      "[6.3 3.3 4.7 1.6]\n",
      "[4.9 2.4 3.3 1. ]\n",
      "[6.6 2.9 4.6 1.3]\n",
      "[5.2 2.7 3.9 1.4]\n",
      "[5.  2.  3.5 1. ]\n",
      "[5.9 3.  4.2 1.5]\n",
      "[6.  2.2 4.  1. ]\n",
      "[6.1 2.9 4.7 1.4]\n",
      "[5.6 2.9 3.6 1.3]\n",
      "[6.7 3.1 4.4 1.4]\n",
      "[5.6 3.  4.5 1.5]\n",
      "[5.8 2.7 4.1 1. ]\n",
      "[6.2 2.2 4.5 1.5]\n",
      "[5.6 2.5 3.9 1.1]\n",
      "[5.9 3.2 4.8 1.8]\n",
      "[6.1 2.8 4.  1.3]\n",
      "[6.3 2.5 4.9 1.5]\n",
      "[6.1 2.8 4.7 1.2]\n",
      "[6.4 2.9 4.3 1.3]\n",
      "[6.6 3.  4.4 1.4]\n",
      "[6.8 2.8 4.8 1.4]\n",
      "[6.7 3.  5.  1.7]\n",
      "[6.  2.9 4.5 1.5]\n",
      "[5.7 2.6 3.5 1. ]\n",
      "[5.5 2.4 3.8 1.1]\n",
      "[5.5 2.4 3.7 1. ]\n",
      "[5.8 2.7 3.9 1.2]\n",
      "[6.  2.7 5.1 1.6]\n",
      "[5.4 3.  4.5 1.5]\n",
      "[6.  3.4 4.5 1.6]\n",
      "[6.7 3.1 4.7 1.5]\n",
      "[6.3 2.3 4.4 1.3]\n",
      "[5.6 3.  4.1 1.3]\n",
      "[5.5 2.5 4.  1.3]\n",
      "[5.5 2.6 4.4 1.2]\n",
      "[6.1 3.  4.6 1.4]\n",
      "[5.8 2.6 4.  1.2]\n",
      "[5.  2.3 3.3 1. ]\n",
      "[5.6 2.7 4.2 1.3]\n",
      "[5.7 3.  4.2 1.2]\n",
      "[5.7 2.9 4.2 1.3]\n",
      "[6.2 2.9 4.3 1.3]\n",
      "[5.1 2.5 3.  1.1]\n",
      "[5.7 2.8 4.1 1.3]\n",
      "\n",
      "2.0\n",
      "[6.3 3.3 6.  2.5]\n",
      "[5.8 2.7 5.1 1.9]\n",
      "[7.1 3.  5.9 2.1]\n",
      "[6.3 2.9 5.6 1.8]\n",
      "[6.5 3.  5.8 2.2]\n",
      "[7.6 3.  6.6 2.1]\n",
      "[4.9 2.5 4.5 1.7]\n",
      "[7.3 2.9 6.3 1.8]\n",
      "[6.7 2.5 5.8 1.8]\n",
      "[7.2 3.6 6.1 2.5]\n",
      "[6.5 3.2 5.1 2. ]\n",
      "[6.4 2.7 5.3 1.9]\n",
      "[6.8 3.  5.5 2.1]\n",
      "[5.7 2.5 5.  2. ]\n",
      "[5.8 2.8 5.1 2.4]\n",
      "[6.4 3.2 5.3 2.3]\n",
      "[6.5 3.  5.5 1.8]\n",
      "[7.7 3.8 6.7 2.2]\n",
      "[7.7 2.6 6.9 2.3]\n",
      "[6.  2.2 5.  1.5]\n",
      "[6.9 3.2 5.7 2.3]\n",
      "[5.6 2.8 4.9 2. ]\n",
      "[7.7 2.8 6.7 2. ]\n",
      "[6.3 2.7 4.9 1.8]\n",
      "[6.7 3.3 5.7 2.1]\n",
      "[7.2 3.2 6.  1.8]\n",
      "[6.2 2.8 4.8 1.8]\n",
      "[6.1 3.  4.9 1.8]\n",
      "[6.4 2.8 5.6 2.1]\n",
      "[7.2 3.  5.8 1.6]\n",
      "[7.4 2.8 6.1 1.9]\n",
      "[7.9 3.8 6.4 2. ]\n",
      "[6.4 2.8 5.6 2.2]\n",
      "[6.3 2.8 5.1 1.5]\n",
      "[6.1 2.6 5.6 1.4]\n",
      "[7.7 3.  6.1 2.3]\n",
      "[6.3 3.4 5.6 2.4]\n",
      "[6.4 3.1 5.5 1.8]\n",
      "[6.  3.  4.8 1.8]\n",
      "[6.9 3.1 5.4 2.1]\n",
      "[6.7 3.1 5.6 2.4]\n",
      "[6.9 3.1 5.1 2.3]\n",
      "[5.8 2.7 5.1 1.9]\n",
      "[6.8 3.2 5.9 2.3]\n",
      "[6.7 3.3 5.7 2.5]\n",
      "[6.7 3.  5.2 2.3]\n",
      "[6.3 2.5 5.  1.9]\n",
      "[6.5 3.  5.2 2. ]\n",
      "[6.2 3.4 5.4 2.3]\n",
      "[5.9 3.  5.1 1.8]\n",
      "\n"
     ]
    }
   ],
   "source": [
    "for label in Label_divided_data:\n",
    "    print(label)\n",
    "    for rows in Label_divided_data[label]:\n",
    "        print(rows)\n",
    "    print(\"\")"
   ]
  },
  {
   "cell_type": "markdown",
   "metadata": {},
   "source": [
    "# Requirement 2 :Calculation of Mean and Std_div for given column\n",
    "\n",
    "     calculate the mean and std dev for each attribute/feature (column)"
   ]
  },
  {
   "cell_type": "code",
   "execution_count": 13,
   "metadata": {},
   "outputs": [],
   "source": [
    "def cal_Mean(column):\n",
    "    return sum(column)/len(column)"
   ]
  },
  {
   "cell_type": "code",
   "execution_count": 14,
   "metadata": {},
   "outputs": [
    {
     "data": {
      "text/plain": [
       "5.843333333333335"
      ]
     },
     "execution_count": 14,
     "metadata": {},
     "output_type": "execute_result"
    }
   ],
   "source": [
    "#Testing with Column 1\n",
    "mean_col1 = cal_Mean(Dataset[:,0]) #[:,0] ':' all rows ; 0 : column 0(first column in dataset)\n",
    "mean_col1                          #(could be verified form cell above 'iris.describe()')"
   ]
  },
  {
   "cell_type": "markdown",
   "metadata": {},
   "source": [
    " # std deviation formula:\n",
    "       Std div = square root of varience\n",
    "        varience = calculate the Mean of all numbers\n",
    "                   Then for each number: subtract the Mean and square the Difference\n",
    "                   Then add all the squared differences and divide by total numbers -1(mean of the Squared difference)\n",
    "                   note :the std_div formula i saw had N-1 hence i am implementing according to formula"
   ]
  },
  {
   "cell_type": "code",
   "execution_count": 15,
   "metadata": {},
   "outputs": [],
   "source": [
    "def cal_StdDiv(column):\n",
    "    mean = cal_Mean(column)\n",
    "    sum_sq_diff = 0\n",
    "    for number in column:\n",
    "        diff = number - mean\n",
    "        sum_sq_diff += pow(diff,2)\n",
    "    \n",
    "    varience = sum_sq_diff/(len(column)-1)\n",
    "    std_div = math.sqrt(varience)\n",
    "    \n",
    "    return std_div"
   ]
  },
  {
   "cell_type": "code",
   "execution_count": 16,
   "metadata": {},
   "outputs": [
    {
     "data": {
      "text/plain": [
       "0.4335943113621737"
      ]
     },
     "execution_count": 16,
     "metadata": {},
     "output_type": "execute_result"
    }
   ],
   "source": [
    "#Testing with column 2\n",
    "std_col2 = cal_StdDiv(Dataset[:,1]) #std_div for 2nd column in dataset(could be verified form cell above 'iris.describe()')\n",
    "std_col2"
   ]
  },
  {
   "cell_type": "markdown",
   "metadata": {},
   "source": [
    "# Function to calculate Mean and std_deviation of a each column in dataset\n",
    "\n",
    "        calculate mean and std_div for all columns excpect the last column (last column is class label)"
   ]
  },
  {
   "cell_type": "code",
   "execution_count": 17,
   "metadata": {},
   "outputs": [],
   "source": [
    "def cal_Mean_StdDiv_Dataset(data): # here the 'data' must only contains features ; label is excluded (must be np array)\n",
    "    d = len(data[1]) # get number of columns ; note col no. starts from 0; so for 4 cols: 0,1,2,3 ; len(data[1]) returns 4\n",
    "    data = data[:,0:d]  # ':' means take all rows , 0:d means (d = 4); so from 0 to 4 (include col 0 exclude col 4)\n",
    "    \n",
    "    mean_stddiv = []\n",
    "    for col in range (len(data[1])):\n",
    "        mean_col = cal_Mean(data[:,col])\n",
    "        std_div_col = cal_StdDiv(data[:,col])\n",
    "        sublist = (mean_col,std_div_col)\n",
    "        mean_stddiv.append(sublist)\n",
    "        \n",
    "    return mean_stddiv #return a list containing mean , std_div of each feature /column in the given dataset"
   ]
  },
  {
   "cell_type": "markdown",
   "metadata": {},
   "source": [
    "# Prepare Data for Testing above Function\n",
    "\n",
    "    as our previous data : 'Dataset' contains class label we cannot use it here \n",
    "    as the function cal_Mean_StdDiv_Dataset expects a dataset that contains only the features a parameter"
   ]
  },
  {
   "cell_type": "code",
   "execution_count": 18,
   "metadata": {},
   "outputs": [
    {
     "data": {
      "text/plain": [
       "array([[5.1, 3.5, 1.4, 0.2],\n",
       "       [4.9, 3. , 1.4, 0.2],\n",
       "       [4.7, 3.2, 1.3, 0.2],\n",
       "       [4.6, 3.1, 1.5, 0.2],\n",
       "       [5. , 3.6, 1.4, 0.2]])"
      ]
     },
     "execution_count": 18,
     "metadata": {},
     "output_type": "execute_result"
    }
   ],
   "source": [
    "no_of_features = len(Dataset[1])-1 # no of total columns -1\n",
    "Dataset_features=Dataset[:,0:no_of_features]\n",
    "Dataset_features[0:5]"
   ]
  },
  {
   "cell_type": "code",
   "execution_count": 19,
   "metadata": {},
   "outputs": [
    {
     "data": {
      "text/plain": [
       "array([0., 0., 0., 0., 0., 0., 0., 0., 0., 0., 0., 0., 0., 0., 0., 0., 0.,\n",
       "       0., 0., 0., 0., 0., 0., 0., 0., 0., 0., 0., 0., 0., 0., 0., 0., 0.,\n",
       "       0., 0., 0., 0., 0., 0., 0., 0., 0., 0., 0., 0., 0., 0., 0., 0., 1.,\n",
       "       1., 1., 1., 1., 1., 1., 1., 1., 1., 1., 1., 1., 1., 1., 1., 1., 1.,\n",
       "       1., 1., 1., 1., 1., 1., 1., 1., 1., 1., 1., 1., 1., 1., 1., 1., 1.,\n",
       "       1., 1., 1., 1., 1., 1., 1., 1., 1., 1., 1., 1., 1., 1., 1., 2., 2.,\n",
       "       2., 2., 2., 2., 2., 2., 2., 2., 2., 2., 2., 2., 2., 2., 2., 2., 2.,\n",
       "       2., 2., 2., 2., 2., 2., 2., 2., 2., 2., 2., 2., 2., 2., 2., 2., 2.,\n",
       "       2., 2., 2., 2., 2., 2., 2., 2., 2., 2., 2., 2., 2., 2.])"
      ]
     },
     "execution_count": 19,
     "metadata": {},
     "output_type": "execute_result"
    }
   ],
   "source": [
    "Dataset_label = Dataset[:,-1] # ':' means all rows , -1 = means last column\n",
    "Dataset_label"
   ]
  },
  {
   "cell_type": "code",
   "execution_count": 20,
   "metadata": {},
   "outputs": [
    {
     "data": {
      "text/plain": [
       "[(5.843333333333335, 0.8280661279778629),\n",
       " (3.0540000000000007, 0.4335943113621737),\n",
       " (3.7586666666666693, 1.7644204199522617),\n",
       " (1.1986666666666672, 0.7631607417008414)]"
      ]
     },
     "execution_count": 20,
     "metadata": {},
     "output_type": "execute_result"
    }
   ],
   "source": [
    "Mean_Std_dataset = cal_Mean_StdDiv_Dataset(Dataset_features)\n",
    "Mean_Std_dataset # this is a list , whose elements are the mean and std deviation of each column in the dataset\n",
    "#can be verified using the results of iris.describe() in above cell"
   ]
  },
  {
   "cell_type": "markdown",
   "metadata": {},
   "source": [
    "# Requirement 3:\n",
    "\n",
    "# Calculation of Mean and std_deviation for each column in dataset based on class_labels\n",
    "\n",
    "        here we are going to use The dataset that contains Class_labels = 'Dataset'\n",
    "        using the DivideByLabel function we will divide/ group the data besed on their labels\n",
    "        then using the function cal_Mean_StdDiv_Dataset , for each class label we take the training examples and \n",
    "        calculate the mean and std_deviation of each column\n",
    "        \n",
    "        finally a dictionary is retured\n",
    "            The keys represent class label\n",
    "            The items Represents the mean and std deviation of each column(features) for that class label"
   ]
  },
  {
   "cell_type": "code",
   "execution_count": 21,
   "metadata": {},
   "outputs": [],
   "source": [
    "def cal_Mean_StdDiv_by_class(data): # the function expects the parameter to be a dataset containg class_labels\n",
    "    divided_dataset = DivideByLabel(data)\n",
    "    mean_std_byLabel = dict() # will contain; keys = class label and each key contains a list of the mean stddiv and no of example in that class\n",
    "    for label, rows in divided_dataset.items(): #shortcut to itertate a dictionary; label: key ; rows : the list of example \n",
    "        mean_std_byLabel[label] = cal_Mean_StdDiv_Dataset(np.array(rows,dtype=float))\n",
    "        #np.array(rows,dtype=float) to covert the list into an array\n",
    "        #as the function cal_Mean_StdDiv_Dataset expects argument in form of an array not list\n",
    "    return mean_std_byLabel"
   ]
  },
  {
   "cell_type": "code",
   "execution_count": 22,
   "metadata": {},
   "outputs": [
    {
     "data": {
      "text/plain": [
       "{0.0: [(5.005999999999999, 0.3524896872134512),\n",
       "  (3.4180000000000006, 0.38102439795469095),\n",
       "  (1.464, 0.1735111594364455),\n",
       "  (0.2439999999999999, 0.10720950308167837)],\n",
       " 1.0: [(5.936, 0.5161711470638635),\n",
       "  (2.7700000000000005, 0.3137983233784114),\n",
       "  (4.26, 0.46991097723995806),\n",
       "  (1.3259999999999998, 0.197752680004544)],\n",
       " 2.0: [(6.587999999999998, 0.635879593274432),\n",
       "  (2.9739999999999998, 0.3224966381726376),\n",
       "  (5.552, 0.5518946956639835),\n",
       "  (2.026, 0.27465005563666733)]}"
      ]
     },
     "execution_count": 22,
     "metadata": {},
     "output_type": "execute_result"
    }
   ],
   "source": [
    "Mean_StdDiv_of_EachLabel = cal_Mean_StdDiv_by_class(Dataset)\n",
    "Mean_StdDiv_of_EachLabel"
   ]
  },
  {
   "cell_type": "markdown",
   "metadata": {},
   "source": [
    "# Requirement 4 :\n",
    "# Function to Calculate The Gaussian Probability Density.\n",
    "\n",
    "    \n",
    "    Probability density function (PDF) is a statistical expression that defines a probability distribution\n",
    "    (the likelihood of an outcome) for a discrete random variable.\n",
    "    \n",
    "    A random variable X is said to be normally distributed with mean µ and variance (stddiv) σ\n",
    "    probability density function  f(x) is given by:\n",
    "    f(x) = (1 / sqrt(2 * PI) * σ) * exp(-((x-µ)^2 / (2 * σ^2)))\n",
    "    \n",
    "    Here, we need to calculate the probabilty density of each value Xk (Xk refers to value of attribute Ak for Tupple/Row X)\n",
    "    the  mean of Attribute, A_mean = µ and the stddiv of Attribute A_stddiv = σ\n",
    "    "
   ]
  },
  {
   "cell_type": "code",
   "execution_count": 23,
   "metadata": {},
   "outputs": [],
   "source": [
    "# calculates the probability density of a value Xk \n",
    "# where mean= mean of  all values in the column and stddiv = standard deviation of all values in the column\n",
    "def cal_Prob_Density(x, mean, stddiv): \n",
    "    exponent = math.exp(-((x-mean)**2 / (2 * stddiv**2 ))) #** means power\n",
    "    \n",
    "    return (1 / (math.sqrt(2 * math.pi) * stddiv)) * exponent"
   ]
  },
  {
   "cell_type": "markdown",
   "metadata": {},
   "source": [
    "# Requirement 5: \n",
    "# Calculating Probabilty that X(a test case(row)) belongs to a class Ci\n",
    "\n",
    "        To predict the class label of X(entire row) \n",
    "        P(X|Ci) * P(Ci) is evaluate =f for each class Ci\n",
    "        the classifier predicts the class label of tupple X to be class Ci if and only if \n",
    "        P(X|Ci)*P(Ci) > P(X|Cj)*P(Cj)  for all i<=j<=m,j!=i (m=no of classes) \n",
    "        that is the predicted class label is the class label Ci for which P(X|Ci) * P(Ci) is maximum\n",
    "        \n",
    "        so we need to calculate\n",
    "        say X = (x1,x2,.....xn)\n",
    "        classLabels = C1,C2,...,Cn\n",
    "        \n",
    "        so for a class Ci P(X|Ci) = P(x1|ci)*P(x2|ci)*...*P(xn|Ci)"
   ]
  },
  {
   "cell_type": "code",
   "execution_count": 24,
   "metadata": {},
   "outputs": [],
   "source": [
    "def cal_Class_Prob(Mean_std_bylabel, test_case): #Mean_std_bylabel is the dict we created using 'cal_Mean_StdDiv_by_class'\n",
    "    probabilities = {} \n",
    "    for label, mean_std in Mean_std_bylabel.items(): \n",
    "        probabilities[label] = 1\n",
    "        for i in range(len(mean_std)): \n",
    "            mean, std_div = mean_std[i] \n",
    "            x = test_case[i] \n",
    "            probabilities[label] *= cal_Prob_Density(x, mean, std_div) \n",
    "    return probabilities "
   ]
  },
  {
   "cell_type": "code",
   "execution_count": 25,
   "metadata": {},
   "outputs": [
    {
     "data": {
      "text/plain": [
       "{0.0: 8.210349205762657,\n",
       " 1.0: 2.4967278599904396e-17,\n",
       " 2.0: 1.8025267716032966e-24}"
      ]
     },
     "execution_count": 25,
     "metadata": {},
     "output_type": "execute_result"
    }
   ],
   "source": [
    "# first row from dataset is taken,to check which class gets max probabilty\n",
    "#(test_case will never contain label hence Dataset_features is used)\n",
    "X = Dataset_features[0] # X = first row or first example of the iris dataset \n",
    "#(first example has actual class = 0)\n",
    "Probabilities = cal_Class_Prob(Mean_StdDiv_of_EachLabel,X)\n",
    "Probabilities"
   ]
  },
  {
   "cell_type": "markdown",
   "metadata": {},
   "source": [
    "# Predicting Class lables:\n",
    "\n",
    "    To predict the class label just select and return the class label that has max probability"
   ]
  },
  {
   "cell_type": "code",
   "execution_count": 26,
   "metadata": {},
   "outputs": [],
   "source": [
    "def predict_label(Mean_std_bylabel, test_case): #returns class labels with hightest probability\n",
    "    probabilities = cal_Class_Prob(Mean_std_bylabel, test_case) \n",
    "    Best_Label, Best_Prob = None, -1\n",
    "    for key, probability in probabilities.items(): \n",
    "        if Best_Label is None or probability > Best_Prob: \n",
    "            Best_Prob = probability \n",
    "            Best_Label = key \n",
    "    return Best_Label"
   ]
  },
  {
   "cell_type": "code",
   "execution_count": 27,
   "metadata": {},
   "outputs": [
    {
     "data": {
      "text/plain": [
       "0.0"
      ]
     },
     "execution_count": 27,
     "metadata": {},
     "output_type": "execute_result"
    }
   ],
   "source": [
    "X = Dataset_features[0] # same example as above\n",
    "#(first rows has actual class = 0 i.e iris - setosa)\n",
    "prediction = predict_label(Mean_StdDiv_of_EachLabel,X)\n",
    "prediction  # 0: iris setosa ; 1 : iris_versicolor ; 2 : iris - virginica"
   ]
  },
  {
   "cell_type": "markdown",
   "metadata": {},
   "source": [
    "# Combining everything to build the classifier model \n",
    "\n",
    "    The Model : Naive_bayesian_classifier(Train,Test)\n",
    "                parameter : Train = Training set contain features and class lebels\n",
    "                            Test = Test set contains only the features\n",
    "                            \n",
    "    workflow:\n",
    "            Using the class labels training set set divide/ group the data besed on class labels.\n",
    "            For each group(class) we calculate the mean and std deviation of each feature.\n",
    "            Using these mean and std deviation values :\n",
    "            For each test case we calculate : The probabilites of that test case belonging to different classes.\n",
    "            The class that gets the highest probabilty among all other classes is selected as the class label for that\n",
    "            specific test case\n",
    "            This is done for each test case in test_set\n",
    "            The class with highest probability for each test case is saved in a list and this list is returned as the\n",
    "            \"Predicted labels\" for the Test set"
   ]
  },
  {
   "cell_type": "code",
   "execution_count": 28,
   "metadata": {},
   "outputs": [],
   "source": [
    "def Naive_bayesian_classifier(training_set,test_set):#note training set must contain the class label, test set only feature\n",
    "    mean_std_eachlabel = cal_Mean_StdDiv_by_class(training_set)\n",
    "    prediction = []\n",
    "    for test_case in test_set:\n",
    "        pred = predict_label(mean_std_eachlabel,test_case)\n",
    "        prediction.append(pred)\n",
    "        \n",
    "    return prediction"
   ]
  },
  {
   "cell_type": "markdown",
   "metadata": {},
   "source": [
    "# Testing the model: \n",
    "# preparing the dataset according to requirement of the Model\n",
    "   \n",
    "       we have created 'dataset_feature' & 'dataset_labels' previously\n",
    "       so using train_test_split to divide them them into Train and Test sets\n",
    "       \n",
    "       The training set needs to contain features and labels together \n",
    "       Thus, we simple merge training_features and training_labels which we will get from Train_Test_split\n",
    "       \n",
    "       The Test set contains only features so no need to merge Test Features with Test labels\n",
    "       The Test labels(actual labels): used to check accuracy of model by comparing with predicted labels(output of Model)"
   ]
  },
  {
   "cell_type": "code",
   "execution_count": 29,
   "metadata": {},
   "outputs": [
    {
     "name": "stdout",
     "output_type": "stream",
     "text": [
      "105\n",
      "105\n",
      "45\n",
      "45\n"
     ]
    }
   ],
   "source": [
    "Training_features,Test_features,Training_labels,Test_labels = train_test_split(Dataset_features,Dataset_label,test_size = 0.3,random_state= 42)\n",
    "print(len(Training_features))\n",
    "print(len(Training_labels))\n",
    "print(len(Test_features))\n",
    "print(len(Test_labels))"
   ]
  },
  {
   "cell_type": "code",
   "execution_count": 30,
   "metadata": {},
   "outputs": [
    {
     "data": {
      "text/plain": [
       "array([[5.5, 2.4, 3.7, 1. ],\n",
       "       [6.3, 2.8, 5.1, 1.5],\n",
       "       [6.4, 3.1, 5.5, 1.8],\n",
       "       [6.6, 3. , 4.4, 1.4],\n",
       "       [7.2, 3.6, 6.1, 2.5]])"
      ]
     },
     "execution_count": 30,
     "metadata": {},
     "output_type": "execute_result"
    }
   ],
   "source": [
    "Training_features[0:5]"
   ]
  },
  {
   "cell_type": "code",
   "execution_count": 31,
   "metadata": {},
   "outputs": [
    {
     "data": {
      "text/plain": [
       "array([1., 2., 2., 1., 2.])"
      ]
     },
     "execution_count": 31,
     "metadata": {},
     "output_type": "execute_result"
    }
   ],
   "source": [
    "Training_labels[0:5]"
   ]
  },
  {
   "cell_type": "code",
   "execution_count": 32,
   "metadata": {},
   "outputs": [
    {
     "name": "stdout",
     "output_type": "stream",
     "text": [
      "[[5.5 2.4 3.7 1.  1. ]\n",
      " [6.3 2.8 5.1 1.5 2. ]\n",
      " [6.4 3.1 5.5 1.8 2. ]\n",
      " [6.6 3.  4.4 1.4 1. ]\n",
      " [7.2 3.6 6.1 2.5 2. ]]\n",
      "\n",
      "105\n"
     ]
    }
   ],
   "source": [
    "# Create Training set by merging training features and labels\n",
    "Training_set = np.column_stack((Training_features,Training_labels))\n",
    "print(Training_set[0:5])\n",
    "print()\n",
    "print(len(Training_set))"
   ]
  },
  {
   "cell_type": "markdown",
   "metadata": {},
   "source": [
    "# Using the classifier  model :\n",
    "\n",
    "    Make Predictions on the Test_features and Evaluate performance using various Performance measures such as \n",
    "        accuracy,precison,recall,f1 score and the confusion Matrix"
   ]
  },
  {
   "cell_type": "code",
   "execution_count": 33,
   "metadata": {},
   "outputs": [
    {
     "data": {
      "text/plain": [
       "[1.0,\n",
       " 0.0,\n",
       " 2.0,\n",
       " 1.0,\n",
       " 1.0,\n",
       " 0.0,\n",
       " 1.0,\n",
       " 2.0,\n",
       " 1.0,\n",
       " 1.0,\n",
       " 2.0,\n",
       " 0.0,\n",
       " 0.0,\n",
       " 0.0,\n",
       " 0.0,\n",
       " 2.0,\n",
       " 2.0,\n",
       " 1.0,\n",
       " 1.0,\n",
       " 2.0,\n",
       " 0.0,\n",
       " 2.0,\n",
       " 0.0,\n",
       " 2.0,\n",
       " 2.0,\n",
       " 2.0,\n",
       " 2.0,\n",
       " 2.0,\n",
       " 0.0,\n",
       " 0.0,\n",
       " 0.0,\n",
       " 0.0,\n",
       " 1.0,\n",
       " 0.0,\n",
       " 0.0,\n",
       " 2.0,\n",
       " 1.0,\n",
       " 0.0,\n",
       " 0.0,\n",
       " 0.0,\n",
       " 2.0,\n",
       " 1.0,\n",
       " 1.0,\n",
       " 0.0,\n",
       " 0.0]"
      ]
     },
     "execution_count": 33,
     "metadata": {},
     "output_type": "execute_result"
    }
   ],
   "source": [
    "predicted_labels = Naive_bayesian_classifier(Training_set,Test_features)\n",
    "predicted_labels"
   ]
  },
  {
   "cell_type": "code",
   "execution_count": 34,
   "metadata": {},
   "outputs": [
    {
     "name": "stdout",
     "output_type": "stream",
     "text": [
      "The accuracy of the Naive Bayesian Classifier on the Test set is = 0.978\n"
     ]
    }
   ],
   "source": [
    "accuracy = accuracy_score(predicted_labels,Test_labels)\n",
    "print(\"The accuracy of the Naive Bayesian Classifier on the Test set is = %.3f\" %(accuracy))"
   ]
  },
  {
   "cell_type": "markdown",
   "metadata": {},
   "source": [
    "# Confusion Matrix And calculating Precision Recall and F1 Score\n",
    "\n",
    "            In the Confusion Matrix : 'Iris-setosa': 0,'Iris-versicolor': 1,'Iris-virginica' : 2 (class Labels)\n",
    "            Row represents actual Species while the columns represents the predicted Species\n",
    "\n",
    "            1st row : 1st column :Actual Species = Iris-Setosa ; Predicted Species = Iris-Setosa\n",
    "            1st row : 2nd column :Actual Species = Iris-Setosa ; Predicted Species = Iris-versicolor\n",
    "            1st row : 3rd column :Actual Species = Iris-Setosa ; Predicted Species = Iris-virginica\n",
    "\n",
    "            2nd row : 1st column :Actual Species = Iris-versicolor ; Predicted Species = Iris-Setosa\n",
    "            2nd row : 2nd column :Actual Species = Iris-versicolor ; Predicted Species = Iris-versicolor\n",
    "            2nd row : 3rd column :Actual Species = Iris-versicolor ; Predicted Species = Iris-virginica\n",
    "\n",
    "            3rd row : 1st column :Actual Species = Iris-virginica ; Predicted Species = Iris-Setosa\n",
    "            3rd row : 2nd column :Actual Species = Iris-virginica ; Predicted Species = Iris-versicolor\n",
    "            3rd row : 3rd column :Actual Species = Iris-virginica ; Predicted Species = Iris-virginica"
   ]
  },
  {
   "cell_type": "code",
   "execution_count": 35,
   "metadata": {},
   "outputs": [
    {
     "name": "stdout",
     "output_type": "stream",
     "text": [
      "[[19  0  0]\n",
      " [ 0 12  0]\n",
      " [ 0  1 13]]\n"
     ]
    }
   ],
   "source": [
    "cm  = confusion_matrix(predicted_labels,Test_labels)\n",
    "print(cm)"
   ]
  },
  {
   "cell_type": "markdown",
   "metadata": {},
   "source": [
    "# Inference \n",
    "\n",
    "    The acurracy of the model on test set is 97.8% \n",
    "    from the Confusion matrix we see that only one prediction is incorrect\n",
    "    one example of 'Iris-Versicolor' is wrongly predicted as 'Iris- Virginica'"
   ]
  },
  {
   "cell_type": "markdown",
   "metadata": {},
   "source": [
    "# Precision Recall & F1 Score:\n",
    "\n",
    "        Precison = True Postive/(Total predicted Positive) || True Postive/(True Positive + False Positive)\n",
    "                   Precision talks about how precise/accurate the model is, i.e. out of total predicted positive,\n",
    "                   how many of them are actual positive.\n",
    "\n",
    "        Recall = True Positive/(Total actual Positive) || True Postive/(True Positive + False Negetive)\n",
    "                 Recall calculates how many of the Actual Positives the model captures by labeling it \n",
    "                 as Positive (True Positive)\n",
    "\n",
    "        F1 Score = (2 * Precision * Recall) / (Precision + Recall)"
   ]
  },
  {
   "cell_type": "code",
   "execution_count": 36,
   "metadata": {},
   "outputs": [
    {
     "name": "stdout",
     "output_type": "stream",
     "text": [
      "Precision of the Naive Bayesian Classifier Model : 0.974\n",
      "Recall of the Naive Bayesian Classifier Model : 0.976\n",
      "F1 Score of the Naive Bayesian Classifier Model : 0.974\n"
     ]
    }
   ],
   "source": [
    "precision = precision_score(predicted_labels,Test_labels, average='macro')\n",
    "print('Precision of the Naive Bayesian Classifier Model : %.3f' % precision)\n",
    "recall = recall_score(predicted_labels,Test_labels, average='macro')\n",
    "print('Recall of the Naive Bayesian Classifier Model : %.3f' %recall)\n",
    "f1 = f1_score(predicted_labels,Test_labels, average='macro')\n",
    "print('F1 Score of the Naive Bayesian Classifier Model : %.3f' %f1)"
   ]
  },
  {
   "cell_type": "markdown",
   "metadata": {},
   "source": [
    "# Making Side by Side Comparison of Actual And Predicted labels"
   ]
  },
  {
   "cell_type": "markdown",
   "metadata": {},
   "source": [
    "# Coverting the numeric labels to their original form"
   ]
  },
  {
   "cell_type": "code",
   "execution_count": 37,
   "metadata": {},
   "outputs": [],
   "source": [
    "species = {0.0 : 'Iris-setosa',1.0 : 'Iris-versicolor',2.0 : 'Iris-virginica'}\n",
    "Test_labels = [species[item] for item in Test_labels]\n",
    "predicted_labels = [species[item] for item in predicted_labels]"
   ]
  },
  {
   "cell_type": "markdown",
   "metadata": {},
   "source": [
    "# Merging Actual and Predicted Species for side by side comparison"
   ]
  },
  {
   "cell_type": "code",
   "execution_count": 38,
   "metadata": {},
   "outputs": [
    {
     "data": {
      "text/html": [
       "<div>\n",
       "<style scoped>\n",
       "    .dataframe tbody tr th:only-of-type {\n",
       "        vertical-align: middle;\n",
       "    }\n",
       "\n",
       "    .dataframe tbody tr th {\n",
       "        vertical-align: top;\n",
       "    }\n",
       "\n",
       "    .dataframe thead th {\n",
       "        text-align: right;\n",
       "    }\n",
       "</style>\n",
       "<table border=\"1\" class=\"dataframe\">\n",
       "  <thead>\n",
       "    <tr style=\"text-align: right;\">\n",
       "      <th></th>\n",
       "      <th>Actual_Specis(Test_set)</th>\n",
       "      <th>Predicted_Species(Test_set)</th>\n",
       "    </tr>\n",
       "  </thead>\n",
       "  <tbody>\n",
       "    <tr>\n",
       "      <th>0</th>\n",
       "      <td>Iris-versicolor</td>\n",
       "      <td>Iris-versicolor</td>\n",
       "    </tr>\n",
       "    <tr>\n",
       "      <th>1</th>\n",
       "      <td>Iris-setosa</td>\n",
       "      <td>Iris-setosa</td>\n",
       "    </tr>\n",
       "    <tr>\n",
       "      <th>2</th>\n",
       "      <td>Iris-virginica</td>\n",
       "      <td>Iris-virginica</td>\n",
       "    </tr>\n",
       "    <tr>\n",
       "      <th>3</th>\n",
       "      <td>Iris-versicolor</td>\n",
       "      <td>Iris-versicolor</td>\n",
       "    </tr>\n",
       "    <tr>\n",
       "      <th>4</th>\n",
       "      <td>Iris-versicolor</td>\n",
       "      <td>Iris-versicolor</td>\n",
       "    </tr>\n",
       "    <tr>\n",
       "      <th>5</th>\n",
       "      <td>Iris-setosa</td>\n",
       "      <td>Iris-setosa</td>\n",
       "    </tr>\n",
       "    <tr>\n",
       "      <th>6</th>\n",
       "      <td>Iris-versicolor</td>\n",
       "      <td>Iris-versicolor</td>\n",
       "    </tr>\n",
       "    <tr>\n",
       "      <th>7</th>\n",
       "      <td>Iris-virginica</td>\n",
       "      <td>Iris-virginica</td>\n",
       "    </tr>\n",
       "    <tr>\n",
       "      <th>8</th>\n",
       "      <td>Iris-versicolor</td>\n",
       "      <td>Iris-versicolor</td>\n",
       "    </tr>\n",
       "    <tr>\n",
       "      <th>9</th>\n",
       "      <td>Iris-versicolor</td>\n",
       "      <td>Iris-versicolor</td>\n",
       "    </tr>\n",
       "    <tr>\n",
       "      <th>10</th>\n",
       "      <td>Iris-virginica</td>\n",
       "      <td>Iris-virginica</td>\n",
       "    </tr>\n",
       "    <tr>\n",
       "      <th>11</th>\n",
       "      <td>Iris-setosa</td>\n",
       "      <td>Iris-setosa</td>\n",
       "    </tr>\n",
       "    <tr>\n",
       "      <th>12</th>\n",
       "      <td>Iris-setosa</td>\n",
       "      <td>Iris-setosa</td>\n",
       "    </tr>\n",
       "    <tr>\n",
       "      <th>13</th>\n",
       "      <td>Iris-setosa</td>\n",
       "      <td>Iris-setosa</td>\n",
       "    </tr>\n",
       "    <tr>\n",
       "      <th>14</th>\n",
       "      <td>Iris-setosa</td>\n",
       "      <td>Iris-setosa</td>\n",
       "    </tr>\n",
       "    <tr>\n",
       "      <th>15</th>\n",
       "      <td>Iris-versicolor</td>\n",
       "      <td>Iris-virginica</td>\n",
       "    </tr>\n",
       "    <tr>\n",
       "      <th>16</th>\n",
       "      <td>Iris-virginica</td>\n",
       "      <td>Iris-virginica</td>\n",
       "    </tr>\n",
       "    <tr>\n",
       "      <th>17</th>\n",
       "      <td>Iris-versicolor</td>\n",
       "      <td>Iris-versicolor</td>\n",
       "    </tr>\n",
       "    <tr>\n",
       "      <th>18</th>\n",
       "      <td>Iris-versicolor</td>\n",
       "      <td>Iris-versicolor</td>\n",
       "    </tr>\n",
       "    <tr>\n",
       "      <th>19</th>\n",
       "      <td>Iris-virginica</td>\n",
       "      <td>Iris-virginica</td>\n",
       "    </tr>\n",
       "    <tr>\n",
       "      <th>20</th>\n",
       "      <td>Iris-setosa</td>\n",
       "      <td>Iris-setosa</td>\n",
       "    </tr>\n",
       "    <tr>\n",
       "      <th>21</th>\n",
       "      <td>Iris-virginica</td>\n",
       "      <td>Iris-virginica</td>\n",
       "    </tr>\n",
       "    <tr>\n",
       "      <th>22</th>\n",
       "      <td>Iris-setosa</td>\n",
       "      <td>Iris-setosa</td>\n",
       "    </tr>\n",
       "    <tr>\n",
       "      <th>23</th>\n",
       "      <td>Iris-virginica</td>\n",
       "      <td>Iris-virginica</td>\n",
       "    </tr>\n",
       "    <tr>\n",
       "      <th>24</th>\n",
       "      <td>Iris-virginica</td>\n",
       "      <td>Iris-virginica</td>\n",
       "    </tr>\n",
       "    <tr>\n",
       "      <th>25</th>\n",
       "      <td>Iris-virginica</td>\n",
       "      <td>Iris-virginica</td>\n",
       "    </tr>\n",
       "    <tr>\n",
       "      <th>26</th>\n",
       "      <td>Iris-virginica</td>\n",
       "      <td>Iris-virginica</td>\n",
       "    </tr>\n",
       "    <tr>\n",
       "      <th>27</th>\n",
       "      <td>Iris-virginica</td>\n",
       "      <td>Iris-virginica</td>\n",
       "    </tr>\n",
       "    <tr>\n",
       "      <th>28</th>\n",
       "      <td>Iris-setosa</td>\n",
       "      <td>Iris-setosa</td>\n",
       "    </tr>\n",
       "    <tr>\n",
       "      <th>29</th>\n",
       "      <td>Iris-setosa</td>\n",
       "      <td>Iris-setosa</td>\n",
       "    </tr>\n",
       "    <tr>\n",
       "      <th>30</th>\n",
       "      <td>Iris-setosa</td>\n",
       "      <td>Iris-setosa</td>\n",
       "    </tr>\n",
       "    <tr>\n",
       "      <th>31</th>\n",
       "      <td>Iris-setosa</td>\n",
       "      <td>Iris-setosa</td>\n",
       "    </tr>\n",
       "    <tr>\n",
       "      <th>32</th>\n",
       "      <td>Iris-versicolor</td>\n",
       "      <td>Iris-versicolor</td>\n",
       "    </tr>\n",
       "    <tr>\n",
       "      <th>33</th>\n",
       "      <td>Iris-setosa</td>\n",
       "      <td>Iris-setosa</td>\n",
       "    </tr>\n",
       "    <tr>\n",
       "      <th>34</th>\n",
       "      <td>Iris-setosa</td>\n",
       "      <td>Iris-setosa</td>\n",
       "    </tr>\n",
       "    <tr>\n",
       "      <th>35</th>\n",
       "      <td>Iris-virginica</td>\n",
       "      <td>Iris-virginica</td>\n",
       "    </tr>\n",
       "    <tr>\n",
       "      <th>36</th>\n",
       "      <td>Iris-versicolor</td>\n",
       "      <td>Iris-versicolor</td>\n",
       "    </tr>\n",
       "    <tr>\n",
       "      <th>37</th>\n",
       "      <td>Iris-setosa</td>\n",
       "      <td>Iris-setosa</td>\n",
       "    </tr>\n",
       "    <tr>\n",
       "      <th>38</th>\n",
       "      <td>Iris-setosa</td>\n",
       "      <td>Iris-setosa</td>\n",
       "    </tr>\n",
       "    <tr>\n",
       "      <th>39</th>\n",
       "      <td>Iris-setosa</td>\n",
       "      <td>Iris-setosa</td>\n",
       "    </tr>\n",
       "    <tr>\n",
       "      <th>40</th>\n",
       "      <td>Iris-virginica</td>\n",
       "      <td>Iris-virginica</td>\n",
       "    </tr>\n",
       "    <tr>\n",
       "      <th>41</th>\n",
       "      <td>Iris-versicolor</td>\n",
       "      <td>Iris-versicolor</td>\n",
       "    </tr>\n",
       "    <tr>\n",
       "      <th>42</th>\n",
       "      <td>Iris-versicolor</td>\n",
       "      <td>Iris-versicolor</td>\n",
       "    </tr>\n",
       "    <tr>\n",
       "      <th>43</th>\n",
       "      <td>Iris-setosa</td>\n",
       "      <td>Iris-setosa</td>\n",
       "    </tr>\n",
       "    <tr>\n",
       "      <th>44</th>\n",
       "      <td>Iris-setosa</td>\n",
       "      <td>Iris-setosa</td>\n",
       "    </tr>\n",
       "  </tbody>\n",
       "</table>\n",
       "</div>"
      ],
      "text/plain": [
       "   Actual_Specis(Test_set) Predicted_Species(Test_set)\n",
       "0          Iris-versicolor             Iris-versicolor\n",
       "1              Iris-setosa                 Iris-setosa\n",
       "2           Iris-virginica              Iris-virginica\n",
       "3          Iris-versicolor             Iris-versicolor\n",
       "4          Iris-versicolor             Iris-versicolor\n",
       "5              Iris-setosa                 Iris-setosa\n",
       "6          Iris-versicolor             Iris-versicolor\n",
       "7           Iris-virginica              Iris-virginica\n",
       "8          Iris-versicolor             Iris-versicolor\n",
       "9          Iris-versicolor             Iris-versicolor\n",
       "10          Iris-virginica              Iris-virginica\n",
       "11             Iris-setosa                 Iris-setosa\n",
       "12             Iris-setosa                 Iris-setosa\n",
       "13             Iris-setosa                 Iris-setosa\n",
       "14             Iris-setosa                 Iris-setosa\n",
       "15         Iris-versicolor              Iris-virginica\n",
       "16          Iris-virginica              Iris-virginica\n",
       "17         Iris-versicolor             Iris-versicolor\n",
       "18         Iris-versicolor             Iris-versicolor\n",
       "19          Iris-virginica              Iris-virginica\n",
       "20             Iris-setosa                 Iris-setosa\n",
       "21          Iris-virginica              Iris-virginica\n",
       "22             Iris-setosa                 Iris-setosa\n",
       "23          Iris-virginica              Iris-virginica\n",
       "24          Iris-virginica              Iris-virginica\n",
       "25          Iris-virginica              Iris-virginica\n",
       "26          Iris-virginica              Iris-virginica\n",
       "27          Iris-virginica              Iris-virginica\n",
       "28             Iris-setosa                 Iris-setosa\n",
       "29             Iris-setosa                 Iris-setosa\n",
       "30             Iris-setosa                 Iris-setosa\n",
       "31             Iris-setosa                 Iris-setosa\n",
       "32         Iris-versicolor             Iris-versicolor\n",
       "33             Iris-setosa                 Iris-setosa\n",
       "34             Iris-setosa                 Iris-setosa\n",
       "35          Iris-virginica              Iris-virginica\n",
       "36         Iris-versicolor             Iris-versicolor\n",
       "37             Iris-setosa                 Iris-setosa\n",
       "38             Iris-setosa                 Iris-setosa\n",
       "39             Iris-setosa                 Iris-setosa\n",
       "40          Iris-virginica              Iris-virginica\n",
       "41         Iris-versicolor             Iris-versicolor\n",
       "42         Iris-versicolor             Iris-versicolor\n",
       "43             Iris-setosa                 Iris-setosa\n",
       "44             Iris-setosa                 Iris-setosa"
      ]
     },
     "execution_count": 38,
     "metadata": {},
     "output_type": "execute_result"
    }
   ],
   "source": [
    "merged = list(zip(Test_labels,predicted_labels)) \n",
    "comparison = pd.DataFrame(merged, columns=['Actual_Specis(Test_set)','Predicted_Species(Test_set)'])\n",
    "comparison #check index 15 (the only wrong prediction , same inference as confusion matrix )"
   ]
  },
  {
   "cell_type": "code",
   "execution_count": null,
   "metadata": {},
   "outputs": [],
   "source": []
  }
 ],
 "metadata": {
  "kernelspec": {
   "display_name": "Python 3",
   "language": "python",
   "name": "python3"
  },
  "language_info": {
   "codemirror_mode": {
    "name": "ipython",
    "version": 3
   },
   "file_extension": ".py",
   "mimetype": "text/x-python",
   "name": "python",
   "nbconvert_exporter": "python",
   "pygments_lexer": "ipython3",
   "version": "3.6.5"
  }
 },
 "nbformat": 4,
 "nbformat_minor": 2
}
