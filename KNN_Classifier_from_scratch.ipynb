{
 "cells": [
  {
   "cell_type": "markdown",
   "metadata": {},
   "source": [
    "# Imports"
   ]
  },
  {
   "cell_type": "code",
   "execution_count": 1,
   "metadata": {},
   "outputs": [],
   "source": [
    "import pandas as pd\n",
    "import numpy as np\n",
    "from math import sqrt\n",
    "import matplotlib.pyplot as plt\n",
    "from sklearn.model_selection import train_test_split\n",
    "\n",
    "from sklearn.metrics import accuracy_score\n",
    "from sklearn.metrics import confusion_matrix \n",
    "from sklearn.metrics import precision_score\n",
    "from sklearn.metrics import recall_score\n",
    "from sklearn.metrics import f1_score\n",
    "\n",
    "%matplotlib inline"
   ]
  },
  {
   "cell_type": "markdown",
   "metadata": {},
   "source": [
    "# Function to calculate distance between two vectors / points ."
   ]
  },
  {
   "cell_type": "code",
   "execution_count": 2,
   "metadata": {},
   "outputs": [],
   "source": [
    "def euclidean_distance(vector1, vector2):\n",
    "    distance = 0.0\n",
    "    for i in range(len(vector1)):\n",
    "        distance += (vector1[i] - vector2[i])**2\n",
    "        \n",
    "    return sqrt(distance)"
   ]
  },
  {
   "cell_type": "markdown",
   "metadata": {},
   "source": [
    "# Function to return the 'K' nearnest neighbours to a given test case/sample"
   ]
  },
  {
   "cell_type": "code",
   "execution_count": 3,
   "metadata": {},
   "outputs": [],
   "source": [
    "def nearest_neighbours(training_set, testsample, k):\n",
    "    a = len(training_set[1])-1 \n",
    "    distances = list()\n",
    "    for i in training_set:\n",
    "        d = euclidean_distance(i[0:a],testsample)\n",
    "        distances.append((i, d)) #enter the training example and its distance from our test case\n",
    "    distances.sort(key=lambda tup: tup[1]) #sort based on coloum 1 , i.e distance tup means tupple ,(this is the syntax)\n",
    "    neighbors = []\n",
    "    #from the sorted list extract the top training examples of top k rows as they are our nearest neighbour\n",
    "    for i in range(k):\n",
    "        neighbors.append(distances[i][0]) #row i , coloum 0 , coloum 0 has the features of training example\n",
    "    return neighbors"
   ]
  },
  {
   "cell_type": "markdown",
   "metadata": {},
   "source": [
    "# KNN Classifier function: \n",
    "\n",
    "    predicts the class label for one given test case/sample"
   ]
  },
  {
   "cell_type": "code",
   "execution_count": 4,
   "metadata": {},
   "outputs": [],
   "source": [
    "def KNearestNeighbourClassifier(training_set,test_sample,no_of_classes,k):\n",
    "    nn = nearest_neighbours(training_set,test_sample,k)\n",
    "    #this is universal , here it creates a dict  1:no. of setosa neighbour 2: no of versicolor neighbour 3:no of virginica\n",
    "    most_similar = dict.fromkeys(range(1,(no_of_classes+1)), 0)\n",
    "    \n",
    "    for negh in nn:\n",
    "        species = negh[len(negh)-1] #the last coloumn in the neighbours returned has the species entry or label\n",
    "        if species in most_similar:\n",
    "            most_similar[species] += 1\n",
    "        else:\n",
    "            most_similar[species] = 1\n",
    "        \n",
    "    maximum = 0\n",
    "    k = 0\n",
    "    for key, value in most_similar.items(): # get the key(species label) whose count is max or most common nearest neighbour\n",
    "        if value > maximum:\n",
    "            maximum = value\n",
    "            k = key  \n",
    "            \n",
    "    return k"
   ]
  },
  {
   "cell_type": "markdown",
   "metadata": {},
   "source": [
    "# Using A Public Dataset \n",
    "        \n",
    "        Dataset used : Iris\n",
    "        Description :\n",
    "                     150 rows / examples \n",
    "                     5 coloumn (4 features , 1 class label)\n",
    "                     feature: Sepal-Length\tSepal-Width\tPetal-Length\tPetal-Width\n",
    "                     3 classes : Iris-setosa , iris-versicolor , iris-virginica"
   ]
  },
  {
   "cell_type": "markdown",
   "metadata": {},
   "source": [
    "# Load and Perpare the DataSet according to the requirement of the KNN fucntion"
   ]
  },
  {
   "cell_type": "code",
   "execution_count": 5,
   "metadata": {},
   "outputs": [
    {
     "data": {
      "text/html": [
       "<div>\n",
       "<style scoped>\n",
       "    .dataframe tbody tr th:only-of-type {\n",
       "        vertical-align: middle;\n",
       "    }\n",
       "\n",
       "    .dataframe tbody tr th {\n",
       "        vertical-align: top;\n",
       "    }\n",
       "\n",
       "    .dataframe thead th {\n",
       "        text-align: right;\n",
       "    }\n",
       "</style>\n",
       "<table border=\"1\" class=\"dataframe\">\n",
       "  <thead>\n",
       "    <tr style=\"text-align: right;\">\n",
       "      <th></th>\n",
       "      <th>Id</th>\n",
       "      <th>SepalLengthCm</th>\n",
       "      <th>SepalWidthCm</th>\n",
       "      <th>PetalLengthCm</th>\n",
       "      <th>PetalWidthCm</th>\n",
       "      <th>Species</th>\n",
       "    </tr>\n",
       "  </thead>\n",
       "  <tbody>\n",
       "    <tr>\n",
       "      <th>0</th>\n",
       "      <td>1</td>\n",
       "      <td>5.1</td>\n",
       "      <td>3.5</td>\n",
       "      <td>1.4</td>\n",
       "      <td>0.2</td>\n",
       "      <td>Iris-setosa</td>\n",
       "    </tr>\n",
       "    <tr>\n",
       "      <th>1</th>\n",
       "      <td>2</td>\n",
       "      <td>4.9</td>\n",
       "      <td>3.0</td>\n",
       "      <td>1.4</td>\n",
       "      <td>0.2</td>\n",
       "      <td>Iris-setosa</td>\n",
       "    </tr>\n",
       "    <tr>\n",
       "      <th>2</th>\n",
       "      <td>3</td>\n",
       "      <td>4.7</td>\n",
       "      <td>3.2</td>\n",
       "      <td>1.3</td>\n",
       "      <td>0.2</td>\n",
       "      <td>Iris-setosa</td>\n",
       "    </tr>\n",
       "    <tr>\n",
       "      <th>3</th>\n",
       "      <td>4</td>\n",
       "      <td>4.6</td>\n",
       "      <td>3.1</td>\n",
       "      <td>1.5</td>\n",
       "      <td>0.2</td>\n",
       "      <td>Iris-setosa</td>\n",
       "    </tr>\n",
       "    <tr>\n",
       "      <th>4</th>\n",
       "      <td>5</td>\n",
       "      <td>5.0</td>\n",
       "      <td>3.6</td>\n",
       "      <td>1.4</td>\n",
       "      <td>0.2</td>\n",
       "      <td>Iris-setosa</td>\n",
       "    </tr>\n",
       "  </tbody>\n",
       "</table>\n",
       "</div>"
      ],
      "text/plain": [
       "   Id  SepalLengthCm  SepalWidthCm  PetalLengthCm  PetalWidthCm      Species\n",
       "0   1            5.1           3.5            1.4           0.2  Iris-setosa\n",
       "1   2            4.9           3.0            1.4           0.2  Iris-setosa\n",
       "2   3            4.7           3.2            1.3           0.2  Iris-setosa\n",
       "3   4            4.6           3.1            1.5           0.2  Iris-setosa\n",
       "4   5            5.0           3.6            1.4           0.2  Iris-setosa"
      ]
     },
     "execution_count": 5,
     "metadata": {},
     "output_type": "execute_result"
    }
   ],
   "source": [
    "iris = pd.read_csv('Iris.csv')\n",
    "iris.head()"
   ]
  },
  {
   "cell_type": "markdown",
   "metadata": {},
   "source": [
    "# Encoding class labels to numerical value\n",
    "    \n",
    "    Iris-setosa': 1,'Iris-versicolor': 2,'Iris-virginica' : 3"
   ]
  },
  {
   "cell_type": "code",
   "execution_count": 6,
   "metadata": {},
   "outputs": [
    {
     "data": {
      "text/html": [
       "<div>\n",
       "<style scoped>\n",
       "    .dataframe tbody tr th:only-of-type {\n",
       "        vertical-align: middle;\n",
       "    }\n",
       "\n",
       "    .dataframe tbody tr th {\n",
       "        vertical-align: top;\n",
       "    }\n",
       "\n",
       "    .dataframe thead th {\n",
       "        text-align: right;\n",
       "    }\n",
       "</style>\n",
       "<table border=\"1\" class=\"dataframe\">\n",
       "  <thead>\n",
       "    <tr style=\"text-align: right;\">\n",
       "      <th></th>\n",
       "      <th>Id</th>\n",
       "      <th>SepalLengthCm</th>\n",
       "      <th>SepalWidthCm</th>\n",
       "      <th>PetalLengthCm</th>\n",
       "      <th>PetalWidthCm</th>\n",
       "      <th>Species</th>\n",
       "    </tr>\n",
       "  </thead>\n",
       "  <tbody>\n",
       "    <tr>\n",
       "      <th>0</th>\n",
       "      <td>1</td>\n",
       "      <td>5.1</td>\n",
       "      <td>3.5</td>\n",
       "      <td>1.4</td>\n",
       "      <td>0.2</td>\n",
       "      <td>1</td>\n",
       "    </tr>\n",
       "    <tr>\n",
       "      <th>1</th>\n",
       "      <td>2</td>\n",
       "      <td>4.9</td>\n",
       "      <td>3.0</td>\n",
       "      <td>1.4</td>\n",
       "      <td>0.2</td>\n",
       "      <td>1</td>\n",
       "    </tr>\n",
       "    <tr>\n",
       "      <th>2</th>\n",
       "      <td>3</td>\n",
       "      <td>4.7</td>\n",
       "      <td>3.2</td>\n",
       "      <td>1.3</td>\n",
       "      <td>0.2</td>\n",
       "      <td>1</td>\n",
       "    </tr>\n",
       "    <tr>\n",
       "      <th>3</th>\n",
       "      <td>4</td>\n",
       "      <td>4.6</td>\n",
       "      <td>3.1</td>\n",
       "      <td>1.5</td>\n",
       "      <td>0.2</td>\n",
       "      <td>1</td>\n",
       "    </tr>\n",
       "    <tr>\n",
       "      <th>4</th>\n",
       "      <td>5</td>\n",
       "      <td>5.0</td>\n",
       "      <td>3.6</td>\n",
       "      <td>1.4</td>\n",
       "      <td>0.2</td>\n",
       "      <td>1</td>\n",
       "    </tr>\n",
       "  </tbody>\n",
       "</table>\n",
       "</div>"
      ],
      "text/plain": [
       "   Id  SepalLengthCm  SepalWidthCm  PetalLengthCm  PetalWidthCm  Species\n",
       "0   1            5.1           3.5            1.4           0.2        1\n",
       "1   2            4.9           3.0            1.4           0.2        1\n",
       "2   3            4.7           3.2            1.3           0.2        1\n",
       "3   4            4.6           3.1            1.5           0.2        1\n",
       "4   5            5.0           3.6            1.4           0.2        1"
      ]
     },
     "execution_count": 6,
     "metadata": {},
     "output_type": "execute_result"
    }
   ],
   "source": [
    "species = {'Iris-setosa': 1,'Iris-versicolor': 2,'Iris-virginica' : 3}\n",
    "iris.Species = [species[item] for item in iris.Species]\n",
    "iris.head()"
   ]
  },
  {
   "cell_type": "code",
   "execution_count": 7,
   "metadata": {},
   "outputs": [
    {
     "name": "stdout",
     "output_type": "stream",
     "text": [
      "<class 'pandas.core.frame.DataFrame'>\n",
      "RangeIndex: 150 entries, 0 to 149\n",
      "Data columns (total 6 columns):\n",
      "Id               150 non-null int64\n",
      "SepalLengthCm    150 non-null float64\n",
      "SepalWidthCm     150 non-null float64\n",
      "PetalLengthCm    150 non-null float64\n",
      "PetalWidthCm     150 non-null float64\n",
      "Species          150 non-null int64\n",
      "dtypes: float64(4), int64(2)\n",
      "memory usage: 7.1 KB\n"
     ]
    }
   ],
   "source": [
    "iris.info()"
   ]
  },
  {
   "cell_type": "code",
   "execution_count": 8,
   "metadata": {},
   "outputs": [
    {
     "data": {
      "text/plain": [
       "Index(['Id', 'SepalLengthCm', 'SepalWidthCm', 'PetalLengthCm', 'PetalWidthCm',\n",
       "       'Species'],\n",
       "      dtype='object')"
      ]
     },
     "execution_count": 8,
     "metadata": {},
     "output_type": "execute_result"
    }
   ],
   "source": [
    "iris.columns"
   ]
  },
  {
   "cell_type": "markdown",
   "metadata": {},
   "source": [
    "# Seperating Features and Class Labels"
   ]
  },
  {
   "cell_type": "code",
   "execution_count": 9,
   "metadata": {},
   "outputs": [
    {
     "data": {
      "text/html": [
       "<div>\n",
       "<style scoped>\n",
       "    .dataframe tbody tr th:only-of-type {\n",
       "        vertical-align: middle;\n",
       "    }\n",
       "\n",
       "    .dataframe tbody tr th {\n",
       "        vertical-align: top;\n",
       "    }\n",
       "\n",
       "    .dataframe thead th {\n",
       "        text-align: right;\n",
       "    }\n",
       "</style>\n",
       "<table border=\"1\" class=\"dataframe\">\n",
       "  <thead>\n",
       "    <tr style=\"text-align: right;\">\n",
       "      <th></th>\n",
       "      <th>SepalLengthCm</th>\n",
       "      <th>SepalWidthCm</th>\n",
       "      <th>PetalLengthCm</th>\n",
       "      <th>PetalWidthCm</th>\n",
       "    </tr>\n",
       "  </thead>\n",
       "  <tbody>\n",
       "    <tr>\n",
       "      <th>0</th>\n",
       "      <td>5.1</td>\n",
       "      <td>3.5</td>\n",
       "      <td>1.4</td>\n",
       "      <td>0.2</td>\n",
       "    </tr>\n",
       "    <tr>\n",
       "      <th>1</th>\n",
       "      <td>4.9</td>\n",
       "      <td>3.0</td>\n",
       "      <td>1.4</td>\n",
       "      <td>0.2</td>\n",
       "    </tr>\n",
       "    <tr>\n",
       "      <th>2</th>\n",
       "      <td>4.7</td>\n",
       "      <td>3.2</td>\n",
       "      <td>1.3</td>\n",
       "      <td>0.2</td>\n",
       "    </tr>\n",
       "    <tr>\n",
       "      <th>3</th>\n",
       "      <td>4.6</td>\n",
       "      <td>3.1</td>\n",
       "      <td>1.5</td>\n",
       "      <td>0.2</td>\n",
       "    </tr>\n",
       "    <tr>\n",
       "      <th>4</th>\n",
       "      <td>5.0</td>\n",
       "      <td>3.6</td>\n",
       "      <td>1.4</td>\n",
       "      <td>0.2</td>\n",
       "    </tr>\n",
       "  </tbody>\n",
       "</table>\n",
       "</div>"
      ],
      "text/plain": [
       "   SepalLengthCm  SepalWidthCm  PetalLengthCm  PetalWidthCm\n",
       "0            5.1           3.5            1.4           0.2\n",
       "1            4.9           3.0            1.4           0.2\n",
       "2            4.7           3.2            1.3           0.2\n",
       "3            4.6           3.1            1.5           0.2\n",
       "4            5.0           3.6            1.4           0.2"
      ]
     },
     "execution_count": 9,
     "metadata": {},
     "output_type": "execute_result"
    }
   ],
   "source": [
    "iris_features = iris[['SepalLengthCm', 'SepalWidthCm', 'PetalLengthCm', 'PetalWidthCm']]\n",
    "iris_features.head()"
   ]
  },
  {
   "cell_type": "code",
   "execution_count": 10,
   "metadata": {},
   "outputs": [
    {
     "data": {
      "text/plain": [
       "0    1\n",
       "1    1\n",
       "2    1\n",
       "3    1\n",
       "4    1\n",
       "Name: Species, dtype: int64"
      ]
     },
     "execution_count": 10,
     "metadata": {},
     "output_type": "execute_result"
    }
   ],
   "source": [
    "iris_target = iris['Species']\n",
    "iris_target.head()"
   ]
  },
  {
   "cell_type": "markdown",
   "metadata": {},
   "source": [
    "# Split dataset into Training and Test set"
   ]
  },
  {
   "cell_type": "code",
   "execution_count": 11,
   "metadata": {},
   "outputs": [],
   "source": [
    "training_features, testing_features, training_labels, testing_labels = train_test_split(iris_features, iris_target,test_size = 0.4, stratify= iris_target, random_state= 42)"
   ]
  },
  {
   "cell_type": "code",
   "execution_count": 12,
   "metadata": {},
   "outputs": [
    {
     "data": {
      "text/html": [
       "<div>\n",
       "<style scoped>\n",
       "    .dataframe tbody tr th:only-of-type {\n",
       "        vertical-align: middle;\n",
       "    }\n",
       "\n",
       "    .dataframe tbody tr th {\n",
       "        vertical-align: top;\n",
       "    }\n",
       "\n",
       "    .dataframe thead th {\n",
       "        text-align: right;\n",
       "    }\n",
       "</style>\n",
       "<table border=\"1\" class=\"dataframe\">\n",
       "  <thead>\n",
       "    <tr style=\"text-align: right;\">\n",
       "      <th></th>\n",
       "      <th>SepalLengthCm</th>\n",
       "      <th>SepalWidthCm</th>\n",
       "      <th>PetalLengthCm</th>\n",
       "      <th>PetalWidthCm</th>\n",
       "    </tr>\n",
       "  </thead>\n",
       "  <tbody>\n",
       "    <tr>\n",
       "      <th>130</th>\n",
       "      <td>7.4</td>\n",
       "      <td>2.8</td>\n",
       "      <td>6.1</td>\n",
       "      <td>1.9</td>\n",
       "    </tr>\n",
       "    <tr>\n",
       "      <th>6</th>\n",
       "      <td>4.6</td>\n",
       "      <td>3.4</td>\n",
       "      <td>1.4</td>\n",
       "      <td>0.3</td>\n",
       "    </tr>\n",
       "    <tr>\n",
       "      <th>94</th>\n",
       "      <td>5.6</td>\n",
       "      <td>2.7</td>\n",
       "      <td>4.2</td>\n",
       "      <td>1.3</td>\n",
       "    </tr>\n",
       "    <tr>\n",
       "      <th>96</th>\n",
       "      <td>5.7</td>\n",
       "      <td>2.9</td>\n",
       "      <td>4.2</td>\n",
       "      <td>1.3</td>\n",
       "    </tr>\n",
       "    <tr>\n",
       "      <th>26</th>\n",
       "      <td>5.0</td>\n",
       "      <td>3.4</td>\n",
       "      <td>1.6</td>\n",
       "      <td>0.4</td>\n",
       "    </tr>\n",
       "  </tbody>\n",
       "</table>\n",
       "</div>"
      ],
      "text/plain": [
       "     SepalLengthCm  SepalWidthCm  PetalLengthCm  PetalWidthCm\n",
       "130            7.4           2.8            6.1           1.9\n",
       "6              4.6           3.4            1.4           0.3\n",
       "94             5.6           2.7            4.2           1.3\n",
       "96             5.7           2.9            4.2           1.3\n",
       "26             5.0           3.4            1.6           0.4"
      ]
     },
     "execution_count": 12,
     "metadata": {},
     "output_type": "execute_result"
    }
   ],
   "source": [
    "training_features.head()"
   ]
  },
  {
   "cell_type": "code",
   "execution_count": 13,
   "metadata": {},
   "outputs": [
    {
     "data": {
      "text/plain": [
       "130    3\n",
       "6      1\n",
       "94     2\n",
       "96     2\n",
       "26     1\n",
       "Name: Species, dtype: int64"
      ]
     },
     "execution_count": 13,
     "metadata": {},
     "output_type": "execute_result"
    }
   ],
   "source": [
    "training_labels.head()"
   ]
  },
  {
   "cell_type": "code",
   "execution_count": 14,
   "metadata": {},
   "outputs": [
    {
     "name": "stdout",
     "output_type": "stream",
     "text": [
      "90\n",
      "90\n",
      "60\n",
      "60\n",
      "<class 'pandas.core.frame.DataFrame'>\n",
      "<class 'pandas.core.series.Series'>\n",
      "<class 'pandas.core.frame.DataFrame'>\n",
      "<class 'pandas.core.series.Series'>\n"
     ]
    }
   ],
   "source": [
    "print(len(training_features))\n",
    "print(len(training_labels))\n",
    "print(len(testing_features))\n",
    "print(len(testing_labels))\n",
    "print(type(training_features))\n",
    "print(type(training_labels))\n",
    "print(type(testing_features))\n",
    "print(type(testing_labels))"
   ]
  },
  {
   "cell_type": "markdown",
   "metadata": {},
   "source": [
    "# As the split data is still a pandas DataFrame and Series\n",
    "     we convert them into numpy arrays for calcution purpose"
   ]
  },
  {
   "cell_type": "code",
   "execution_count": 15,
   "metadata": {},
   "outputs": [
    {
     "name": "stdout",
     "output_type": "stream",
     "text": [
      "<class 'numpy.ndarray'>\n",
      "<class 'numpy.ndarray'>\n",
      "<class 'numpy.ndarray'>\n"
     ]
    }
   ],
   "source": [
    "training_features_array = training_features.values\n",
    "training_labels_array = training_labels.values\n",
    "testing_features_array = testing_features.values\n",
    "print(type(training_features_array))\n",
    "print(type(training_labels_array))\n",
    "print(type(testing_features_array))"
   ]
  },
  {
   "cell_type": "code",
   "execution_count": 16,
   "metadata": {},
   "outputs": [
    {
     "data": {
      "text/plain": [
       "array([[5. , 3.5, 1.3, 0.3],\n",
       "       [5.9, 3. , 4.2, 1.5],\n",
       "       [5.7, 3.8, 1.7, 0.3],\n",
       "       [5. , 3.3, 1.4, 0.2],\n",
       "       [4.9, 2.5, 4.5, 1.7],\n",
       "       [5.4, 3.4, 1.7, 0.2],\n",
       "       [5.6, 2.5, 3.9, 1.1],\n",
       "       [5. , 2.3, 3.3, 1. ],\n",
       "       [6.9, 3.1, 5.1, 2.3],\n",
       "       [6.5, 3. , 5.8, 2.2],\n",
       "       [6. , 3.4, 4.5, 1.6],\n",
       "       [6. , 2.9, 4.5, 1.5],\n",
       "       [6.3, 2.8, 5.1, 1.5],\n",
       "       [6.1, 3. , 4.9, 1.8],\n",
       "       [4.7, 3.2, 1.3, 0.2],\n",
       "       [4.9, 3. , 1.4, 0.2],\n",
       "       [5. , 3.2, 1.2, 0.2],\n",
       "       [4.4, 3.2, 1.3, 0.2],\n",
       "       [6.2, 3.4, 5.4, 2.3],\n",
       "       [7.7, 2.8, 6.7, 2. ],\n",
       "       [6.7, 3. , 5. , 1.7],\n",
       "       [5.1, 2.5, 3. , 1.1],\n",
       "       [7.3, 2.9, 6.3, 1.8],\n",
       "       [6.4, 2.7, 5.3, 1.9],\n",
       "       [6.4, 3.2, 4.5, 1.5],\n",
       "       [6.4, 2.8, 5.6, 2.2],\n",
       "       [6.5, 3. , 5.5, 1.8],\n",
       "       [5.5, 3.5, 1.3, 0.2],\n",
       "       [6.3, 2.7, 4.9, 1.8],\n",
       "       [5.1, 3.3, 1.7, 0.5],\n",
       "       [6.7, 3. , 5.2, 2.3],\n",
       "       [6.2, 2.9, 4.3, 1.3],\n",
       "       [6.1, 2.6, 5.6, 1.4],\n",
       "       [5.1, 3.7, 1.5, 0.4],\n",
       "       [4.6, 3.6, 1. , 0.2],\n",
       "       [6.7, 2.5, 5.8, 1.8],\n",
       "       [4.8, 3.4, 1.6, 0.2],\n",
       "       [5.7, 2.8, 4.5, 1.3],\n",
       "       [5. , 3.4, 1.5, 0.2],\n",
       "       [6.5, 3. , 5.2, 2. ],\n",
       "       [6.3, 3.3, 4.7, 1.6],\n",
       "       [6.7, 3.3, 5.7, 2.5],\n",
       "       [5.6, 3. , 4.5, 1.5],\n",
       "       [6.1, 2.9, 4.7, 1.4],\n",
       "       [5.8, 2.7, 4.1, 1. ],\n",
       "       [6.3, 2.3, 4.4, 1.3],\n",
       "       [5.5, 2.3, 4. , 1.3],\n",
       "       [5.4, 3.7, 1.5, 0.2],\n",
       "       [4.7, 3.2, 1.6, 0.2],\n",
       "       [6. , 3. , 4.8, 1.8],\n",
       "       [5.8, 4. , 1.2, 0.2],\n",
       "       [6.6, 3. , 4.4, 1.4],\n",
       "       [6.6, 2.9, 4.6, 1.3],\n",
       "       [4.9, 2.4, 3.3, 1. ],\n",
       "       [7.1, 3. , 5.9, 2.1],\n",
       "       [6.7, 3.1, 5.6, 2.4],\n",
       "       [5. , 3.5, 1.6, 0.6],\n",
       "       [5.4, 3. , 4.5, 1.5],\n",
       "       [4.4, 3. , 1.3, 0.2],\n",
       "       [5.2, 3.4, 1.4, 0.2]])"
      ]
     },
     "execution_count": 16,
     "metadata": {},
     "output_type": "execute_result"
    }
   ],
   "source": [
    "testing_features_array"
   ]
  },
  {
   "cell_type": "code",
   "execution_count": 17,
   "metadata": {},
   "outputs": [
    {
     "data": {
      "text/plain": [
       "40     1\n",
       "61     2\n",
       "18     1\n",
       "49     1\n",
       "106    3\n",
       "20     1\n",
       "69     2\n",
       "93     2\n",
       "141    3\n",
       "104    3\n",
       "85     2\n",
       "78     2\n",
       "133    3\n",
       "127    3\n",
       "2      1\n",
       "1      1\n",
       "35     1\n",
       "42     1\n",
       "148    3\n",
       "122    3\n",
       "77     2\n",
       "98     2\n",
       "107    3\n",
       "111    3\n",
       "51     2\n",
       "132    3\n",
       "116    3\n",
       "36     1\n",
       "123    3\n",
       "23     1\n",
       "145    3\n",
       "97     2\n",
       "134    3\n",
       "21     1\n",
       "22     1\n",
       "108    3\n",
       "11     1\n",
       "55     2\n",
       "7      1\n",
       "147    3\n",
       "56     2\n",
       "144    3\n",
       "66     2\n",
       "63     2\n",
       "67     2\n",
       "87     2\n",
       "53     2\n",
       "10     1\n",
       "29     1\n",
       "138    3\n",
       "14     1\n",
       "75     2\n",
       "58     2\n",
       "57     2\n",
       "102    3\n",
       "140    3\n",
       "43     1\n",
       "84     2\n",
       "38     1\n",
       "28     1\n",
       "Name: Species, dtype: int64"
      ]
     },
     "execution_count": 17,
     "metadata": {},
     "output_type": "execute_result"
    }
   ],
   "source": [
    "testing_labels"
   ]
  },
  {
   "cell_type": "markdown",
   "metadata": {},
   "source": [
    "# We need the training set to also contain their respective labels \n",
    "\n",
    "    so for prediction purpose we merge the training data and  training labels \n",
    "    note: no need to merge the test data with test labels\n",
    "    \n",
    "    (we can aslo compare this value with the dataframe version of training examples)"
   ]
  },
  {
   "cell_type": "code",
   "execution_count": 18,
   "metadata": {},
   "outputs": [
    {
     "data": {
      "text/plain": [
       "array([[7.4, 2.8, 6.1, 1.9, 3. ],\n",
       "       [4.6, 3.4, 1.4, 0.3, 1. ],\n",
       "       [5.6, 2.7, 4.2, 1.3, 2. ],\n",
       "       [5.7, 2.9, 4.2, 1.3, 2. ],\n",
       "       [5. , 3.4, 1.6, 0.4, 1. ]])"
      ]
     },
     "execution_count": 18,
     "metadata": {},
     "output_type": "execute_result"
    }
   ],
   "source": [
    "training_set = np.column_stack((training_features_array,training_labels_array))\n",
    "training_set[0:5]"
   ]
  },
  {
   "cell_type": "markdown",
   "metadata": {},
   "source": [
    "# Making predictions and checking accuracy:\n",
    "\n",
    "    Using our training & test sets along with the Classifier function with a ranodm value of k\n",
    "    where, k: number of nearest neighbors to consider"
   ]
  },
  {
   "cell_type": "code",
   "execution_count": 19,
   "metadata": {},
   "outputs": [],
   "source": [
    "label_count = testing_labels.nunique()\n",
    "test_set_predictions=[]\n",
    "for i in testing_features_array:\n",
    "    pred = KNearestNeighbourClassifier(training_set,i,k=2,no_of_classes=label_count)\n",
    "    test_set_predictions.append(pred)"
   ]
  },
  {
   "cell_type": "code",
   "execution_count": 20,
   "metadata": {},
   "outputs": [
    {
     "name": "stdout",
     "output_type": "stream",
     "text": [
      "Test set accuracy with 2 nearest neighbours = 0.933 \n"
     ]
    }
   ],
   "source": [
    "print(\"Test set accuracy with 2 nearest neighbours = %.3f \" %(accuracy_score(testing_labels, test_set_predictions)))"
   ]
  },
  {
   "cell_type": "markdown",
   "metadata": {},
   "source": [
    "# Optimizing the model :\n",
    "\n",
    "    checking accuracy of model on training and test sets with multiple value of k to prevent \n",
    "    overfitting or underfitting of model"
   ]
  },
  {
   "cell_type": "code",
   "execution_count": 21,
   "metadata": {},
   "outputs": [],
   "source": [
    "training_accuracy = []\n",
    "test_accuracy = []\n",
    "neighbors_settings = range(1,21) # 1 inclusive 21 exclusive so  1 - 20\n",
    "\n",
    "for n in neighbors_settings:\n",
    "    test_set_predictions=[]\n",
    "    for i in testing_features_array:\n",
    "        pred = KNearestNeighbourClassifier(training_set,i,k=n,no_of_classes=label_count)\n",
    "        test_set_predictions.append(pred)\n",
    "    \n",
    "    test_accuracy.append(accuracy_score(testing_labels, test_set_predictions))\n",
    "    \n",
    "    training_set_predictions=[]\n",
    "    for i in training_features_array:\n",
    "        pred = KNearestNeighbourClassifier(training_set,i,k=n,no_of_classes=label_count)\n",
    "        training_set_predictions.append(pred)\n",
    "    \n",
    "    training_accuracy.append(accuracy_score(training_labels, training_set_predictions))"
   ]
  },
  {
   "cell_type": "code",
   "execution_count": 22,
   "metadata": {},
   "outputs": [
    {
     "data": {
      "text/plain": [
       "<matplotlib.legend.Legend at 0x3509a08e48>"
      ]
     },
     "execution_count": 22,
     "metadata": {},
     "output_type": "execute_result"
    },
    {
     "data": {
      "image/png": "[encoded data removed]",
      "text/plain": [
       "<Figure size 432x288 with 1 Axes>"
      ]
     },
     "metadata": {},
     "output_type": "display_data"
    }
   ],
   "source": [
    "plt.plot(neighbors_settings, training_accuracy, label = 'Accuracy of the Training Set')\n",
    "plt.plot(neighbors_settings, test_accuracy, label = 'Accuracy of the Test Set')\n",
    "plt.ylabel('Accuracy')\n",
    "plt.xticks(neighbors_settings)\n",
    "plt.xlabel('Number of Neighbors')\n",
    "plt.legend()"
   ]
  },
  {
   "cell_type": "markdown",
   "metadata": {},
   "source": [
    "# Inference\n",
    "\n",
    "    in the graph we see the minimum value of k when the training and testing accuracy is identical\n",
    "    is when k (no of nearset neighbour) = 3 or 7\n",
    "    so we select the Optimal value of 'k' for this dataset as 3\n",
    "    \n",
    "    Then using this value of 'k'  we make our final Predictions and check our classifier's performance"
   ]
  },
  {
   "cell_type": "code",
   "execution_count": 23,
   "metadata": {},
   "outputs": [
    {
     "name": "stdout",
     "output_type": "stream",
     "text": [
      "Test set accuracy with optimal nearest neighbour : 3 is = 0.967 \n"
     ]
    }
   ],
   "source": [
    "Final_predictions=[]\n",
    "optimal_nearest_neighbour=3\n",
    "for i in testing_features_array:\n",
    "    pred = KNearestNeighbourClassifier(training_set,i,k=optimal_nearest_neighbour,no_of_classes=label_count)\n",
    "    Final_predictions.append(pred)\n",
    "    \n",
    "print(\"Test set accuracy with optimal nearest neighbour : %d is = %.3f \" %(optimal_nearest_neighbour,(accuracy_score(testing_labels, Final_predictions))))"
   ]
  },
  {
   "cell_type": "markdown",
   "metadata": {},
   "source": [
    "# Confusion Matrix And calculating Precision Recall and F1 Score\n",
    "\n",
    "            In the Confusion Matrix : 'Iris-setosa': 1,'Iris-versicolor': 2,'Iris-virginica' : 3 (class Labels)\n",
    "            Row represents actual Species while the columns represents the predicted Species\n",
    "\n",
    "            1st row : 1st column :Actual Species = Iris-Setosa ; Predicted Species = Iris-Setosa\n",
    "            1st row : 2nd column :Actual Species = Iris-Setosa ; Predicted Species = Iris-versicolor\n",
    "            1st row : 3rd column :Actual Species = Iris-Setosa ; Predicted Species = Iris-virginica\n",
    "\n",
    "            2nd row : 1st column :Actual Species = Iris-versicolor ; Predicted Species = Iris-Setosa\n",
    "            2nd row : 2nd column :Actual Species = Iris-versicolor ; Predicted Species = Iris-versicolor\n",
    "            2nd row : 3rd column :Actual Species = Iris-versicolor ; Predicted Species = Iris-virginica\n",
    "\n",
    "            3rd row : 1st column :Actual Species = Iris-virginica ; Predicted Species = Iris-Setosa\n",
    "            3rd row : 2nd column :Actual Species = Iris-virginica ; Predicted Species = Iris-versicolor\n",
    "            3rd row : 3rd column :Actual Species = Iris-virginica ; Predicted Species = Iris-virginica"
   ]
  },
  {
   "cell_type": "code",
   "execution_count": 24,
   "metadata": {},
   "outputs": [
    {
     "name": "stdout",
     "output_type": "stream",
     "text": [
      "[[20  0  0]\n",
      " [ 0 20  0]\n",
      " [ 0  2 18]]\n"
     ]
    }
   ],
   "source": [
    "cm  = confusion_matrix(testing_labels,Final_predictions )\n",
    "print(cm)"
   ]
  },
  {
   "cell_type": "markdown",
   "metadata": {},
   "source": [
    "# Precision Recall & F1 Score:\n",
    "\n",
    "        Precison = True Postive/(Total predicted Positive) || True Postive/(True Positive + False Positive)\n",
    "                   Precision talks about how precise/accurate the model is, i.e. out of total predicted positive,\n",
    "                   how many of them are actual positive.\n",
    "\n",
    "        Recall = True Positive/(Total actual Positive) || True Postive/(True Positive + False Negetive)\n",
    "                 Recall calculates how many of the Actual Positives the model captures by labeling it \n",
    "                 as Positive (True Positive)\n",
    "\n",
    "        F1 Score = (2 * Precision * Recall) / (Precision + Recall)"
   ]
  },
  {
   "cell_type": "code",
   "execution_count": 25,
   "metadata": {},
   "outputs": [
    {
     "name": "stdout",
     "output_type": "stream",
     "text": [
      "Precision of the KNN Model : 0.970\n",
      "Recall of the KNN Model : 0.967\n",
      "F1 Score of the KNN Model : 0.967\n"
     ]
    }
   ],
   "source": [
    "precision = precision_score(testing_labels,Final_predictions, average='macro')\n",
    "print('Precision of the KNN Model : %.3f' % precision)\n",
    "recall = recall_score(testing_labels,Final_predictions, average='macro')\n",
    "print('Recall of the KNN Model : %.3f' %recall)\n",
    "f1 = f1_score(testing_labels,Final_predictions, average='macro')\n",
    "print('F1 Score of the KNN Model : %.3f' %f1)"
   ]
  },
  {
   "cell_type": "markdown",
   "metadata": {},
   "source": [
    "# Comparing predicted species and actual species of test set side by side"
   ]
  },
  {
   "cell_type": "code",
   "execution_count": 26,
   "metadata": {},
   "outputs": [
    {
     "data": {
      "text/html": [
       "<div>\n",
       "<style scoped>\n",
       "    .dataframe tbody tr th:only-of-type {\n",
       "        vertical-align: middle;\n",
       "    }\n",
       "\n",
       "    .dataframe tbody tr th {\n",
       "        vertical-align: top;\n",
       "    }\n",
       "\n",
       "    .dataframe thead th {\n",
       "        text-align: right;\n",
       "    }\n",
       "</style>\n",
       "<table border=\"1\" class=\"dataframe\">\n",
       "  <thead>\n",
       "    <tr style=\"text-align: right;\">\n",
       "      <th></th>\n",
       "      <th>Actual_Species</th>\n",
       "      <th>Predicted_Species</th>\n",
       "    </tr>\n",
       "  </thead>\n",
       "  <tbody>\n",
       "    <tr>\n",
       "      <th>40</th>\n",
       "      <td>1</td>\n",
       "      <td>1</td>\n",
       "    </tr>\n",
       "    <tr>\n",
       "      <th>61</th>\n",
       "      <td>2</td>\n",
       "      <td>2</td>\n",
       "    </tr>\n",
       "    <tr>\n",
       "      <th>18</th>\n",
       "      <td>1</td>\n",
       "      <td>1</td>\n",
       "    </tr>\n",
       "    <tr>\n",
       "      <th>49</th>\n",
       "      <td>1</td>\n",
       "      <td>1</td>\n",
       "    </tr>\n",
       "    <tr>\n",
       "      <th>106</th>\n",
       "      <td>3</td>\n",
       "      <td>2</td>\n",
       "    </tr>\n",
       "    <tr>\n",
       "      <th>20</th>\n",
       "      <td>1</td>\n",
       "      <td>1</td>\n",
       "    </tr>\n",
       "    <tr>\n",
       "      <th>69</th>\n",
       "      <td>2</td>\n",
       "      <td>2</td>\n",
       "    </tr>\n",
       "    <tr>\n",
       "      <th>93</th>\n",
       "      <td>2</td>\n",
       "      <td>2</td>\n",
       "    </tr>\n",
       "    <tr>\n",
       "      <th>141</th>\n",
       "      <td>3</td>\n",
       "      <td>3</td>\n",
       "    </tr>\n",
       "    <tr>\n",
       "      <th>104</th>\n",
       "      <td>3</td>\n",
       "      <td>3</td>\n",
       "    </tr>\n",
       "    <tr>\n",
       "      <th>85</th>\n",
       "      <td>2</td>\n",
       "      <td>2</td>\n",
       "    </tr>\n",
       "    <tr>\n",
       "      <th>78</th>\n",
       "      <td>2</td>\n",
       "      <td>2</td>\n",
       "    </tr>\n",
       "    <tr>\n",
       "      <th>133</th>\n",
       "      <td>3</td>\n",
       "      <td>2</td>\n",
       "    </tr>\n",
       "    <tr>\n",
       "      <th>127</th>\n",
       "      <td>3</td>\n",
       "      <td>3</td>\n",
       "    </tr>\n",
       "    <tr>\n",
       "      <th>2</th>\n",
       "      <td>1</td>\n",
       "      <td>1</td>\n",
       "    </tr>\n",
       "    <tr>\n",
       "      <th>1</th>\n",
       "      <td>1</td>\n",
       "      <td>1</td>\n",
       "    </tr>\n",
       "    <tr>\n",
       "      <th>35</th>\n",
       "      <td>1</td>\n",
       "      <td>1</td>\n",
       "    </tr>\n",
       "    <tr>\n",
       "      <th>42</th>\n",
       "      <td>1</td>\n",
       "      <td>1</td>\n",
       "    </tr>\n",
       "    <tr>\n",
       "      <th>148</th>\n",
       "      <td>3</td>\n",
       "      <td>3</td>\n",
       "    </tr>\n",
       "    <tr>\n",
       "      <th>122</th>\n",
       "      <td>3</td>\n",
       "      <td>3</td>\n",
       "    </tr>\n",
       "    <tr>\n",
       "      <th>77</th>\n",
       "      <td>2</td>\n",
       "      <td>2</td>\n",
       "    </tr>\n",
       "    <tr>\n",
       "      <th>98</th>\n",
       "      <td>2</td>\n",
       "      <td>2</td>\n",
       "    </tr>\n",
       "    <tr>\n",
       "      <th>107</th>\n",
       "      <td>3</td>\n",
       "      <td>3</td>\n",
       "    </tr>\n",
       "    <tr>\n",
       "      <th>111</th>\n",
       "      <td>3</td>\n",
       "      <td>3</td>\n",
       "    </tr>\n",
       "    <tr>\n",
       "      <th>51</th>\n",
       "      <td>2</td>\n",
       "      <td>2</td>\n",
       "    </tr>\n",
       "    <tr>\n",
       "      <th>132</th>\n",
       "      <td>3</td>\n",
       "      <td>3</td>\n",
       "    </tr>\n",
       "    <tr>\n",
       "      <th>116</th>\n",
       "      <td>3</td>\n",
       "      <td>3</td>\n",
       "    </tr>\n",
       "    <tr>\n",
       "      <th>36</th>\n",
       "      <td>1</td>\n",
       "      <td>1</td>\n",
       "    </tr>\n",
       "    <tr>\n",
       "      <th>123</th>\n",
       "      <td>3</td>\n",
       "      <td>3</td>\n",
       "    </tr>\n",
       "    <tr>\n",
       "      <th>23</th>\n",
       "      <td>1</td>\n",
       "      <td>1</td>\n",
       "    </tr>\n",
       "    <tr>\n",
       "      <th>145</th>\n",
       "      <td>3</td>\n",
       "      <td>3</td>\n",
       "    </tr>\n",
       "    <tr>\n",
       "      <th>97</th>\n",
       "      <td>2</td>\n",
       "      <td>2</td>\n",
       "    </tr>\n",
       "    <tr>\n",
       "      <th>134</th>\n",
       "      <td>3</td>\n",
       "      <td>3</td>\n",
       "    </tr>\n",
       "    <tr>\n",
       "      <th>21</th>\n",
       "      <td>1</td>\n",
       "      <td>1</td>\n",
       "    </tr>\n",
       "    <tr>\n",
       "      <th>22</th>\n",
       "      <td>1</td>\n",
       "      <td>1</td>\n",
       "    </tr>\n",
       "    <tr>\n",
       "      <th>108</th>\n",
       "      <td>3</td>\n",
       "      <td>3</td>\n",
       "    </tr>\n",
       "    <tr>\n",
       "      <th>11</th>\n",
       "      <td>1</td>\n",
       "      <td>1</td>\n",
       "    </tr>\n",
       "    <tr>\n",
       "      <th>55</th>\n",
       "      <td>2</td>\n",
       "      <td>2</td>\n",
       "    </tr>\n",
       "    <tr>\n",
       "      <th>7</th>\n",
       "      <td>1</td>\n",
       "      <td>1</td>\n",
       "    </tr>\n",
       "    <tr>\n",
       "      <th>147</th>\n",
       "      <td>3</td>\n",
       "      <td>3</td>\n",
       "    </tr>\n",
       "    <tr>\n",
       "      <th>56</th>\n",
       "      <td>2</td>\n",
       "      <td>2</td>\n",
       "    </tr>\n",
       "    <tr>\n",
       "      <th>144</th>\n",
       "      <td>3</td>\n",
       "      <td>3</td>\n",
       "    </tr>\n",
       "    <tr>\n",
       "      <th>66</th>\n",
       "      <td>2</td>\n",
       "      <td>2</td>\n",
       "    </tr>\n",
       "    <tr>\n",
       "      <th>63</th>\n",
       "      <td>2</td>\n",
       "      <td>2</td>\n",
       "    </tr>\n",
       "    <tr>\n",
       "      <th>67</th>\n",
       "      <td>2</td>\n",
       "      <td>2</td>\n",
       "    </tr>\n",
       "    <tr>\n",
       "      <th>87</th>\n",
       "      <td>2</td>\n",
       "      <td>2</td>\n",
       "    </tr>\n",
       "    <tr>\n",
       "      <th>53</th>\n",
       "      <td>2</td>\n",
       "      <td>2</td>\n",
       "    </tr>\n",
       "    <tr>\n",
       "      <th>10</th>\n",
       "      <td>1</td>\n",
       "      <td>1</td>\n",
       "    </tr>\n",
       "    <tr>\n",
       "      <th>29</th>\n",
       "      <td>1</td>\n",
       "      <td>1</td>\n",
       "    </tr>\n",
       "    <tr>\n",
       "      <th>138</th>\n",
       "      <td>3</td>\n",
       "      <td>3</td>\n",
       "    </tr>\n",
       "    <tr>\n",
       "      <th>14</th>\n",
       "      <td>1</td>\n",
       "      <td>1</td>\n",
       "    </tr>\n",
       "    <tr>\n",
       "      <th>75</th>\n",
       "      <td>2</td>\n",
       "      <td>2</td>\n",
       "    </tr>\n",
       "    <tr>\n",
       "      <th>58</th>\n",
       "      <td>2</td>\n",
       "      <td>2</td>\n",
       "    </tr>\n",
       "    <tr>\n",
       "      <th>57</th>\n",
       "      <td>2</td>\n",
       "      <td>2</td>\n",
       "    </tr>\n",
       "    <tr>\n",
       "      <th>102</th>\n",
       "      <td>3</td>\n",
       "      <td>3</td>\n",
       "    </tr>\n",
       "    <tr>\n",
       "      <th>140</th>\n",
       "      <td>3</td>\n",
       "      <td>3</td>\n",
       "    </tr>\n",
       "    <tr>\n",
       "      <th>43</th>\n",
       "      <td>1</td>\n",
       "      <td>1</td>\n",
       "    </tr>\n",
       "    <tr>\n",
       "      <th>84</th>\n",
       "      <td>2</td>\n",
       "      <td>2</td>\n",
       "    </tr>\n",
       "    <tr>\n",
       "      <th>38</th>\n",
       "      <td>1</td>\n",
       "      <td>1</td>\n",
       "    </tr>\n",
       "    <tr>\n",
       "      <th>28</th>\n",
       "      <td>1</td>\n",
       "      <td>1</td>\n",
       "    </tr>\n",
       "  </tbody>\n",
       "</table>\n",
       "</div>"
      ],
      "text/plain": [
       "     Actual_Species  Predicted_Species\n",
       "40                1                  1\n",
       "61                2                  2\n",
       "18                1                  1\n",
       "49                1                  1\n",
       "106               3                  2\n",
       "20                1                  1\n",
       "69                2                  2\n",
       "93                2                  2\n",
       "141               3                  3\n",
       "104               3                  3\n",
       "85                2                  2\n",
       "78                2                  2\n",
       "133               3                  2\n",
       "127               3                  3\n",
       "2                 1                  1\n",
       "1                 1                  1\n",
       "35                1                  1\n",
       "42                1                  1\n",
       "148               3                  3\n",
       "122               3                  3\n",
       "77                2                  2\n",
       "98                2                  2\n",
       "107               3                  3\n",
       "111               3                  3\n",
       "51                2                  2\n",
       "132               3                  3\n",
       "116               3                  3\n",
       "36                1                  1\n",
       "123               3                  3\n",
       "23                1                  1\n",
       "145               3                  3\n",
       "97                2                  2\n",
       "134               3                  3\n",
       "21                1                  1\n",
       "22                1                  1\n",
       "108               3                  3\n",
       "11                1                  1\n",
       "55                2                  2\n",
       "7                 1                  1\n",
       "147               3                  3\n",
       "56                2                  2\n",
       "144               3                  3\n",
       "66                2                  2\n",
       "63                2                  2\n",
       "67                2                  2\n",
       "87                2                  2\n",
       "53                2                  2\n",
       "10                1                  1\n",
       "29                1                  1\n",
       "138               3                  3\n",
       "14                1                  1\n",
       "75                2                  2\n",
       "58                2                  2\n",
       "57                2                  2\n",
       "102               3                  3\n",
       "140               3                  3\n",
       "43                1                  1\n",
       "84                2                  2\n",
       "38                1                  1\n",
       "28                1                  1"
      ]
     },
     "execution_count": 26,
     "metadata": {},
     "output_type": "execute_result"
    }
   ],
   "source": [
    "Id = testing_labels.index\n",
    "predicted_species = pd.DataFrame(Final_predictions, Id , columns = ['Predicted_Species'])\n",
    "actual_species = pd.DataFrame(testing_labels.values, Id, columns = ['Actual_Species'])\n",
    "predictions_comparions=actual_species.merge(predicted_species, how = 'outer', left_index = True, right_index = True)\n",
    "predictions_comparions"
   ]
  },
  {
   "cell_type": "markdown",
   "metadata": {},
   "source": [
    "# Using snthesized Dataset\n",
    "\n",
    "    using numpy's arrange method & numpy's random normal generator to create 2 features x , y\n",
    "    random normal : gaussian distribution with mean 0 and unit std deviation.\n",
    "    x : simply a sequence generated using arrange(between a given range and increment step)\n",
    "    y : k + random_normsl(mean= 0 nd std_div 1) * 2\n",
    "        \n",
    "    for class labels we simply generate 'n' dimensional vector of ones , then a multiply them with a scaler value\n",
    "    where n is the size of x and y(number of rows/examples)\n",
    "    \n",
    "    note: remember to set random seed , otherwise each time we run the code y(the random num generator) will give\n",
    "          different values hence dataset will be different each time we run the code.\n",
    "          so to allow reproduceability of dataset and results random seed must be fixed "
   ]
  },
  {
   "cell_type": "markdown",
   "metadata": {},
   "source": [
    "# creating a synthetic dataset"
   ]
  },
  {
   "cell_type": "code",
   "execution_count": 27,
   "metadata": {},
   "outputs": [
    {
     "name": "stdout",
     "output_type": "stream",
     "text": [
      "(180, 3)\n"
     ]
    },
    {
     "data": {
      "text/plain": [
       "array([[ 1.        , -1.78160415,  1.        ],\n",
       "       [ 1.1       ,  2.44965841,  1.        ],\n",
       "       [ 1.2       ,  5.79232346,  1.        ],\n",
       "       [ 1.3       ,  3.69741631,  1.        ],\n",
       "       [ 1.4       ,  0.95470144,  1.        ],\n",
       "       [ 1.5       , -0.62497548,  1.        ],\n",
       "       [ 1.6       , -0.52572064,  1.        ],\n",
       "       [ 1.7       , -0.55278717,  1.        ],\n",
       "       [ 1.8       ,  3.02928232,  1.        ],\n",
       "       [ 1.9       , -0.037764  ,  1.        ],\n",
       "       [ 2.        , -1.03307633,  1.        ],\n",
       "       [ 2.1       ,  0.80881169,  1.        ],\n",
       "       [ 2.2       ,  4.58126329,  1.        ],\n",
       "       [ 2.3       ,  3.93284131,  1.        ],\n",
       "       [ 2.4       ,  3.31801691,  1.        ],\n",
       "       [ 2.5       ,  1.64372177,  1.        ],\n",
       "       [ 2.6       , -0.66452529,  1.        ],\n",
       "       [ 2.7       ,  2.05836081,  1.        ],\n",
       "       [ 2.8       , -0.15192471,  1.        ],\n",
       "       [ 2.9       ,  0.33504038,  1.        ],\n",
       "       [ 3.        ,  0.14979615,  1.        ],\n",
       "       [ 3.1       ,  0.34928182,  1.        ],\n",
       "       [ 3.2       ,  2.05660839,  1.        ],\n",
       "       [ 3.3       ,  1.16209368,  1.        ],\n",
       "       [ 3.4       , -1.37170771,  1.        ],\n",
       "       [ 3.5       ,  0.95188683,  1.        ],\n",
       "       [ 3.6       , -0.07857821,  1.        ],\n",
       "       [ 3.7       ,  2.30600123,  1.        ],\n",
       "       [ 3.8       , -0.50103125,  1.        ],\n",
       "       [ 3.9       ,  2.96016981,  1.        ],\n",
       "       [ 4.        , -0.09947627,  1.        ],\n",
       "       [ 4.1       ,  0.99389877,  1.        ],\n",
       "       [ 4.2       , -2.90067125,  1.        ],\n",
       "       [ 4.3       , -1.32320211,  1.        ],\n",
       "       [ 4.4       ,  2.01951104,  1.        ],\n",
       "       [ 4.5       ,  0.39475568,  1.        ],\n",
       "       [ 4.6       , -0.05602329,  1.        ],\n",
       "       [ 4.7       ,  2.286946  ,  1.        ],\n",
       "       [ 4.8       ,  0.01732347,  1.        ],\n",
       "       [ 4.9       ,  0.46139227,  1.        ],\n",
       "       [ 5.        ,  1.74451717,  1.        ],\n",
       "       [ 5.1       ,  0.95718044,  1.        ],\n",
       "       [ 5.2       ,  2.61276722,  1.        ],\n",
       "       [ 5.3       ,  6.14180094,  1.        ],\n",
       "       [ 5.4       ,  1.42791759,  1.        ],\n",
       "       [ 5.5       ,  0.63489243,  1.        ],\n",
       "       [ 5.6       , -1.75961547,  1.        ],\n",
       "       [ 5.7       ,  1.37006448,  1.        ],\n",
       "       [ 5.8       ,  4.42707147,  1.        ],\n",
       "       [ 5.9       ,  0.13633404,  1.        ],\n",
       "       [ 8.        ,  2.54545701,  2.        ],\n",
       "       [ 8.1       ,  3.89739841,  2.        ],\n",
       "       [ 8.2       , -1.01058305,  2.        ],\n",
       "       [ 8.3       ,  0.24249255,  2.        ],\n",
       "       [ 8.4       ,  2.85211804,  2.        ],\n",
       "       [ 8.5       , -1.1435954 ,  2.        ],\n",
       "       [ 8.6       , -1.13824082,  2.        ],\n",
       "       [ 8.7       ,  0.8129006 ,  2.        ],\n",
       "       [ 8.8       ,  3.52468218,  2.        ],\n",
       "       [ 8.9       ,  2.86473894,  2.        ],\n",
       "       [ 9.        ,  6.80870295,  2.        ],\n",
       "       [ 9.1       ,  0.52203741,  2.        ],\n",
       "       [ 9.2       , -0.82741742,  2.        ],\n",
       "       [ 9.3       ,  2.43981795,  2.        ],\n",
       "       [ 9.4       , -2.23481623,  2.        ],\n",
       "       [ 9.5       ,  3.20382682,  2.        ],\n",
       "       [ 9.6       ,  3.27481384,  2.        ],\n",
       "       [ 9.7       ,  0.57008632,  2.        ],\n",
       "       [ 9.8       ,  2.8878716 ,  2.        ],\n",
       "       [ 9.9       ,  2.10508111,  2.        ],\n",
       "       [10.        , -0.98856609,  2.        ],\n",
       "       [10.1       ,  1.65438829,  2.        ],\n",
       "       [10.2       ,  1.01416709,  2.        ],\n",
       "       [10.3       ,  2.18955267,  2.        ],\n",
       "       [10.4       ,  3.30021574,  2.        ],\n",
       "       [10.5       ,  0.84171754,  2.        ],\n",
       "       [10.6       ,  4.85795476,  2.        ],\n",
       "       [10.7       ,  2.48998933,  2.        ],\n",
       "       [10.8       ,  1.34422754,  2.        ],\n",
       "       [10.9       ,  4.06266986,  2.        ],\n",
       "       [11.        ,  2.53078392,  2.        ],\n",
       "       [11.1       ,  2.43332112,  2.        ],\n",
       "       [11.2       ,  0.63246219,  2.        ],\n",
       "       [11.3       ,  3.30405281,  2.        ],\n",
       "       [11.4       ,  5.83212879,  2.        ],\n",
       "       [11.5       , -0.04054954,  2.        ],\n",
       "       [11.6       ,  0.91212728,  2.        ],\n",
       "       [11.7       ,  0.19507272,  2.        ],\n",
       "       [11.8       ,  2.65634518,  2.        ],\n",
       "       [11.9       , -0.30187651,  2.        ],\n",
       "       [12.        ,  4.02793161,  2.        ],\n",
       "       [12.1       ,  2.31905179,  2.        ],\n",
       "       [12.2       ,  1.82065851,  2.        ],\n",
       "       [12.3       ,  1.02576003,  2.        ],\n",
       "       [12.4       ,  3.92840582,  2.        ],\n",
       "       [12.5       , -0.41877849,  2.        ],\n",
       "       [12.6       , -0.57840808,  2.        ],\n",
       "       [12.7       ,  1.36918294,  2.        ],\n",
       "       [12.8       ,  0.79762928,  2.        ],\n",
       "       [12.9       ,  2.00642659,  2.        ],\n",
       "       [13.        ,  1.45934702,  2.        ],\n",
       "       [13.1       ,  3.26884344,  2.        ],\n",
       "       [13.2       ,  1.67904983,  2.        ],\n",
       "       [13.3       , -1.03579859,  2.        ],\n",
       "       [13.4       ,  1.60085055,  2.        ],\n",
       "       [13.5       ,  3.79873439,  2.        ],\n",
       "       [13.6       ,  2.62837257,  2.        ],\n",
       "       [13.7       ,  4.02912832,  2.        ],\n",
       "       [13.8       ,  1.59587722,  2.        ],\n",
       "       [13.9       ,  2.83572211,  2.        ],\n",
       "       [ 3.        ,  3.85081274,  3.        ],\n",
       "       [ 3.1       ,  8.80719353,  3.        ],\n",
       "       [ 3.2       ,  6.05948157,  3.        ],\n",
       "       [ 3.3       ,  7.60395069,  3.        ],\n",
       "       [ 3.4       , 10.92091002,  3.        ],\n",
       "       [ 3.5       ,  5.2015993 ,  3.        ],\n",
       "       [ 3.6       ,  9.11488685,  3.        ],\n",
       "       [ 3.7       ,  3.29099361,  3.        ],\n",
       "       [ 3.8       ,  9.4534923 ,  3.        ],\n",
       "       [ 3.9       ,  7.60807983,  3.        ],\n",
       "       [ 4.        ,  8.69420356,  3.        ],\n",
       "       [ 4.1       ,  7.02564878,  3.        ],\n",
       "       [ 4.2       ,  7.23570527,  3.        ],\n",
       "       [ 4.3       ,  8.42373243,  3.        ],\n",
       "       [ 4.4       ,  9.27911987,  3.        ],\n",
       "       [ 4.5       ,  9.39313387,  3.        ],\n",
       "       [ 4.6       ,  5.91680141,  3.        ],\n",
       "       [ 4.7       ,  8.73417179,  3.        ],\n",
       "       [ 4.8       ,  7.70839616,  3.        ],\n",
       "       [ 4.9       ,  8.30177828,  3.        ],\n",
       "       [ 5.        ,  8.88290556,  3.        ],\n",
       "       [ 5.1       ,  8.81458834,  3.        ],\n",
       "       [ 5.2       ,  8.04738764,  3.        ],\n",
       "       [ 5.3       ,  6.6150527 ,  3.        ],\n",
       "       [ 5.4       ,  7.36912232,  3.        ],\n",
       "       [ 5.5       ,  5.52746938,  3.        ],\n",
       "       [ 5.6       ,  5.82735535,  3.        ],\n",
       "       [ 5.7       ,  5.03827579,  3.        ],\n",
       "       [ 5.8       ,  7.77304656,  3.        ],\n",
       "       [ 5.9       ,  6.05308707,  3.        ],\n",
       "       [ 6.        ,  5.76849537,  3.        ],\n",
       "       [ 6.1       ,  3.64754365,  3.        ],\n",
       "       [ 6.2       ,  6.36338336,  3.        ],\n",
       "       [ 6.3       ,  6.21913555,  3.        ],\n",
       "       [ 6.4       ,  8.40567746,  3.        ],\n",
       "       [ 6.5       ,  6.59054276,  3.        ],\n",
       "       [ 6.6       ,  5.71770523,  3.        ],\n",
       "       [ 6.7       ,  8.03303092,  3.        ],\n",
       "       [ 6.8       ,  6.43437763,  3.        ],\n",
       "       [ 6.9       ,  4.417307  ,  3.        ],\n",
       "       [ 7.        ,  5.52014843,  3.        ],\n",
       "       [ 7.1       ,  7.78572249,  3.        ],\n",
       "       [ 7.2       ,  3.52003093,  3.        ],\n",
       "       [ 7.3       ,  9.18936545,  3.        ],\n",
       "       [ 7.4       ,  6.09762221,  3.        ],\n",
       "       [ 7.5       ,  7.75214181,  3.        ],\n",
       "       [ 7.6       ,  7.0773677 ,  3.        ],\n",
       "       [ 7.7       , 10.28965899,  3.        ],\n",
       "       [ 7.8       ,  5.95597729,  3.        ],\n",
       "       [ 7.9       ,  5.51919637,  3.        ],\n",
       "       [ 8.        ,  6.079264  ,  3.        ],\n",
       "       [ 8.1       ,  4.98550682,  3.        ],\n",
       "       [ 8.2       ,  5.9679819 ,  3.        ],\n",
       "       [ 8.3       ,  5.98573748,  3.        ],\n",
       "       [ 8.4       ,  3.11330602,  3.        ],\n",
       "       [ 8.5       ,  8.82078465,  3.        ],\n",
       "       [ 8.6       ,  3.17316178,  3.        ],\n",
       "       [ 8.7       ,  6.26002114,  3.        ],\n",
       "       [ 8.8       ,  9.27095991,  3.        ],\n",
       "       [ 8.9       ,  4.74058834,  3.        ],\n",
       "       [ 9.        ,  8.40093589,  3.        ],\n",
       "       [ 9.1       ,  8.06281103,  3.        ],\n",
       "       [ 9.2       ,  7.64041939,  3.        ],\n",
       "       [ 9.3       ,  7.83475544,  3.        ],\n",
       "       [ 9.4       , 10.3000768 ,  3.        ],\n",
       "       [ 9.5       ,  7.26931899,  3.        ],\n",
       "       [ 9.6       ,  8.88764975,  3.        ],\n",
       "       [ 9.7       ,  8.63528264,  3.        ],\n",
       "       [ 9.8       ,  4.75410978,  3.        ],\n",
       "       [ 9.9       ,  7.13465478,  3.        ]])"
      ]
     },
     "execution_count": 27,
     "metadata": {},
     "output_type": "execute_result"
    }
   ],
   "source": [
    "np.random.seed(631) #123 , 631 , 852 seeds which give best visualization\n",
    "\n",
    "x_cluster_1 = np.arange(1, 6, 0.1)\n",
    "y_cluster_1 = 1 + (np.random.normal(0, 1, len(x_cluster_1))) * 2\n",
    "label1= np.ones((len(x_cluster_1),1),dtype=int).flatten()\n",
    "\n",
    "x_cluster_2 = np.arange(8, 14, 0.1)\n",
    "y_cluster_2 = 2 + (np.random.normal(0, 1, len(x_cluster_2))) * 2\n",
    "label2= 2 * np.ones((len(x_cluster_2),1),dtype=int).flatten()\n",
    "\n",
    "x_cluster_3 = np.arange(3, 10, 0.1)\n",
    "y_cluster_3 = 7 + (np.random.normal(0, 1, len(x_cluster_3))) * 2\n",
    "label3=  3 * np.ones((len(x_cluster_3),1),dtype=int).flatten()\n",
    "\n",
    "x = np.concatenate([x_cluster_1, x_cluster_2, x_cluster_3])\n",
    "y = np.concatenate([y_cluster_1, y_cluster_2, y_cluster_3])\n",
    "class_label = np.concatenate([label1, label2, label3])\n",
    "data = np.column_stack((x,y,class_label))\n",
    "print(data.shape)\n",
    "data"
   ]
  },
  {
   "cell_type": "markdown",
   "metadata": {},
   "source": [
    "# Plot the dataset to visualize"
   ]
  },
  {
   "cell_type": "code",
   "execution_count": 28,
   "metadata": {},
   "outputs": [
    {
     "data": {
      "text/plain": [
       "<matplotlib.collections.PathCollection at 0x3509abe2b0>"
      ]
     },
     "execution_count": 28,
     "metadata": {},
     "output_type": "execute_result"
    },
    {
     "data": {
      "image/png": "[encoded data removed]",
      "text/plain": [
       "<Figure size 800x300 with 1 Axes>"
      ]
     },
     "metadata": {},
     "output_type": "display_data"
    }
   ],
   "source": [
    "#as index strats from 0 but we require from 1 , so placed black for class 0(which deosnt exist)\n",
    "colors = ['black','r', 'g','b']\n",
    "f = lambda x: colors[int(x)]\n",
    "label_color = list(map(f, class_label))  # so red : class 1 , blue : class 2 , green: class 3\n",
    "\n",
    "my_dpi = 100 # dots per inch .. (resolution)\n",
    "plt.figure(figsize=(800/my_dpi, 300/my_dpi), dpi = my_dpi)\n",
    "\n",
    "plt.scatter(data[:, 0], data[:, 1], s = 5, color = label_color)"
   ]
  },
  {
   "cell_type": "markdown",
   "metadata": {},
   "source": [
    "# The model require training set and test set along with number unqiue entry in class labels or simply number of classes\n",
    "    \n",
    "    preparing the dataset according to requirement"
   ]
  },
  {
   "cell_type": "code",
   "execution_count": 29,
   "metadata": {},
   "outputs": [
    {
     "data": {
      "text/plain": [
       "array([[ 1.        , -1.78160415],\n",
       "       [ 1.1       ,  2.44965841],\n",
       "       [ 1.2       ,  5.79232346],\n",
       "       [ 1.3       ,  3.69741631],\n",
       "       [ 1.4       ,  0.95470144],\n",
       "       [ 1.5       , -0.62497548],\n",
       "       [ 1.6       , -0.52572064],\n",
       "       [ 1.7       , -0.55278717],\n",
       "       [ 1.8       ,  3.02928232],\n",
       "       [ 1.9       , -0.037764  ],\n",
       "       [ 2.        , -1.03307633],\n",
       "       [ 2.1       ,  0.80881169],\n",
       "       [ 2.2       ,  4.58126329],\n",
       "       [ 2.3       ,  3.93284131],\n",
       "       [ 2.4       ,  3.31801691],\n",
       "       [ 2.5       ,  1.64372177],\n",
       "       [ 2.6       , -0.66452529],\n",
       "       [ 2.7       ,  2.05836081],\n",
       "       [ 2.8       , -0.15192471],\n",
       "       [ 2.9       ,  0.33504038],\n",
       "       [ 3.        ,  0.14979615],\n",
       "       [ 3.1       ,  0.34928182],\n",
       "       [ 3.2       ,  2.05660839],\n",
       "       [ 3.3       ,  1.16209368],\n",
       "       [ 3.4       , -1.37170771],\n",
       "       [ 3.5       ,  0.95188683],\n",
       "       [ 3.6       , -0.07857821],\n",
       "       [ 3.7       ,  2.30600123],\n",
       "       [ 3.8       , -0.50103125],\n",
       "       [ 3.9       ,  2.96016981],\n",
       "       [ 4.        , -0.09947627],\n",
       "       [ 4.1       ,  0.99389877],\n",
       "       [ 4.2       , -2.90067125],\n",
       "       [ 4.3       , -1.32320211],\n",
       "       [ 4.4       ,  2.01951104],\n",
       "       [ 4.5       ,  0.39475568],\n",
       "       [ 4.6       , -0.05602329],\n",
       "       [ 4.7       ,  2.286946  ],\n",
       "       [ 4.8       ,  0.01732347],\n",
       "       [ 4.9       ,  0.46139227],\n",
       "       [ 5.        ,  1.74451717],\n",
       "       [ 5.1       ,  0.95718044],\n",
       "       [ 5.2       ,  2.61276722],\n",
       "       [ 5.3       ,  6.14180094],\n",
       "       [ 5.4       ,  1.42791759],\n",
       "       [ 5.5       ,  0.63489243],\n",
       "       [ 5.6       , -1.75961547],\n",
       "       [ 5.7       ,  1.37006448],\n",
       "       [ 5.8       ,  4.42707147],\n",
       "       [ 5.9       ,  0.13633404],\n",
       "       [ 8.        ,  2.54545701],\n",
       "       [ 8.1       ,  3.89739841],\n",
       "       [ 8.2       , -1.01058305],\n",
       "       [ 8.3       ,  0.24249255],\n",
       "       [ 8.4       ,  2.85211804],\n",
       "       [ 8.5       , -1.1435954 ],\n",
       "       [ 8.6       , -1.13824082],\n",
       "       [ 8.7       ,  0.8129006 ],\n",
       "       [ 8.8       ,  3.52468218],\n",
       "       [ 8.9       ,  2.86473894],\n",
       "       [ 9.        ,  6.80870295],\n",
       "       [ 9.1       ,  0.52203741],\n",
       "       [ 9.2       , -0.82741742],\n",
       "       [ 9.3       ,  2.43981795],\n",
       "       [ 9.4       , -2.23481623],\n",
       "       [ 9.5       ,  3.20382682],\n",
       "       [ 9.6       ,  3.27481384],\n",
       "       [ 9.7       ,  0.57008632],\n",
       "       [ 9.8       ,  2.8878716 ],\n",
       "       [ 9.9       ,  2.10508111],\n",
       "       [10.        , -0.98856609],\n",
       "       [10.1       ,  1.65438829],\n",
       "       [10.2       ,  1.01416709],\n",
       "       [10.3       ,  2.18955267],\n",
       "       [10.4       ,  3.30021574],\n",
       "       [10.5       ,  0.84171754],\n",
       "       [10.6       ,  4.85795476],\n",
       "       [10.7       ,  2.48998933],\n",
       "       [10.8       ,  1.34422754],\n",
       "       [10.9       ,  4.06266986],\n",
       "       [11.        ,  2.53078392],\n",
       "       [11.1       ,  2.43332112],\n",
       "       [11.2       ,  0.63246219],\n",
       "       [11.3       ,  3.30405281],\n",
       "       [11.4       ,  5.83212879],\n",
       "       [11.5       , -0.04054954],\n",
       "       [11.6       ,  0.91212728],\n",
       "       [11.7       ,  0.19507272],\n",
       "       [11.8       ,  2.65634518],\n",
       "       [11.9       , -0.30187651],\n",
       "       [12.        ,  4.02793161],\n",
       "       [12.1       ,  2.31905179],\n",
       "       [12.2       ,  1.82065851],\n",
       "       [12.3       ,  1.02576003],\n",
       "       [12.4       ,  3.92840582],\n",
       "       [12.5       , -0.41877849],\n",
       "       [12.6       , -0.57840808],\n",
       "       [12.7       ,  1.36918294],\n",
       "       [12.8       ,  0.79762928],\n",
       "       [12.9       ,  2.00642659],\n",
       "       [13.        ,  1.45934702],\n",
       "       [13.1       ,  3.26884344],\n",
       "       [13.2       ,  1.67904983],\n",
       "       [13.3       , -1.03579859],\n",
       "       [13.4       ,  1.60085055],\n",
       "       [13.5       ,  3.79873439],\n",
       "       [13.6       ,  2.62837257],\n",
       "       [13.7       ,  4.02912832],\n",
       "       [13.8       ,  1.59587722],\n",
       "       [13.9       ,  2.83572211],\n",
       "       [ 3.        ,  3.85081274],\n",
       "       [ 3.1       ,  8.80719353],\n",
       "       [ 3.2       ,  6.05948157],\n",
       "       [ 3.3       ,  7.60395069],\n",
       "       [ 3.4       , 10.92091002],\n",
       "       [ 3.5       ,  5.2015993 ],\n",
       "       [ 3.6       ,  9.11488685],\n",
       "       [ 3.7       ,  3.29099361],\n",
       "       [ 3.8       ,  9.4534923 ],\n",
       "       [ 3.9       ,  7.60807983],\n",
       "       [ 4.        ,  8.69420356],\n",
       "       [ 4.1       ,  7.02564878],\n",
       "       [ 4.2       ,  7.23570527],\n",
       "       [ 4.3       ,  8.42373243],\n",
       "       [ 4.4       ,  9.27911987],\n",
       "       [ 4.5       ,  9.39313387],\n",
       "       [ 4.6       ,  5.91680141],\n",
       "       [ 4.7       ,  8.73417179],\n",
       "       [ 4.8       ,  7.70839616],\n",
       "       [ 4.9       ,  8.30177828],\n",
       "       [ 5.        ,  8.88290556],\n",
       "       [ 5.1       ,  8.81458834],\n",
       "       [ 5.2       ,  8.04738764],\n",
       "       [ 5.3       ,  6.6150527 ],\n",
       "       [ 5.4       ,  7.36912232],\n",
       "       [ 5.5       ,  5.52746938],\n",
       "       [ 5.6       ,  5.82735535],\n",
       "       [ 5.7       ,  5.03827579],\n",
       "       [ 5.8       ,  7.77304656],\n",
       "       [ 5.9       ,  6.05308707],\n",
       "       [ 6.        ,  5.76849537],\n",
       "       [ 6.1       ,  3.64754365],\n",
       "       [ 6.2       ,  6.36338336],\n",
       "       [ 6.3       ,  6.21913555],\n",
       "       [ 6.4       ,  8.40567746],\n",
       "       [ 6.5       ,  6.59054276],\n",
       "       [ 6.6       ,  5.71770523],\n",
       "       [ 6.7       ,  8.03303092],\n",
       "       [ 6.8       ,  6.43437763],\n",
       "       [ 6.9       ,  4.417307  ],\n",
       "       [ 7.        ,  5.52014843],\n",
       "       [ 7.1       ,  7.78572249],\n",
       "       [ 7.2       ,  3.52003093],\n",
       "       [ 7.3       ,  9.18936545],\n",
       "       [ 7.4       ,  6.09762221],\n",
       "       [ 7.5       ,  7.75214181],\n",
       "       [ 7.6       ,  7.0773677 ],\n",
       "       [ 7.7       , 10.28965899],\n",
       "       [ 7.8       ,  5.95597729],\n",
       "       [ 7.9       ,  5.51919637],\n",
       "       [ 8.        ,  6.079264  ],\n",
       "       [ 8.1       ,  4.98550682],\n",
       "       [ 8.2       ,  5.9679819 ],\n",
       "       [ 8.3       ,  5.98573748],\n",
       "       [ 8.4       ,  3.11330602],\n",
       "       [ 8.5       ,  8.82078465],\n",
       "       [ 8.6       ,  3.17316178],\n",
       "       [ 8.7       ,  6.26002114],\n",
       "       [ 8.8       ,  9.27095991],\n",
       "       [ 8.9       ,  4.74058834],\n",
       "       [ 9.        ,  8.40093589],\n",
       "       [ 9.1       ,  8.06281103],\n",
       "       [ 9.2       ,  7.64041939],\n",
       "       [ 9.3       ,  7.83475544],\n",
       "       [ 9.4       , 10.3000768 ],\n",
       "       [ 9.5       ,  7.26931899],\n",
       "       [ 9.6       ,  8.88764975],\n",
       "       [ 9.7       ,  8.63528264],\n",
       "       [ 9.8       ,  4.75410978],\n",
       "       [ 9.9       ,  7.13465478]])"
      ]
     },
     "execution_count": 29,
     "metadata": {},
     "output_type": "execute_result"
    }
   ],
   "source": [
    "x = data[:,[0,1]]\n",
    "x"
   ]
  },
  {
   "cell_type": "code",
   "execution_count": 30,
   "metadata": {},
   "outputs": [
    {
     "data": {
      "text/plain": [
       "array([1., 1., 1., 1., 1., 1., 1., 1., 1., 1., 1., 1., 1., 1., 1., 1., 1.,\n",
       "       1., 1., 1., 1., 1., 1., 1., 1., 1., 1., 1., 1., 1., 1., 1., 1., 1.,\n",
       "       1., 1., 1., 1., 1., 1., 1., 1., 1., 1., 1., 1., 1., 1., 1., 1., 2.,\n",
       "       2., 2., 2., 2., 2., 2., 2., 2., 2., 2., 2., 2., 2., 2., 2., 2., 2.,\n",
       "       2., 2., 2., 2., 2., 2., 2., 2., 2., 2., 2., 2., 2., 2., 2., 2., 2.,\n",
       "       2., 2., 2., 2., 2., 2., 2., 2., 2., 2., 2., 2., 2., 2., 2., 2., 2.,\n",
       "       2., 2., 2., 2., 2., 2., 2., 2., 3., 3., 3., 3., 3., 3., 3., 3., 3.,\n",
       "       3., 3., 3., 3., 3., 3., 3., 3., 3., 3., 3., 3., 3., 3., 3., 3., 3.,\n",
       "       3., 3., 3., 3., 3., 3., 3., 3., 3., 3., 3., 3., 3., 3., 3., 3., 3.,\n",
       "       3., 3., 3., 3., 3., 3., 3., 3., 3., 3., 3., 3., 3., 3., 3., 3., 3.,\n",
       "       3., 3., 3., 3., 3., 3., 3., 3., 3., 3.])"
      ]
     },
     "execution_count": 30,
     "metadata": {},
     "output_type": "execute_result"
    }
   ],
   "source": [
    "y = data[:,2]\n",
    "y"
   ]
  },
  {
   "cell_type": "code",
   "execution_count": 31,
   "metadata": {},
   "outputs": [],
   "source": [
    "X_train,X_test,Y_train,Y_test = train_test_split(x,y,stratify=y,random_state = 66)"
   ]
  },
  {
   "cell_type": "code",
   "execution_count": 32,
   "metadata": {},
   "outputs": [
    {
     "name": "stdout",
     "output_type": "stream",
     "text": [
      "135\n",
      "135\n",
      "45\n",
      "45\n",
      "<class 'numpy.ndarray'>\n",
      "<class 'numpy.ndarray'>\n",
      "<class 'numpy.ndarray'>\n",
      "<class 'numpy.ndarray'>\n"
     ]
    }
   ],
   "source": [
    "print(len(X_train))\n",
    "print(len(Y_train))\n",
    "print(len(X_test))\n",
    "print(len(Y_test))\n",
    "print(type(X_train))\n",
    "print(type(Y_train))\n",
    "print(type(X_test))\n",
    "print(type(Y_test))"
   ]
  },
  {
   "cell_type": "markdown",
   "metadata": {},
   "source": [
    "# lets visualize the actual labels of our test set"
   ]
  },
  {
   "cell_type": "code",
   "execution_count": 33,
   "metadata": {},
   "outputs": [
    {
     "data": {
      "text/plain": [
       "<matplotlib.collections.PathCollection at 0x3509b1eda0>"
      ]
     },
     "execution_count": 33,
     "metadata": {},
     "output_type": "execute_result"
    },
    {
     "data": {
      "image/png": "[encoded data removed]",
      "text/plain": [
       "<Figure size 800x300 with 1 Axes>"
      ]
     },
     "metadata": {},
     "output_type": "display_data"
    }
   ],
   "source": [
    "colors = ['black','r', 'g','b'] # as index strats from 0 but we require from 1 , so placed black for class 0(which deosnt exist)\n",
    "f = lambda x: colors[int(x)]\n",
    "label_color = list(map(f, Y_test))  # so red : class 1 , blue : class 2 , green: class 3\n",
    "\n",
    "my_dpi = 100 # dots per inch .. (resolution)\n",
    "plt.figure(figsize=(800/my_dpi, 300/my_dpi), dpi = my_dpi)\n",
    "\n",
    "plt.scatter(X_test[:, 0], X_test[:, 1], s = 5, color = label_color)"
   ]
  },
  {
   "cell_type": "markdown",
   "metadata": {},
   "source": [
    "# We need the training set to also contain their respective labels \n",
    "\n",
    "    so for prediction purpose we merge the training data and  training labels \n",
    "    note: no need to merge the test data with test labels\n",
    "    \n",
    "    (we can aslo compare this value with the dataframe version of training examples)"
   ]
  },
  {
   "cell_type": "code",
   "execution_count": 34,
   "metadata": {},
   "outputs": [
    {
     "name": "stdout",
     "output_type": "stream",
     "text": [
      "(135, 3)\n"
     ]
    },
    {
     "data": {
      "text/plain": [
       "array([[ 4.3       ,  8.42373243,  3.        ],\n",
       "       [11.8       ,  2.65634518,  2.        ],\n",
       "       [ 4.1       ,  7.02564878,  3.        ],\n",
       "       [12.5       , -0.41877849,  2.        ],\n",
       "       [ 9.2       ,  7.64041939,  3.        ]])"
      ]
     },
     "execution_count": 34,
     "metadata": {},
     "output_type": "execute_result"
    }
   ],
   "source": [
    "syn_training_set = np.column_stack((X_train,Y_train))\n",
    "print(syn_training_set.shape)\n",
    "syn_training_set[0:5]"
   ]
  },
  {
   "cell_type": "markdown",
   "metadata": {},
   "source": [
    "# Making predictions and checking accuracy:\n",
    "\n",
    "    Using our training & test sets along with the Classifier function with a ranodm value of k\n",
    "    k: number of nearest neighbor to consider"
   ]
  },
  {
   "cell_type": "code",
   "execution_count": 35,
   "metadata": {},
   "outputs": [],
   "source": [
    "syn_label_count = len(np.unique(Y_test))\n",
    "test_set_predictions=[]\n",
    "for i in X_test:\n",
    "    pred = KNearestNeighbourClassifier(syn_training_set,i,k=2,no_of_classes=syn_label_count)\n",
    "    test_set_predictions.append(pred)"
   ]
  },
  {
   "cell_type": "code",
   "execution_count": 36,
   "metadata": {},
   "outputs": [
    {
     "name": "stdout",
     "output_type": "stream",
     "text": [
      "Test set accuracy with 2 nearest neighbours = 0.889 \n"
     ]
    }
   ],
   "source": [
    "print(\"Test set accuracy with 2 nearest neighbours = %.3f \" %(accuracy_score(Y_test, test_set_predictions)))"
   ]
  },
  {
   "cell_type": "markdown",
   "metadata": {},
   "source": [
    "# Optimizing the model :\n",
    "\n",
    "    checking accuracy of model on training and test sets with multiple value of k to prevent \n",
    "    overfitting or underfitting of model"
   ]
  },
  {
   "cell_type": "code",
   "execution_count": 37,
   "metadata": {},
   "outputs": [],
   "source": [
    "training_accuracy = []\n",
    "test_accuracy = []\n",
    "neighbors_settings = range(1,21) # 1 inclusive 21 exclusive so  1 - 20\n",
    "\n",
    "for n in neighbors_settings:\n",
    "    test_set_predictions=[]\n",
    "    for i in X_test:\n",
    "        pred = KNearestNeighbourClassifier(syn_training_set,i,k=n,no_of_classes=syn_label_count)\n",
    "        test_set_predictions.append(pred)\n",
    "    \n",
    "    test_accuracy.append(accuracy_score(Y_test, test_set_predictions))\n",
    "    \n",
    "    training_set_predictions=[]\n",
    "    for i in X_train:\n",
    "        pred = KNearestNeighbourClassifier(syn_training_set,i,k=n,no_of_classes=syn_label_count)\n",
    "        training_set_predictions.append(pred)\n",
    "    \n",
    "    training_accuracy.append(accuracy_score(Y_train, training_set_predictions))"
   ]
  },
  {
   "cell_type": "code",
   "execution_count": 38,
   "metadata": {},
   "outputs": [
    {
     "data": {
      "text/plain": [
       "<matplotlib.legend.Legend at 0x3509b7cda0>"
      ]
     },
     "execution_count": 38,
     "metadata": {},
     "output_type": "execute_result"
    },
    {
     "data": {
      "image/png": "[encoded data removed]",
      "text/plain": [
       "<Figure size 432x288 with 1 Axes>"
      ]
     },
     "metadata": {},
     "output_type": "display_data"
    }
   ],
   "source": [
    "plt.plot(neighbors_settings, training_accuracy, label = 'Accuracy of the Training Set')\n",
    "plt.plot(neighbors_settings, test_accuracy, label = 'Accuracy of the Test Set')\n",
    "plt.xticks(neighbors_settings)\n",
    "plt.ylabel('Accuracy')\n",
    "plt.xlabel('Number of Neighbors')\n",
    "plt.legend()"
   ]
  },
  {
   "cell_type": "markdown",
   "metadata": {},
   "source": [
    "# Inference\n",
    "\n",
    "    in the graph we see the minimum value of k when the training and testing accuracy is identical\n",
    "    is when k (no of nearset neighbour) = 10\n",
    "    so we select the Optimal value of 'k' for this dataset as 10\n",
    "    \n",
    "    Then using this value of 'k'  we make our final Predictions and check our classifier's performance"
   ]
  },
  {
   "cell_type": "code",
   "execution_count": 39,
   "metadata": {},
   "outputs": [
    {
     "name": "stdout",
     "output_type": "stream",
     "text": [
      "Test set accuracy with optimal nearest neighbour : 10 is = 0.956 \n"
     ]
    }
   ],
   "source": [
    "Final_predictions=[]\n",
    "optimal_nearest_neighbour=10\n",
    "for i in X_test:\n",
    "    pred = KNearestNeighbourClassifier(syn_training_set,i,k=optimal_nearest_neighbour,no_of_classes=syn_label_count)\n",
    "    Final_predictions.append(pred)\n",
    "    \n",
    "print(\"Test set accuracy with optimal nearest neighbour : %d is = %.3f \" %(optimal_nearest_neighbour,(accuracy_score(Y_test, Final_predictions))))"
   ]
  },
  {
   "cell_type": "markdown",
   "metadata": {},
   "source": [
    "# Confusion Matrix And calculating Precision Recall and F1 Score\n",
    "\n",
    "            In the Confusion Matrix : 'Red/1': 1,'Blue/2': 2,'Green/3' : 3 (class Labels)\n",
    "            Row represents actual Label while the columns represents the predicted label\n",
    "\n",
    "            1st row : 1st column :Actual label = Red / label 1 ; Predicted label = Red / label 1\n",
    "            1st row : 2nd column :Actual label = Red / label 1 ; Predicted label = Blue / label 2\n",
    "            1st row : 3rd column :Actual label = Red / label 1 ; Predicted label = Green / label 3\n",
    "\n",
    "            2nd row : 1st column :Actual label = Blue / label 2 ; Predicted label = Red / label 1\n",
    "            2nd row : 2nd column :Actual label = Blue / label 2 ; Predicted label = Blue / label 2\n",
    "            2nd row : 3rd column :Actual label = Blue / label 2 ; Predicted label = Green / label 3\n",
    "\n",
    "            3rd row : 1st column :Actual label = Green / label 3 ; Predicted label = Red / label 1\n",
    "            3rd row : 2nd column :Actual label = Green / label 3 ; Predicted label = Blue / label 2\n",
    "            3rd row : 3rd column :Actual label = Green / label 3 ; Predicted label = Green / label 3"
   ]
  },
  {
   "cell_type": "code",
   "execution_count": 40,
   "metadata": {},
   "outputs": [
    {
     "name": "stdout",
     "output_type": "stream",
     "text": [
      "[[13  0  0]\n",
      " [ 0 14  1]\n",
      " [ 0  1 16]]\n"
     ]
    }
   ],
   "source": [
    "cm  = confusion_matrix(Y_test,Final_predictions )\n",
    "print(cm)"
   ]
  },
  {
   "cell_type": "code",
   "execution_count": 41,
   "metadata": {},
   "outputs": [
    {
     "name": "stdout",
     "output_type": "stream",
     "text": [
      "Precision of the KNN Model : 0.958\n",
      "Recall of the KNN Model : 0.958\n",
      "F1 Score of the KNN Model : 0.958\n"
     ]
    }
   ],
   "source": [
    "precision = precision_score(Y_test,Final_predictions, average='macro')\n",
    "print('Precision of the KNN Model : %.3f' % precision)\n",
    "recall = recall_score(Y_test,Final_predictions, average='macro')\n",
    "print('Recall of the KNN Model : %.3f' %recall)\n",
    "f1 = f1_score(Y_test,Final_predictions, average='macro')\n",
    "print('F1 Score of the KNN Model : %.3f' %f1)"
   ]
  },
  {
   "cell_type": "markdown",
   "metadata": {},
   "source": [
    "# Ploting the predicted results\n",
    "    \n",
    "    Red : class / label : 1\n",
    "    Blue : class / label : 2\n",
    "    Green : class / label : 3"
   ]
  },
  {
   "cell_type": "code",
   "execution_count": 42,
   "metadata": {},
   "outputs": [
    {
     "data": {
      "text/plain": [
       "Text(0.5,1,'Predicted class ; Red :1 , Blue: 2 , Green: 3')"
      ]
     },
     "execution_count": 42,
     "metadata": {},
     "output_type": "execute_result"
    },
    {
     "data": {
      "image/png": "[encoded data removed]",
      "text/plain": [
       "<Figure size 800x300 with 1 Axes>"
      ]
     },
     "metadata": {},
     "output_type": "display_data"
    }
   ],
   "source": [
    "colors = ['black','r', 'g','b'] # as index strats from 0 but we require from 1 , so placed black for class 0(which deosnt exist)\n",
    "f = lambda x: colors[int(x)]\n",
    "label_color = list(map(f, Final_predictions))  # so red : class 1 , blue : class 2 , green: class 3\n",
    "\n",
    "my_dpi = 100 # dots per inch .. (resolution)\n",
    "plt.figure(figsize=(800/my_dpi, 300/my_dpi), dpi = my_dpi)\n",
    "\n",
    "plt.scatter(X_test[:, 0], X_test[:, 1], s = 5, color = label_color)\n",
    "plt.title(\"Predicted class ; Red :1 , Blue: 2 , Green: 3\")"
   ]
  },
  {
   "cell_type": "markdown",
   "metadata": {},
   "source": [
    "# Comapring Actual Labels with Predicted Labels"
   ]
  },
  {
   "cell_type": "code",
   "execution_count": 43,
   "metadata": {},
   "outputs": [
    {
     "data": {
      "image/png": "[encoded data removed]",
      "text/plain": [
       "<Figure size 600x500 with 2 Axes>"
      ]
     },
     "metadata": {},
     "output_type": "display_data"
    }
   ],
   "source": [
    "actual_label = list(map(f, Y_test))  # so red : class 1 , blue : class 2 , green: class 3\n",
    "predicted_label = list(map(f, Final_predictions))  # so red : class 1 , blue : class 2 , green: class 3\n",
    "\n",
    "fig, (ax1, ax2) = plt.subplots(2,1,figsize=(600/my_dpi, 500/my_dpi), dpi = my_dpi )\n",
    "\n",
    "ax1.scatter(X_test[:, 0], X_test[:, 1], s = 7, color = actual_label)\n",
    "ax1.set_title('Actual class label')\n",
    "ax2.scatter(X_test[:, 0], X_test[:, 1], s = 7, color = predicted_label)\n",
    "ax2.set_title('Predicted class label')\n",
    "\n",
    "fig.tight_layout()  #prevents overlapping of plots"
   ]
  },
  {
   "cell_type": "code",
   "execution_count": null,
   "metadata": {},
   "outputs": [],
   "source": []
  }
 ],
 "metadata": {
  "kernelspec": {
   "display_name": "Python 3",
   "language": "python",
   "name": "python3"
  },
  "language_info": {
   "codemirror_mode": {
    "name": "ipython",
    "version": 3
   },
   "file_extension": ".py",
   "mimetype": "text/x-python",
   "name": "python",
   "nbconvert_exporter": "python",
   "pygments_lexer": "ipython3",
   "version": "3.6.5"
  }
 },
 "nbformat": 4,
 "nbformat_minor": 2
}
