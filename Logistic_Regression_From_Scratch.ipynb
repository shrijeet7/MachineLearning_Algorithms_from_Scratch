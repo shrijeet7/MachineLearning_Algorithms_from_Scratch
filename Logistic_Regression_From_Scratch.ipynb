{
 "cells": [
  {
   "cell_type": "markdown",
   "metadata": {},
   "source": [
    "# Imports"
   ]
  },
  {
   "cell_type": "code",
   "execution_count": 1,
   "metadata": {},
   "outputs": [],
   "source": [
    "import numpy as np\n",
    "import pandas as pd\n",
    "import matplotlib.pyplot as plt\n",
    "\n",
    "from sklearn.model_selection import train_test_split\n",
    "from sklearn.metrics import accuracy_score\n",
    "from sklearn.metrics import confusion_matrix \n",
    "from sklearn.metrics import precision_score\n",
    "from sklearn.metrics import recall_score\n",
    "from sklearn.metrics import f1_score\n",
    "\n",
    "%matplotlib inline"
   ]
  },
  {
   "cell_type": "markdown",
   "metadata": {},
   "source": [
    "# What is logistic regression ?\n",
    "\n",
    "        Logistic Regression is a classification example knon for its simplicity and robustness.\n",
    "        In Linear Regression our aim was to come up with a hypothesis that helps us to fit a straight line through the data.\n",
    "        In logistic regression the value we are trying to predict Y belongs to {0,1} for binary classification.\n",
    "        We also have Multiclass classification where Y belongs to {0,...,k} k being strictly > 1.\n",
    "        \n",
    "        Here we will work on Binary classification.\n",
    "        So the Hypothesis we require must predict values either 0 or 1.\n",
    "        hence in order to achive this we use the logit (sigmoid) function, thus due to this function the algorithm \n",
    "        gets it name Logistic Regression.\n",
    "        \n",
    "# what is this sigmoid function ?\n",
    "\n",
    "        sigmoid(t) = 1/(1+e^-t)\n",
    "![](sigmoid.png)\n",
    "\n",
    "         so, when t->inf : sigmoid(t) = 1 ; and when t-> inf : sigmoid(t) = 0 ; at t=0 ; sigmoid(t) = 0.5\n",
    "\n",
    "        lets consider Theta to be our paramters which we need to minimize X is the data(features values) Y is labels{0,1}\n",
    "\n",
    "   Then the hypothesis can be given by :  H<sub>theta</sub>(X) = sigmoid(theta.T @ X)\n",
    "          \n",
    "         considering theta to be a row vector 1Xn and X a mXn vector;n being the num of features , m = total examples.\n",
    "         \n",
    "         so Yi = 1 if H(Xi;given theta) >= 0.5 ; Yi = 0 if H(X)< 0.5\n",
    "         in simple words when if H(X,theta) is 0.5 or greater we predict Y = 1\n",
    "                                 H(X, theta) is less that 0.5 we predict Y = 0\n",
    "                                 \n",
    "         From the Sigmoid function we can observe:\n",
    "                 sigmoid(t) is >= 0.5 when t>=0\n",
    "                               <  0.5 when t< 0\n",
    "                               \n",
    "         our Hypothesis H(X, theta) = Sigmoid(theta.T @ X)\n",
    "         so : H(X,theta) = Sigmoid(theta.T @ X) >= 0.5 when theta.T @ X >=0\n",
    "                                                      <  0.5 when theta.T @ X < 0\n",
    "                                                      \n",
    "         Hence we can conclude that we predict Y = 1 when theta.T @ X >=0\n",
    "                                               Y = 0 when theta.T @ X < 0\n",
    "                                               \n",
    "# How the Hypothesis is used for predicting labels:\n",
    "\n",
    "         lets assume theta=[[theta0],[theta1]] and X = [[x0,x1]]\n",
    "         assume H(X,theta) = 0.7\n",
    "         \n",
    "         The Hypothesis H(X,theta) = P(Y=1|given X,theta)\n",
    "         so as H(X,theta) = 0.7 it suggest that probability of Y=1 given the value of X and parameterized by theta is 0.7\n",
    "         \n",
    "         Also Y must be 0 or 1, so probability of 0 and 1 must add upto 1:\n",
    "         Therefore , P(Y=1|given X,theta) + P(Y=0|given X,theta) = 1\n",
    "                     P(Y=0|given X,theta) = 1 - P(Y=1|given X,theta)\n",
    "              \n",
    "         Finally if P(Y=1|given X,theta) >= 0.5 ( H(X,theta) >= 0.5) we predict Y = 1\n",
    "                    P(Y=1|given X,theta) <  0.5 ( H(X,theta) < 0.5 ) we predict Y = 0\n",
    "                    \n",
    "# Create the Sigmoid Function:"
   ]
  },
  {
   "cell_type": "code",
   "execution_count": 2,
   "metadata": {},
   "outputs": [],
   "source": [
    "def Sigmoid(x):\n",
    "    z= 1/(1 + np.exp(-(x)))\n",
    "    return z"
   ]
  },
  {
   "cell_type": "markdown",
   "metadata": {},
   "source": [
    "    Difference between using math.exp or math.log and using np.exp or np.log (np.log is used later in cost function)\n",
    "\n",
    "    when we use math.exp(x) : x is treated as a single value \n",
    "    So, if X is a vector or matrix(a numpy array) we will have to use loops manually apply exp to each element in x\n",
    "    \n",
    "    In case of np.exp(x) : x is treated as vector or matrix(a numpy array)\n",
    "    therefore this function is applied to all of the elements of a numpy array individually.\n",
    "    \n",
    "# Testing the sigmoid function:"
   ]
  },
  {
   "cell_type": "code",
   "execution_count": 3,
   "metadata": {},
   "outputs": [
    {
     "name": "stdout",
     "output_type": "stream",
     "text": [
      "Sigmoid values:\n",
      "[4.53978687e-05 6.69285092e-03 2.68941421e-01 5.00000000e-01\n",
      " 7.31058579e-01 9.93307149e-01 9.99954602e-01]\n"
     ]
    }
   ],
   "source": [
    "x= np.array([-10,-5,-1,0,1,5,10])\n",
    "z= Sigmoid(x)\n",
    "print(\"Sigmoid values:\")\n",
    "print(z)"
   ]
  },
  {
   "cell_type": "markdown",
   "metadata": {},
   "source": [
    "# Requirements of the algorithm:\n",
    "\n",
    "    1. we will need to transpose an array\n",
    "    2. we need add a column of 1 i.e X0 in X \n",
    "    \n",
    "    let prediction(theta,Xi) be a function that estimates Yi for given Xi and Optimum theta.\n",
    "    \n",
    "        Prediction(theta,Xi): theta is 1d vector [theta0 , theta1 , theta2]; theta is the optimized value of theta such \n",
    "        error in predicting  label for Xi and actual label (cost) is minimum.\n",
    "\n",
    "        Xi is an example or an instance of X (an entire row with attribute X1 , X2)\n",
    "        The predicted value for Xi is given by:\n",
    "        Prediction(theta,Xi) = 1/( 1+ e^-(X @ theta.Transposed)\n",
    "                             = 1/( 1+ e^-(theta0 + theta1* X1 +theta2* X2)\n",
    "                             = 1/( 1+ e^-(theta0*X0 + theta1* X1 +theta2* X2) (X0 is always =1)\n",
    "                             \n",
    "        if Prediction(theta,Xi) >= 0.5 we predict Y = 1 \n",
    "           Prediction(theta,Xi) <  0.5 we predict Y = 0 \n",
    "\n",
    "# Transpose a 1d vector/array and 2d array or matrices:"
   ]
  },
  {
   "cell_type": "code",
   "execution_count": 4,
   "metadata": {},
   "outputs": [
    {
     "name": "stdout",
     "output_type": "stream",
     "text": [
      "[[1 2 3]]\n",
      "\n",
      "After Transpose\n",
      "\n",
      "[[1]\n",
      " [2]\n",
      " [3]]\n",
      "******************************\n",
      "\n",
      "[1 2 3]\n",
      "\n",
      "After Transpose\n",
      "\n",
      "[1 2 3]\n",
      "*********************\n",
      "\n",
      "[[1 2 3]\n",
      " [4 5 6]]\n",
      "\n",
      "After Transpose\n",
      "\n",
      "[[1 4]\n",
      " [2 5]\n",
      " [3 6]]\n"
     ]
    }
   ],
   "source": [
    "a = np.array([[1,2,3]]) # 2d array with 1 row 3 column\n",
    "print(a)\n",
    "A = a.T\n",
    "print(\"\\nAfter Transpose\\n\")\n",
    "print(A)\n",
    "print(\"******************************\\n\")\n",
    "\n",
    "b= np.array([1,2,3])  #1d array with 3 elements (the row concept does not come into play here)\n",
    "print(b)\n",
    "B= b.T\n",
    "print(\"\\nAfter Transpose\\n\")\n",
    "print(B)  # hence the notation of concept doesnt work in 1d array , a 1d row is not transformed into 1d column\n",
    "print(\"*********************\\n\")\n",
    "\n",
    "c = np.array([[1,2,3],[4,5,6]])  #2d array with 2 rows 3 cols\n",
    "C= c.T\n",
    "print(c)\n",
    "print(\"\\nAfter Transpose\\n\")\n",
    "print(C)"
   ]
  },
  {
   "cell_type": "markdown",
   "metadata": {},
   "source": [
    "# Function to insert a column of  all 1's as column number 0 in X"
   ]
  },
  {
   "cell_type": "code",
   "execution_count": 5,
   "metadata": {},
   "outputs": [],
   "source": [
    "def addX0(X):                       \n",
    "    X = np.array(X,dtype=float)\n",
    "    l = len(X)\n",
    "    X0 = np.ones((l,1),dtype=float)  # creating an array of 1 with l rows and 1 column (1d column vector)\n",
    "    X = np.column_stack((X0,X)) \n",
    "    return X"
   ]
  },
  {
   "cell_type": "markdown",
   "metadata": {},
   "source": [
    "# Testing the function addX0()"
   ]
  },
  {
   "cell_type": "code",
   "execution_count": 6,
   "metadata": {},
   "outputs": [
    {
     "name": "stdout",
     "output_type": "stream",
     "text": [
      "[[6 2 3]\n",
      " [4 5 3]\n",
      " [3 9 6]]\n",
      "\n",
      " After adding the column of all 1's at coloumn index 0\n",
      "\n",
      "[[1. 6. 2. 3.]\n",
      " [1. 4. 5. 3.]\n",
      " [1. 3. 9. 6.]]\n"
     ]
    }
   ],
   "source": [
    "c = np.array([[6,2,3],[4,5,3],[3,9,6]])       #2d array with 2 rows 3 cols\n",
    "print(c)\n",
    "c = addX0(c)                                  # add a column of 1 in front i.e in each row add 1 at column = 0\n",
    "print(\"\\n After adding the column of all 1's at coloumn index 0\\n\")\n",
    "print(c)"
   ]
  },
  {
   "cell_type": "markdown",
   "metadata": {},
   "source": [
    "# The Cost Function:\n",
    "\n",
    "        h(x,theta) = sigmoid(theta.T @ X) ; where X is a matrix of size (mXn) , theta is a row vector of size (1Xn)\n",
    "        m = no of examples , n = no of features including X0 (if X0 is not added add X0)\n",
    "        \n",
    "        cost(X,Y,theta) = { if Y = 1 ; cost = -log(h(X,theta)\n",
    "                               Y = 0 ; cost = -log(1-h(X,theta))\n",
    "                               \n",
    "        If y = 1 ; cost(h(x,theta),y) = - log( h(x,theta) )\n",
    "        \n",
    "![](logh.png)\n",
    "\n",
    "        so cost = 0 ; if y=1, h(x,theta) = 1\n",
    "        but as h(x,theta) -> 0 , cost -> inf\n",
    "        \n",
    "        This captures the intution that if Y=1 and h(x,theta) = 1, predict P(y=1|x,theta) = 1\n",
    "        but if we predict P(y=1|x,theta) = 0 then we will penalize the learning algorithm by very large cost\n",
    "        \n",
    "         If y = 0 ; cost(h(x,theta),y) = - log( 1- h(x,theta) )\n",
    "        \n",
    "![](log1_h.png)\n",
    "\n",
    "        so cost = 0 ; if y=0, h(x,theta) = 0\n",
    "        but as h(x,theta) -> 1 , cost -> inf\n",
    "        \n",
    "        This captures the intution that if Y=0 and h(x,theta) = 0, predict P(y=1|x,theta) = 0\n",
    "        but if we predict P(y=1|x,theta) = 1 then we will penalize the learning algorithm by very large cost.\n",
    "        \n",
    "        Finally the cost function can be given by\n",
    "        \n",
    "        cost(X,Y,theta) = 1/m * sum{ -yi * log(h(xi,theta)) - (1-yi)* log(1-h(xi,theta)) }\n",
    "        where h(xi,theta) = sigmoid(xi @ theta.Transpose) , 1<=i<=m , m being no of examples in X ,Y\n",
    "        \n",
    "# Creating the Cost Function:"
   ]
  },
  {
   "cell_type": "code",
   "execution_count": 7,
   "metadata": {},
   "outputs": [],
   "source": [
    "def costFunc(X,Y,theta):\n",
    "    no_of_examples = len(Y)                       # Y is a 1d array with m elements , m being num of examples\n",
    "    # if we consider Y as a 2d array , then numpy will consider Y as a vetor with 1 row and m columns, so Y = 1Xm\n",
    "    \n",
    "    X = addX0(X)                                  # adding X0 column to X\n",
    "    # x = m X n matrix ; theta = n X 1 column vector where m is num of examples and n is num of features\n",
    "    # @ is matrix multiplication; so X @ theta will be a m X 1 vector\n",
    "    \n",
    "    hyp = np.zeros((1,len(theta)),dtype=float)    \n",
    "    hyp = Sigmoid(X @ theta)                      # 1/(1+e^-(X @ Theta.T))\n",
    "\n",
    "    const = 1e-5\n",
    "    #const = 0.00005 its used so that is in case log(x) x becomes 0 we will get math error as log(0) is undefined\n",
    "    # hence x = 0.00005 will prevent such math errors in case x = 0\n",
    "                                      \n",
    "    cost = (1/no_of_examples) * ( ( (-Y) @ np.log(hyp + const) ) - ( (1-Y) @ np.log((1-hyp)+ const) ) )\n",
    "    # Y (1Xm) , hyp (mX1) applying log and adding const are done element wise hence the results of log(hyp + const) = (mX1)\n",
    "    # so Y @ log(hyp+1) or (1-y) @ log(1-hyp + const) will be a scalar . (1Xm @ mX1 gives a vector of shape 1X1 i.e scalar)\n",
    "    \n",
    "    return cost[0] # returns an array with single element hence just returning the element from array"
   ]
  },
  {
   "cell_type": "markdown",
   "metadata": {},
   "source": [
    "# Minimize the cost function with respect to theta using Gradient Descent:\n",
    "\n",
    "# what is gradient descent ?\n",
    "\n",
    "        Gradient descent is an optimization algorithm used to find the values of parameters (coefficients) \n",
    "        of  cost function (f) that minimizes a cost function\n",
    "    \n",
    "        psuedocode:\n",
    "            \n",
    "        repeat untill no change in Theta\n",
    "        {\n",
    "            theta(j) = theta(j) - alpha *  d/d(thetaj) (cost(X,Y,theta))\n",
    "        } for 0<=j<=n \n",
    "        \n",
    "        \n",
    "        what is alpha ?\n",
    "        The learning rate.\n",
    "        it controls by how much the coefficients (theta) changes with each update\n",
    "        alpha large : the value of theta decreases rapidly with each update\n",
    "        alpha small the value of theta decreases slowly with each update\n",
    "        \n",
    "        vectorized implementation:\n",
    "            \n",
    "        d/d(theta(j) cost(X,Y,theta) = d/d(theta(j) { 1/m * sum{ -yi*log(h(xi,theta)) - (1-yi)*log(1-h(xi,theta)) }} \n",
    "                                   where i = 1 to M\n",
    "        after differentiating we get :\n",
    "                                       \n",
    "        d/d(theta(j) cost(theta) = (1/M) * sum{(h(xi,theta)-yi)X(i,j)} where i = 1 to M (row number )and j = column number  \n",
    "        \n",
    "        where h(xi,theta) = 1/(1 + e^-(xi @ theta.Transpose))\n",
    "        so:\n",
    "        theta(0)= theta(0) - alpha* {(1/M) * sum{ (h(xi,theta)-yi) * X(i,0) }} for i = 1 to M (row number )\n",
    "        theta(1)= theta(1) - alpha* {(1/M) * sum{ (h(xi,theta)-yi) * X(i,1) }} for i = 1 to M (row number )\n",
    "        .\n",
    "        .\n",
    "            \n",
    "        now let delta = (1/M) * sum{ (h(xi,theta)-yi) @ X(i,j) } ,\n",
    "                delta = (1/M) * sum{ (h(xi,theta)-yi) @ X(i,j) } ;   0 <= j <= n ; n = number of features , (from 0 as X0 is added)\n",
    "                X(i,j) : depends on theta(for theta 1 : X(i,1)) while i denotes all rows \n",
    "                its basically a 1-dimensional vector\n",
    "                \n",
    "         so Theta = Theta - alpha*delta\n",
    "         \n",
    "         lastly, the values of theta vector for which the cost is minimum is our optimized theta"
   ]
  },
  {
   "cell_type": "code",
   "execution_count": 8,
   "metadata": {},
   "outputs": [],
   "source": [
    "def GradientDescent(x,y,theta,alpha,num_iterations):\n",
    "    no_of_examples = len(y)                           # Y is a 1d array with m elements , m being num of examples\n",
    "    # if we consider Y as a 2d array , then numpy will consider Y as a vetor with 1 row and m columns, so Y = 1Xm\n",
    "    \n",
    "    cost_history = np.zeros(num_iterations,dtype=float)\n",
    "    #cost_history is an array with elements=num_iteration,to store change in cost with each iteration (check convergence)\n",
    "    \n",
    "    Y = np.array([y])                            # as y is consider as a row vector we are converting it to a column vector\n",
    "    Y = Y.T                                      # Y = y.T so Y =(mX1) , m being number of examples\n",
    "    \n",
    "    Theta= theta.T          # Theta = theta' coloumn vector , Theta =(nX1) n = num of features (including theta0 (for X0))\n",
    "    # theta and y are converted into column vetors so that we can apply vectorization method(matrix multiplication)\n",
    "    \n",
    "    X = addX0(x)                                 # adding X0 column to x , X = (mXn) n = num of features including x0 term\n",
    "    \n",
    "    h = np.zeros((1,no_of_examples),dtype=float) #row vector(1Xm) store the errors between predicted class and actual class\n",
    "    \n",
    "    for i in range(num_iterations):\n",
    "        cost_history[i] = costFunc(x,y,Theta) # stores the error with changes in theta for each iteration\n",
    "        \n",
    "        delta = (1/no_of_examples) * ( X.T @ ( Sigmoid(X @ Theta) - Y ) )\n",
    "        # X.T=(nXm) , sigmoid(X@theta) = (mX1) , Y = (mX1)\n",
    "        # so sigmoid(X@Theta) - Y gives a vector of shape (mX1)\n",
    "        # X.T @ {sigmoid(X@Theta) - Y} = nXm @ mX1 ; so we get a vector of shape nX1 (same shape as Theta)\n",
    "        \n",
    "        Theta = Theta - (alpha*delta)\n",
    "        # delta = X.T @ {sigmoid(X@Theta) - Y} , so delta has a shape (nX1) \n",
    "        # alpha is the learning rate and we performed an element wise mutiplication of alpha , delta ;\n",
    "        # alpha is a scalar value so alpha * delta means simply multiply each term in delta with alpha\n",
    "        # so alpha * delta has same shape as delta = (nX1) which is same as Theta\n",
    "        \n",
    "    return Theta,cost_history"
   ]
  },
  {
   "cell_type": "markdown",
   "metadata": {},
   "source": [
    "# Function for making Predictions:\n",
    "\n",
    "        we get the optimied_theta = [theta0,theta1,...thetaN] after running gradient descent. \n",
    "        Then to predict the class label of an  unknown example given by X = [X0,X1,...XN]\n",
    "        \n",
    "        prediction = Probability(Y=1|X,Optimized_theta) = 1/(1 + e^-(X @ Optimized_theta.Transposed))\n",
    "        \n",
    "        since we are dealing with probability of class of X being 1\n",
    "        if the resulting value is above 0.50, we round it up to 1, meaning the data sample belongs to the class 1.\n",
    "        Consequently, if the probability of a data sample belonging to the class 1 is below 0.50,\n",
    "        it simply means that it is part of the other class (class 0)."
   ]
  },
  {
   "cell_type": "code",
   "execution_count": 9,
   "metadata": {},
   "outputs": [],
   "source": [
    "def Make_Prediction(X, optimum_theta):\n",
    "    Theta= optimum_theta.T \n",
    "    pred=Sigmoid(X @ optimum_theta)\n",
    "    \n",
    "    return np.round(pred[:,0]) # return either 0 or 1 hence np.round is used"
   ]
  },
  {
   "cell_type": "markdown",
   "metadata": {},
   "source": [
    "# Creating snthesized Dataset\n",
    "\n",
    "    using numpy's arrange method & numpy's random normal generator to create 2 features x , y\n",
    "    random normal : gaussian distribution with mean 0 and unit std deviation.\n",
    "    x : simply a sequence generated using arrange(between a given range and increment step)\n",
    "    y : k + random_normsl(mean= 0 nd std_div 1) * 2\n",
    "        \n",
    "    for class labels we simply generate 'n' dimensional vector of ones , then a multiply them with a scaler value\n",
    "    where n is the size of x and y(number of rows/examples)\n",
    "    \n",
    "    note: remember to set random seed , otherwise each time we run the code y(the random num generator) will give\n",
    "          different values hence dataset will be different each time we run the code.\n",
    "          so to allow reproduceability of dataset and results random seed must be fixed "
   ]
  },
  {
   "cell_type": "code",
   "execution_count": 10,
   "metadata": {},
   "outputs": [
    {
     "name": "stdout",
     "output_type": "stream",
     "text": [
      "(190, 3)\n"
     ]
    },
    {
     "data": {
      "text/plain": [
       "array([[ 1.        , -1.17126121,  0.        ],\n",
       "       [ 1.1       ,  2.99469089,  0.        ],\n",
       "       [ 1.2       ,  1.565957  ,  0.        ],\n",
       "       [ 1.3       , -2.01258943,  0.        ],\n",
       "       [ 1.4       , -0.1572005 ,  0.        ]])"
      ]
     },
     "execution_count": 10,
     "metadata": {},
     "output_type": "execute_result"
    }
   ],
   "source": [
    "np.random.seed(123) \n",
    "\n",
    "x_cluster_1 = np.arange(1, 10, 0.1)\n",
    "y_cluster_1 = 1 + (np.random.normal(0, 1, len(x_cluster_1))) * 2 #gaussian distribution with 0 mean and unit std_div\n",
    "label1= np.zeros((len(x_cluster_1),1),dtype=int).flatten()\n",
    "\n",
    "x_cluster_2 = np.arange(6, 16, 0.1)\n",
    "y_cluster_2 = 5 + (np.random.normal(0, 1, len(x_cluster_2))) * 2\n",
    "label2=  np.ones((len(x_cluster_2),1),dtype=int).flatten()\n",
    "\n",
    "x = np.concatenate([x_cluster_1, x_cluster_2])\n",
    "y = np.concatenate([y_cluster_1, y_cluster_2])\n",
    "class_label = np.concatenate([label1, label2])\n",
    "data = np.column_stack((x,y,class_label))\n",
    "print(data.shape)\n",
    "data[0:5]"
   ]
  },
  {
   "cell_type": "markdown",
   "metadata": {},
   "source": [
    "# Visualize the Dataset:"
   ]
  },
  {
   "cell_type": "code",
   "execution_count": 11,
   "metadata": {},
   "outputs": [
    {
     "data": {
      "text/plain": [
       "<matplotlib.legend.Legend at 0xb7310b2400>"
      ]
     },
     "execution_count": 11,
     "metadata": {},
     "output_type": "execute_result"
    },
    {
     "data": {
      "image/png": "[encoded data removed]",
      "text/plain": [
       "<Figure size 1000x400 with 1 Axes>"
      ]
     },
     "metadata": {},
     "output_type": "display_data"
    }
   ],
   "source": [
    "my_dpi = 100 # dots per inch .. (resolution)\n",
    "fig,ax= plt.subplots(1,1,figsize=(1000/my_dpi, 400/my_dpi), dpi = my_dpi)\n",
    "\n",
    "s = ax.scatter(data[:, 0], data[:, 1], s = 5,c=data[:,2],cmap=\"prism\")\n",
    "legend = ax.legend(*s.legend_elements(), title=\"Labels\",loc='lower right')\n",
    "plt.xlabel(\"X1\")\n",
    "plt.ylabel('X2')\n",
    "plt.title('Data set')\n",
    "ax.add_artist(legend)"
   ]
  },
  {
   "cell_type": "markdown",
   "metadata": {},
   "source": [
    "# prepare the dataset:\n",
    "    \n",
    "        sepeate features and labels then divide into train and test set using train test split"
   ]
  },
  {
   "cell_type": "code",
   "execution_count": 12,
   "metadata": {},
   "outputs": [
    {
     "data": {
      "text/plain": [
       "array([[ 1.        , -1.17126121],\n",
       "       [ 1.1       ,  2.99469089],\n",
       "       [ 1.2       ,  1.565957  ],\n",
       "       [ 1.3       , -2.01258943],\n",
       "       [ 1.4       , -0.1572005 ]])"
      ]
     },
     "execution_count": 12,
     "metadata": {},
     "output_type": "execute_result"
    }
   ],
   "source": [
    "x = data[:,[0,1]]\n",
    "x[0:5]"
   ]
  },
  {
   "cell_type": "code",
   "execution_count": 13,
   "metadata": {},
   "outputs": [
    {
     "data": {
      "text/plain": [
       "array([0., 0., 0., 0., 0.])"
      ]
     },
     "execution_count": 13,
     "metadata": {},
     "output_type": "execute_result"
    }
   ],
   "source": [
    "y = data[:,2]\n",
    "y[0:5]"
   ]
  },
  {
   "cell_type": "code",
   "execution_count": 14,
   "metadata": {},
   "outputs": [
    {
     "name": "stdout",
     "output_type": "stream",
     "text": [
      "(142, 2)\n",
      "(142,)\n",
      "(48, 2)\n",
      "(48,)\n",
      "<class 'numpy.ndarray'>\n",
      "<class 'numpy.ndarray'>\n",
      "<class 'numpy.ndarray'>\n",
      "<class 'numpy.ndarray'>\n"
     ]
    }
   ],
   "source": [
    "X_train,X_test,Y_train,Y_test = train_test_split(x,y,stratify=y,random_state = 66)\n",
    "print(X_train.shape)\n",
    "print(Y_train.shape)\n",
    "print(X_test.shape)\n",
    "print(Y_test.shape)\n",
    "print(type(X_train))\n",
    "print(type(Y_train))\n",
    "print(type(X_test))\n",
    "print(type(Y_test))"
   ]
  },
  {
   "cell_type": "markdown",
   "metadata": {},
   "source": [
    "# Feed data to our gradient descent model along with initial theta = all 0's\n",
    "\n",
    "    after running the gradient descent with respect to parameter theta the cost is minimized and optimal theta is returned"
   ]
  },
  {
   "cell_type": "code",
   "execution_count": 15,
   "metadata": {},
   "outputs": [
    {
     "name": "stdout",
     "output_type": "stream",
     "text": [
      "Theta value we got after fitting the classifier model\n",
      "\n",
      "[[-7.33649132]\n",
      " [ 0.66211267]\n",
      " [ 0.6463247 ]]\n",
      "-------------------------------------\n",
      "change in cost with iteration\n",
      "\n",
      "[0.69312718 0.69505262 0.61530922 ... 0.23938276 0.23938227 0.23938178]\n"
     ]
    }
   ],
   "source": [
    "alpha = 0.1                                        # alpha is learning rate\n",
    "n = np.size(X_train[1])+1                          # no of features in X + 1 for X0 term which will be added\n",
    "initial_Theta = np.zeros((1,n),dtype=float)        # initialize theta vector with all 0's\n",
    "iterations = 5000\n",
    "optimized_theta,cost_history=GradientDescent(x=X_train,y=Y_train,theta=initial_Theta,alpha=alpha,num_iterations=iterations)\n",
    "print(\"Theta value we got after fitting the classifier model\\n\")\n",
    "print(optimized_theta)\n",
    "print(\"-------------------------------------\")\n",
    "print(\"change in cost with iteration\\n\")\n",
    "print(cost_history)"
   ]
  },
  {
   "cell_type": "markdown",
   "metadata": {},
   "source": [
    "# Ploting the change of cost with each iteration to check for convergence"
   ]
  },
  {
   "cell_type": "code",
   "execution_count": 16,
   "metadata": {},
   "outputs": [
    {
     "data": {
      "image/png": "[encoded data removed]",
      "text/plain": [
       "<Figure size 1000x400 with 1 Axes>"
      ]
     },
     "metadata": {},
     "output_type": "display_data"
    }
   ],
   "source": [
    "my_dpi = 100 # dots per inch .. (resolution)\n",
    "plt.figure(figsize=(1000/my_dpi, 400/my_dpi), dpi = my_dpi) # to enlarge the plot (can be omitted)\n",
    "\n",
    "plt.plot(np.arange(0,iterations,step=1),cost_history,label=\"cost(theta)\")\n",
    "plt.xticks(np.arange(0,iterations,step=500))\n",
    "plt.xlabel('Iterations')\n",
    "plt.ylabel('cost(theta)')\n",
    "plt.legend()\n",
    "plt.grid()"
   ]
  },
  {
   "cell_type": "markdown",
   "metadata": {},
   "source": [
    "# Prediction for entire Test set and ploting the decision boundary"
   ]
  },
  {
   "cell_type": "code",
   "execution_count": 17,
   "metadata": {},
   "outputs": [],
   "source": [
    "prediction = Make_Prediction(addX0(X_test),optimized_theta)"
   ]
  },
  {
   "cell_type": "code",
   "execution_count": 18,
   "metadata": {},
   "outputs": [
    {
     "data": {
      "text/html": [
       "<div>\n",
       "<style scoped>\n",
       "    .dataframe tbody tr th:only-of-type {\n",
       "        vertical-align: middle;\n",
       "    }\n",
       "\n",
       "    .dataframe tbody tr th {\n",
       "        vertical-align: top;\n",
       "    }\n",
       "\n",
       "    .dataframe thead th {\n",
       "        text-align: right;\n",
       "    }\n",
       "</style>\n",
       "<table border=\"1\" class=\"dataframe\">\n",
       "  <thead>\n",
       "    <tr style=\"text-align: right;\">\n",
       "      <th></th>\n",
       "      <th>Actual_lable</th>\n",
       "      <th>Predicted_Label(Test_set)</th>\n",
       "    </tr>\n",
       "  </thead>\n",
       "  <tbody>\n",
       "    <tr>\n",
       "      <th>0</th>\n",
       "      <td>1.0</td>\n",
       "      <td>1.0</td>\n",
       "    </tr>\n",
       "    <tr>\n",
       "      <th>1</th>\n",
       "      <td>0.0</td>\n",
       "      <td>0.0</td>\n",
       "    </tr>\n",
       "    <tr>\n",
       "      <th>2</th>\n",
       "      <td>1.0</td>\n",
       "      <td>1.0</td>\n",
       "    </tr>\n",
       "    <tr>\n",
       "      <th>3</th>\n",
       "      <td>1.0</td>\n",
       "      <td>0.0</td>\n",
       "    </tr>\n",
       "    <tr>\n",
       "      <th>4</th>\n",
       "      <td>1.0</td>\n",
       "      <td>1.0</td>\n",
       "    </tr>\n",
       "    <tr>\n",
       "      <th>5</th>\n",
       "      <td>0.0</td>\n",
       "      <td>0.0</td>\n",
       "    </tr>\n",
       "    <tr>\n",
       "      <th>6</th>\n",
       "      <td>1.0</td>\n",
       "      <td>1.0</td>\n",
       "    </tr>\n",
       "    <tr>\n",
       "      <th>7</th>\n",
       "      <td>0.0</td>\n",
       "      <td>0.0</td>\n",
       "    </tr>\n",
       "    <tr>\n",
       "      <th>8</th>\n",
       "      <td>0.0</td>\n",
       "      <td>0.0</td>\n",
       "    </tr>\n",
       "    <tr>\n",
       "      <th>9</th>\n",
       "      <td>0.0</td>\n",
       "      <td>0.0</td>\n",
       "    </tr>\n",
       "    <tr>\n",
       "      <th>10</th>\n",
       "      <td>1.0</td>\n",
       "      <td>1.0</td>\n",
       "    </tr>\n",
       "    <tr>\n",
       "      <th>11</th>\n",
       "      <td>0.0</td>\n",
       "      <td>0.0</td>\n",
       "    </tr>\n",
       "    <tr>\n",
       "      <th>12</th>\n",
       "      <td>0.0</td>\n",
       "      <td>0.0</td>\n",
       "    </tr>\n",
       "    <tr>\n",
       "      <th>13</th>\n",
       "      <td>1.0</td>\n",
       "      <td>1.0</td>\n",
       "    </tr>\n",
       "    <tr>\n",
       "      <th>14</th>\n",
       "      <td>0.0</td>\n",
       "      <td>0.0</td>\n",
       "    </tr>\n",
       "    <tr>\n",
       "      <th>15</th>\n",
       "      <td>0.0</td>\n",
       "      <td>0.0</td>\n",
       "    </tr>\n",
       "    <tr>\n",
       "      <th>16</th>\n",
       "      <td>1.0</td>\n",
       "      <td>1.0</td>\n",
       "    </tr>\n",
       "    <tr>\n",
       "      <th>17</th>\n",
       "      <td>1.0</td>\n",
       "      <td>1.0</td>\n",
       "    </tr>\n",
       "    <tr>\n",
       "      <th>18</th>\n",
       "      <td>1.0</td>\n",
       "      <td>1.0</td>\n",
       "    </tr>\n",
       "    <tr>\n",
       "      <th>19</th>\n",
       "      <td>0.0</td>\n",
       "      <td>0.0</td>\n",
       "    </tr>\n",
       "    <tr>\n",
       "      <th>20</th>\n",
       "      <td>1.0</td>\n",
       "      <td>1.0</td>\n",
       "    </tr>\n",
       "    <tr>\n",
       "      <th>21</th>\n",
       "      <td>0.0</td>\n",
       "      <td>0.0</td>\n",
       "    </tr>\n",
       "    <tr>\n",
       "      <th>22</th>\n",
       "      <td>1.0</td>\n",
       "      <td>1.0</td>\n",
       "    </tr>\n",
       "    <tr>\n",
       "      <th>23</th>\n",
       "      <td>0.0</td>\n",
       "      <td>0.0</td>\n",
       "    </tr>\n",
       "    <tr>\n",
       "      <th>24</th>\n",
       "      <td>0.0</td>\n",
       "      <td>0.0</td>\n",
       "    </tr>\n",
       "    <tr>\n",
       "      <th>25</th>\n",
       "      <td>1.0</td>\n",
       "      <td>1.0</td>\n",
       "    </tr>\n",
       "    <tr>\n",
       "      <th>26</th>\n",
       "      <td>1.0</td>\n",
       "      <td>1.0</td>\n",
       "    </tr>\n",
       "    <tr>\n",
       "      <th>27</th>\n",
       "      <td>0.0</td>\n",
       "      <td>0.0</td>\n",
       "    </tr>\n",
       "    <tr>\n",
       "      <th>28</th>\n",
       "      <td>1.0</td>\n",
       "      <td>1.0</td>\n",
       "    </tr>\n",
       "    <tr>\n",
       "      <th>29</th>\n",
       "      <td>1.0</td>\n",
       "      <td>1.0</td>\n",
       "    </tr>\n",
       "    <tr>\n",
       "      <th>30</th>\n",
       "      <td>0.0</td>\n",
       "      <td>0.0</td>\n",
       "    </tr>\n",
       "    <tr>\n",
       "      <th>31</th>\n",
       "      <td>1.0</td>\n",
       "      <td>1.0</td>\n",
       "    </tr>\n",
       "    <tr>\n",
       "      <th>32</th>\n",
       "      <td>0.0</td>\n",
       "      <td>0.0</td>\n",
       "    </tr>\n",
       "    <tr>\n",
       "      <th>33</th>\n",
       "      <td>1.0</td>\n",
       "      <td>1.0</td>\n",
       "    </tr>\n",
       "    <tr>\n",
       "      <th>34</th>\n",
       "      <td>1.0</td>\n",
       "      <td>1.0</td>\n",
       "    </tr>\n",
       "    <tr>\n",
       "      <th>35</th>\n",
       "      <td>0.0</td>\n",
       "      <td>0.0</td>\n",
       "    </tr>\n",
       "    <tr>\n",
       "      <th>36</th>\n",
       "      <td>1.0</td>\n",
       "      <td>1.0</td>\n",
       "    </tr>\n",
       "    <tr>\n",
       "      <th>37</th>\n",
       "      <td>0.0</td>\n",
       "      <td>1.0</td>\n",
       "    </tr>\n",
       "    <tr>\n",
       "      <th>38</th>\n",
       "      <td>0.0</td>\n",
       "      <td>0.0</td>\n",
       "    </tr>\n",
       "    <tr>\n",
       "      <th>39</th>\n",
       "      <td>1.0</td>\n",
       "      <td>1.0</td>\n",
       "    </tr>\n",
       "    <tr>\n",
       "      <th>40</th>\n",
       "      <td>1.0</td>\n",
       "      <td>1.0</td>\n",
       "    </tr>\n",
       "    <tr>\n",
       "      <th>41</th>\n",
       "      <td>0.0</td>\n",
       "      <td>0.0</td>\n",
       "    </tr>\n",
       "    <tr>\n",
       "      <th>42</th>\n",
       "      <td>1.0</td>\n",
       "      <td>1.0</td>\n",
       "    </tr>\n",
       "    <tr>\n",
       "      <th>43</th>\n",
       "      <td>0.0</td>\n",
       "      <td>0.0</td>\n",
       "    </tr>\n",
       "    <tr>\n",
       "      <th>44</th>\n",
       "      <td>1.0</td>\n",
       "      <td>1.0</td>\n",
       "    </tr>\n",
       "    <tr>\n",
       "      <th>45</th>\n",
       "      <td>1.0</td>\n",
       "      <td>1.0</td>\n",
       "    </tr>\n",
       "    <tr>\n",
       "      <th>46</th>\n",
       "      <td>0.0</td>\n",
       "      <td>0.0</td>\n",
       "    </tr>\n",
       "    <tr>\n",
       "      <th>47</th>\n",
       "      <td>0.0</td>\n",
       "      <td>0.0</td>\n",
       "    </tr>\n",
       "  </tbody>\n",
       "</table>\n",
       "</div>"
      ],
      "text/plain": [
       "    Actual_lable  Predicted_Label(Test_set)\n",
       "0            1.0                        1.0\n",
       "1            0.0                        0.0\n",
       "2            1.0                        1.0\n",
       "3            1.0                        0.0\n",
       "4            1.0                        1.0\n",
       "5            0.0                        0.0\n",
       "6            1.0                        1.0\n",
       "7            0.0                        0.0\n",
       "8            0.0                        0.0\n",
       "9            0.0                        0.0\n",
       "10           1.0                        1.0\n",
       "11           0.0                        0.0\n",
       "12           0.0                        0.0\n",
       "13           1.0                        1.0\n",
       "14           0.0                        0.0\n",
       "15           0.0                        0.0\n",
       "16           1.0                        1.0\n",
       "17           1.0                        1.0\n",
       "18           1.0                        1.0\n",
       "19           0.0                        0.0\n",
       "20           1.0                        1.0\n",
       "21           0.0                        0.0\n",
       "22           1.0                        1.0\n",
       "23           0.0                        0.0\n",
       "24           0.0                        0.0\n",
       "25           1.0                        1.0\n",
       "26           1.0                        1.0\n",
       "27           0.0                        0.0\n",
       "28           1.0                        1.0\n",
       "29           1.0                        1.0\n",
       "30           0.0                        0.0\n",
       "31           1.0                        1.0\n",
       "32           0.0                        0.0\n",
       "33           1.0                        1.0\n",
       "34           1.0                        1.0\n",
       "35           0.0                        0.0\n",
       "36           1.0                        1.0\n",
       "37           0.0                        1.0\n",
       "38           0.0                        0.0\n",
       "39           1.0                        1.0\n",
       "40           1.0                        1.0\n",
       "41           0.0                        0.0\n",
       "42           1.0                        1.0\n",
       "43           0.0                        0.0\n",
       "44           1.0                        1.0\n",
       "45           1.0                        1.0\n",
       "46           0.0                        0.0\n",
       "47           0.0                        0.0"
      ]
     },
     "execution_count": 18,
     "metadata": {},
     "output_type": "execute_result"
    }
   ],
   "source": [
    "merged = list(zip(Y_test,prediction)) \n",
    "comparison = pd.DataFrame(merged, columns=['Actual_lable','Predicted_Label(Test_set)'])\n",
    "comparison # example 3 and 37 are wrongly classified , 2 wrong classification (verify with confusion matrix)"
   ]
  },
  {
   "cell_type": "code",
   "execution_count": 19,
   "metadata": {},
   "outputs": [
    {
     "name": "stdout",
     "output_type": "stream",
     "text": [
      "The accuracy of the Logistic Regression Model on the Test set is = 0.958\n"
     ]
    }
   ],
   "source": [
    "accuracy = accuracy_score(prediction,Y_test)\n",
    "print(\"The accuracy of the Logistic Regression Model on the Test set is = %.3f\" %(accuracy))"
   ]
  },
  {
   "cell_type": "markdown",
   "metadata": {},
   "source": [
    "# Confusion Matrix And calculating Precision Recall and F1 Score\n",
    "\n",
    "            In the Confusion Matrix : 'label 0': 0,'label 1': 1 (class Labels)\n",
    "            Row represents actual Labels while the columns represents the predicted Labels\n",
    "\n",
    "            1st row : 1st column :Actual Label = 0 ; Predicted Label = 0\n",
    "            1st row : 2nd column :Actual Label = 0 ; Predicted Label = 1\n",
    "            \n",
    "            2nd row : 1st column :Actual Label = 1 ; Predicted Label = 0\n",
    "            2nd row : 2nd column :Actual Label = 1 ; Predicted Label = 1"
   ]
  },
  {
   "cell_type": "code",
   "execution_count": 20,
   "metadata": {},
   "outputs": [
    {
     "name": "stdout",
     "output_type": "stream",
     "text": [
      "[[22  1]\n",
      " [ 1 24]]\n"
     ]
    }
   ],
   "source": [
    "cm  = confusion_matrix(prediction,Y_test)\n",
    "print(cm)"
   ]
  },
  {
   "cell_type": "markdown",
   "metadata": {},
   "source": [
    "# Precision Recall & F1 Score:\n",
    "\n",
    "        Precison = True Postive/(Total predicted Positive) || True Postive/(True Positive + False Positive)\n",
    "                   Precision talks about how precise/accurate the model is, i.e. out of total predicted positive,\n",
    "                   how many of them are actual positive.\n",
    "\n",
    "        Recall = True Positive/(Total actual Positive) || True Postive/(True Positive + False Negetive)\n",
    "                 Recall calculates how many of the Actual Positives the model captures by labeling it \n",
    "                 as Positive (True Positive)\n",
    "\n",
    "        F1 Score = (2 * Precision * Recall) / (Precision + Recall)"
   ]
  },
  {
   "cell_type": "code",
   "execution_count": 21,
   "metadata": {},
   "outputs": [
    {
     "name": "stdout",
     "output_type": "stream",
     "text": [
      "Precision of the Logistic Regression Model : 0.960\n",
      "Recall of the Logistic Regression Model : 0.960\n",
      "F1 Score of the Logistic Regression Model : 0.960\n"
     ]
    }
   ],
   "source": [
    "precision = precision_score(prediction,Y_test, average='binary')\n",
    "print('Precision of the Logistic Regression Model : %.3f' % precision)\n",
    "recall = recall_score(prediction,Y_test, average='binary')\n",
    "print('Recall of the Logistic Regression Model : %.3f' %recall)\n",
    "f1 = f1_score(prediction,Y_test, average='binary')\n",
    "print('F1 Score of the Logistic Regression Model : %.3f' %f1)"
   ]
  },
  {
   "cell_type": "markdown",
   "metadata": {},
   "source": [
    "# The Decision Boundary:\n",
    "\n",
    "            Let the equation of the st line representing the decison boundary  be theta0*X0 + theta1*X1 + theta2*X2 =0\n",
    "            as x0 = 1 we can rewrite the equation as:  theta0 + theta1*X1 +theta2*X2 = 0\n",
    "            \n",
    "            The slope of a line represented by the equation : ax+by+c=0 is -a/b and intercept term : -c/b\n",
    "            Similiarly form the equation of decision boundary we get:\n",
    "                slope = -theta1/theta2\n",
    "                intercept= -theta0/theta2"
   ]
  },
  {
   "cell_type": "code",
   "execution_count": 22,
   "metadata": {},
   "outputs": [
    {
     "data": {
      "text/plain": [
       "<matplotlib.legend.Legend at 0xb731576358>"
      ]
     },
     "execution_count": 22,
     "metadata": {},
     "output_type": "execute_result"
    },
    {
     "data": {
      "image/png": "[encoded data removed]",
      "text/plain": [
       "<Figure size 1000x400 with 1 Axes>"
      ]
     },
     "metadata": {},
     "output_type": "display_data"
    }
   ],
   "source": [
    "slope = -(optimized_theta[1] / optimized_theta[2])\n",
    "intercept = -(optimized_theta[0] / optimized_theta[2])\n",
    "\n",
    "my_dpi = 100 # dots per inch .. (resolution)\n",
    "fig,ax= plt.subplots(1,1,figsize=(1000/my_dpi, 400/my_dpi), dpi = my_dpi)\n",
    "\n",
    "scatter = ax.scatter(X_test[:, 0], X_test[:, 1], s = 5,c=prediction,cmap=\"prism\")\n",
    "legend = ax.legend(*scatter.legend_elements(), title=\"Labels\",loc='lower right')\n",
    "ax.add_artist(legend)\n",
    "\n",
    "xval = plt.xlim()\n",
    "yval = intercept + (slope * xval)\n",
    "plt.plot(xval, yval, c=\"#3eb1a6\",linewidth=0.7,label = 'Decision Boundary')\n",
    "plt.xlabel(\"X1\")\n",
    "plt.ylabel('X2')\n",
    "plt.title('Logistic Regression Decision Boundary (Test set)')\n",
    "plt.legend()"
   ]
  },
  {
   "cell_type": "code",
   "execution_count": null,
   "metadata": {},
   "outputs": [],
   "source": []
  }
 ],
 "metadata": {
  "kernelspec": {
   "display_name": "Python 3",
   "language": "python",
   "name": "python3"
  },
  "language_info": {
   "codemirror_mode": {
    "name": "ipython",
    "version": 3
   },
   "file_extension": ".py",
   "mimetype": "text/x-python",
   "name": "python",
   "nbconvert_exporter": "python",
   "pygments_lexer": "ipython3",
   "version": "3.6.5"
  }
 },
 "nbformat": 4,
 "nbformat_minor": 2
}
