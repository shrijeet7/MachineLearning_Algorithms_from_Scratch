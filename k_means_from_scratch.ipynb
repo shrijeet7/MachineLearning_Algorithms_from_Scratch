{
 "cells": [
  {
   "cell_type": "markdown",
   "metadata": {},
   "source": [
    "# Imports"
   ]
  },
  {
   "cell_type": "code",
   "execution_count": 1,
   "metadata": {},
   "outputs": [],
   "source": [
    "import numpy as np\n",
    "import pandas as pd\n",
    "import matplotlib.pyplot as plt\n",
    "\n",
    "from scipy.spatial import distance_matrix\n",
    "\n",
    "%matplotlib inline"
   ]
  },
  {
   "cell_type": "markdown",
   "metadata": {},
   "source": [
    "# How does k- Means clustering algorithm work:\n",
    "\n",
    "        k_means involves partitioning a Dataset of N objects into a set of K clusters , such that the sum of Squared \n",
    "        distances is minimized.\n",
    "        \n",
    "        Steps involved:\n",
    "                        1. Randomly select K objects from Dataset 'D' as the initial cluster centeroids\n",
    "                        Repeat until no change:\n",
    "                            2. reassign each object in Dataset 'D' to the cluster such that the sum of squared\n",
    "                               distances between each object and the its cluster centeroid is minimum\n",
    "                               (reassign each object to a cluster to which it is most similar)\n",
    "                            3. update cluster centeroids:\n",
    "                                        calculate mean of all objects in each cluster,\n",
    "                                        update cluster centeroid as the mean value"
   ]
  },
  {
   "cell_type": "markdown",
   "metadata": {},
   "source": [
    "# The k means function \n",
    "\n",
    "    'X' is the dataset in form of an numpy array\n",
    "    'k' is the number of clusters we want to divide the dataset 'X' "
   ]
  },
  {
   "cell_type": "code",
   "execution_count": 8,
   "metadata": {},
   "outputs": [],
   "source": [
    "def k_means(X, K):\n",
    "    nrow = X.shape[0] #no of rows\n",
    "    ncol = X.shape[1] #no of coloumns\n",
    "    \n",
    "    #pick k random points as initial centeroids\n",
    "    initial_centeroids = np.random.choice(nrow, K, replace=False) # chose K random number from the given range (0 to nrow)\n",
    "\n",
    "    #select the data point that will serve as initial centeroids\n",
    "    centeroids = X[initial_centeroids] #ex: initial = [10,45,2]; centeroids = [ x[10] , x[45] , x[2] ]\n",
    "    \n",
    "    #creating a varialble that holds value of centeroids from previous step\n",
    "    centeroids_old = np.zeros((K, ncol)) #2D array initialized with 0 of shape(K x ncols)\n",
    "    \n",
    "    #variable for cluster assignent\n",
    "    cluster_assignment = np.zeros(nrow) # creates 1D array with no of elements = nrows initially all assigned with 0\n",
    "    while (centeroids_old != centeroids).any(): #Repeat until centeroids dont change\n",
    "        centeroids_old = centeroids.copy()#save new centeroids value before updating,in order to check later if centeroids changes\n",
    "        \n",
    "        #compute the distances between data points and centeroids\n",
    "        dist_matrix = distance_matrix(X, centeroids) #returns a matrix containing distance between every object in X and every object in centeroids\n",
    "        \n",
    "        for i in np.arange(nrow):\n",
    "            # for each row in X (each data point) find closest centeroid / centeroid with minimum distance between them\n",
    "            d = dist_matrix[i]\n",
    "            closest_centeroid = (np.where(d == np.min(d)))[0][0]\n",
    "            \n",
    "            #associate data points with closest centeroid\n",
    "            cluster_assignment[i] = closest_centeroid \n",
    "            \n",
    "        #recompute centeroids\n",
    "        for k in np.arange(K):\n",
    "            Xk = X[cluster_assignment == k] #Xk is 2d Array: contains K rows; row 0 : array of all datapoints assigned to cluster 0\n",
    "                                            #row k : contains araay of all datapoints assigned to cluster k\n",
    "            centeroids[k] = np.apply_along_axis(np.mean, axis=0, arr= Xk) #calculate mean row wise (mean of each cluster)\n",
    "            \n",
    "    return (centeroids, cluster_assignment)\n",
    "    \n",
    "    "
   ]
  },
  {
   "cell_type": "markdown",
   "metadata": {},
   "source": [
    "# Using Synthetic Dataset\n",
    "\n",
    "    using numpy's arrange method & numpy's random normal generator to create 2 features x , y\n",
    "    random normal : gaussian distribution with mean 0 and unit std deviation.\n",
    "    x : simply a sequence generated using arrange(between a given range and increment step)\n",
    "    y : k + random_normsl(mean= 0 nd std_div 1) * 2\n",
    "        \n",
    "    for class labels we simply generate 'n' dimensional vector of ones , then a multiply them with a scaler value\n",
    "    where n is the size of x and y(number of rows/examples)\n",
    "    \n",
    "    note: remember to set random seed , otherwise each time we run the code y(the random num generator) will give\n",
    "          different values hence dataset will be different each time we run the code.\n",
    "          so to allow reproduceability of dataset and results random seed must be fixed \n"
   ]
  },
  {
   "cell_type": "code",
   "execution_count": 7,
   "metadata": {},
   "outputs": [
    {
     "name": "stdout",
     "output_type": "stream",
     "text": [
      "(170, 2)\n"
     ]
    },
    {
     "data": {
      "text/plain": [
       "array([[ 1.00000000e+00,  1.99342831e+00],\n",
       "       [ 1.10000000e+00,  7.23471398e-01],\n",
       "       [ 1.20000000e+00,  2.29537708e+00],\n",
       "       [ 1.30000000e+00,  4.04605971e+00],\n",
       "       [ 1.40000000e+00,  5.31693251e-01],\n",
       "       [ 1.50000000e+00,  5.31726086e-01],\n",
       "       [ 1.60000000e+00,  4.15842563e+00],\n",
       "       [ 1.70000000e+00,  2.53486946e+00],\n",
       "       [ 1.80000000e+00,  6.10512281e-02],\n",
       "       [ 1.90000000e+00,  2.08512009e+00],\n",
       "       [ 2.00000000e+00,  7.31646144e-02],\n",
       "       [ 2.10000000e+00,  6.85404929e-02],\n",
       "       [ 2.20000000e+00,  1.48392454e+00],\n",
       "       [ 2.30000000e+00, -2.82656049e+00],\n",
       "       [ 2.40000000e+00, -2.44983567e+00],\n",
       "       [ 2.50000000e+00, -1.24575058e-01],\n",
       "       [ 2.60000000e+00, -1.02566224e+00],\n",
       "       [ 2.70000000e+00,  1.62849467e+00],\n",
       "       [ 2.80000000e+00, -8.16048151e-01],\n",
       "       [ 2.90000000e+00, -1.82460740e+00],\n",
       "       [ 3.00000000e+00,  3.93129754e+00],\n",
       "       [ 3.10000000e+00,  5.48447399e-01],\n",
       "       [ 3.20000000e+00,  1.13505641e+00],\n",
       "       [ 3.30000000e+00, -1.84949637e+00],\n",
       "       [ 3.40000000e+00, -8.87654491e-02],\n",
       "       [ 3.50000000e+00,  1.22184518e+00],\n",
       "       [ 3.60000000e+00, -1.30198715e+00],\n",
       "       [ 3.70000000e+00,  1.75139604e+00],\n",
       "       [ 3.80000000e+00, -2.01277380e-01],\n",
       "       [ 3.90000000e+00,  4.16612500e-01],\n",
       "       [ 4.00000000e+00, -2.03413224e-01],\n",
       "       [ 4.10000000e+00,  4.70455637e+00],\n",
       "       [ 4.20000000e+00,  9.73005551e-01],\n",
       "       [ 4.30000000e+00, -1.11542186e+00],\n",
       "       [ 4.40000000e+00,  2.64508982e+00],\n",
       "       [ 4.50000000e+00, -1.44168730e+00],\n",
       "       [ 4.60000000e+00,  1.41772719e+00],\n",
       "       [ 4.70000000e+00, -2.91934025e+00],\n",
       "       [ 4.80000000e+00, -1.65637210e+00],\n",
       "       [ 4.90000000e+00,  1.39372247e+00],\n",
       "       [ 5.00000000e+00,  2.47693316e+00],\n",
       "       [ 5.10000000e+00,  1.34273656e+00],\n",
       "       [ 5.20000000e+00,  7.68703435e-01],\n",
       "       [ 5.30000000e+00,  3.97792609e-01],\n",
       "       [ 5.40000000e+00, -1.95704398e+00],\n",
       "       [ 5.50000000e+00, -4.39688417e-01],\n",
       "       [ 5.60000000e+00,  7.87224581e-02],\n",
       "       [ 5.70000000e+00,  3.11424445e+00],\n",
       "       [ 5.80000000e+00,  1.68723658e+00],\n",
       "       [ 5.90000000e+00, -2.52608031e+00],\n",
       "       [ 9.00000000e+00,  1.64816794e+00],\n",
       "       [ 9.10000000e+00,  2.29835439e-01],\n",
       "       [ 9.20000000e+00, -3.53844001e-01],\n",
       "       [ 9.30000000e+00,  2.22335258e+00],\n",
       "       [ 9.40000000e+00,  3.06199904e+00],\n",
       "       [ 9.50000000e+00,  2.86256024e+00],\n",
       "       [ 9.60000000e+00, -6.78435046e-01],\n",
       "       [ 9.70000000e+00,  3.81575248e-01],\n",
       "       [ 9.80000000e+00,  1.66252686e+00],\n",
       "       [ 9.90000000e+00,  2.95109025e+00],\n",
       "       [ 1.00000000e+01,  4.16515243e-02],\n",
       "       [ 1.01000000e+01,  6.28682047e-01],\n",
       "       [ 1.02000000e+01, -1.21266995e+00],\n",
       "       [ 1.03000000e+01, -1.39241325e+00],\n",
       "       [ 1.04000000e+01,  2.62505164e+00],\n",
       "       [ 1.05000000e+01,  3.71248006e+00],\n",
       "       [ 1.06000000e+01,  8.55979757e-01],\n",
       "       [ 1.07000000e+01,  3.00706580e+00],\n",
       "       [ 1.08000000e+01,  1.72327205e+00],\n",
       "       [ 1.09000000e+01, -2.90239509e-01],\n",
       "       [ 1.10000000e+01,  1.72279121e+00],\n",
       "       [ 1.11000000e+01,  4.07607313e+00],\n",
       "       [ 1.12000000e+01,  9.28347922e-01],\n",
       "       [ 1.13000000e+01,  4.12928731e+00],\n",
       "       [ 1.14000000e+01, -4.23949021e+00],\n",
       "       [ 1.15000000e+01,  2.64380501e+00],\n",
       "       [ 1.16000000e+01,  1.17409414e+00],\n",
       "       [ 1.17000000e+01,  4.01985299e-01],\n",
       "       [ 1.18000000e+01,  1.18352155e+00],\n",
       "       [ 1.19000000e+01, -2.97513783e+00],\n",
       "       [ 1.20000000e+01,  5.60656224e-01],\n",
       "       [ 1.21000000e+01,  1.71422514e+00],\n",
       "       [ 1.22000000e+01,  3.95578809e+00],\n",
       "       [ 1.23000000e+01, -3.65404365e-02],\n",
       "       [ 1.24000000e+01, -6.16987206e-01],\n",
       "       [ 1.25000000e+01, -3.51408717e-03],\n",
       "       [ 1.26000000e+01,  2.83080424e+00],\n",
       "       [ 1.27000000e+01,  1.65750222e+00],\n",
       "       [ 1.28000000e+01, -5.95204075e-02],\n",
       "       [ 1.29000000e+01,  2.02653487e+00],\n",
       "       [ 1.30000000e+01,  1.19415510e+00],\n",
       "       [ 1.31000000e+01,  2.93728998e+00],\n",
       "       [ 1.32000000e+01, -4.04106188e-01],\n",
       "       [ 1.33000000e+01,  3.44675707e-01],\n",
       "       [ 1.34000000e+01,  2.15783694e-01],\n",
       "       [ 1.35000000e+01, -1.92702990e+00],\n",
       "       [ 1.36000000e+01,  1.59224055e+00],\n",
       "       [ 1.37000000e+01,  1.52211054e+00],\n",
       "       [ 1.38000000e+01,  1.01022691e+00],\n",
       "       [ 1.39000000e+01,  5.30825733e-01],\n",
       "       [ 3.00000000e+00,  1.21692585e+01],\n",
       "       [ 3.10000000e+00,  1.41587094e+01],\n",
       "       [ 3.20000000e+00,  1.43145710e+01],\n",
       "       [ 3.30000000e+00,  1.33954455e+01],\n",
       "       [ 3.40000000e+00,  1.46774286e+01],\n",
       "       [ 3.50000000e+00,  1.58081017e+01],\n",
       "       [ 3.60000000e+00,  1.87723718e+01],\n",
       "       [ 3.70000000e+00,  1.53491556e+01],\n",
       "       [ 3.80000000e+00,  1.55151008e+01],\n",
       "       [ 3.90000000e+00,  1.48511082e+01],\n",
       "       [ 4.00000000e+00,  1.11624576e+01],\n",
       "       [ 4.10000000e+00,  1.49469722e+01],\n",
       "       [ 4.20000000e+00,  1.51204604e+01],\n",
       "       [ 4.30000000e+00,  1.99264842e+01],\n",
       "       [ 4.40000000e+00,  1.46152781e+01],\n",
       "       [ 4.50000000e+00,  1.56030947e+01],\n",
       "       [ 4.60000000e+00,  1.49305765e+01],\n",
       "       [ 4.70000000e+00,  1.26626439e+01],\n",
       "       [ 4.80000000e+00,  1.72856456e+01],\n",
       "       [ 4.90000000e+00,  1.65038661e+01],\n",
       "       [ 5.00000000e+00,  1.65820639e+01],\n",
       "       [ 5.10000000e+00,  1.31812251e+01],\n",
       "       [ 5.20000000e+00,  1.78055886e+01],\n",
       "       [ 5.30000000e+00,  1.21962979e+01],\n",
       "       [ 5.40000000e+00,  1.61737142e+01],\n",
       "       [ 5.50000000e+00,  1.93809113e+01],\n",
       "       [ 5.60000000e+00,  1.30189273e+01],\n",
       "       [ 5.70000000e+00,  1.38674045e+01],\n",
       "       [ 5.80000000e+00,  1.51993027e+01],\n",
       "       [ 5.90000000e+00,  1.39930487e+01],\n",
       "       [ 6.00000000e+00,  1.18986731e+01],\n",
       "       [ 6.10000000e+00,  1.51371259e+01],\n",
       "       [ 6.20000000e+00,  1.28753926e+01],\n",
       "       [ 6.30000000e+00,  1.59471849e+01],\n",
       "       [ 6.40000000e+00,  1.31611515e+01],\n",
       "       [ 6.50000000e+00,  1.80998688e+01],\n",
       "       [ 6.60000000e+00,  1.34334934e+01],\n",
       "       [ 6.70000000e+00,  1.43558770e+01],\n",
       "       [ 6.80000000e+00,  1.66270344e+01],\n",
       "       [ 6.90000000e+00,  1.25382714e+01],\n",
       "       [ 7.00000000e+00,  1.54549199e+01],\n",
       "       [ 7.10000000e+00,  1.76142855e+01],\n",
       "       [ 7.20000000e+00,  1.17850335e+01],\n",
       "       [ 7.30000000e+00,  1.53692677e+01],\n",
       "       [ 7.40000000e+00,  1.55197656e+01],\n",
       "       [ 7.50000000e+00,  1.65636457e+01],\n",
       "       [ 7.60000000e+00,  1.25260986e+01],\n",
       "       [ 7.70000000e+00,  1.23590868e+01],\n",
       "       [ 7.80000000e+00,  1.60438831e+01],\n",
       "       [ 7.90000000e+00,  1.55939693e+01],\n",
       "       [ 8.00000000e+00,  1.55009857e+01],\n",
       "       [ 8.10000000e+00,  1.56928964e+01],\n",
       "       [ 8.20000000e+00,  1.36399506e+01],\n",
       "       [ 8.30000000e+00,  1.54645074e+01],\n",
       "       [ 8.40000000e+00,  1.55861449e+01],\n",
       "       [ 8.50000000e+00,  1.35712972e+01],\n",
       "       [ 8.60000000e+00,  1.87315490e+01],\n",
       "       [ 8.70000000e+00,  1.59476658e+01],\n",
       "       [ 8.80000000e+00,  1.26173930e+01],\n",
       "       [ 8.90000000e+00,  1.63131072e+01],\n",
       "       [ 9.00000000e+00,  1.30506367e+01],\n",
       "       [ 9.10000000e+00,  1.65741692e+01],\n",
       "       [ 9.20000000e+00,  1.73171912e+01],\n",
       "       [ 9.30000000e+00,  1.33586354e+01],\n",
       "       [ 9.40000000e+00,  1.69267523e+01],\n",
       "       [ 9.50000000e+00,  1.58255619e+01],\n",
       "       [ 9.60000000e+00,  1.66441203e+01],\n",
       "       [ 9.70000000e+00,  1.87935860e+01],\n",
       "       [ 9.80000000e+00,  1.45092238e+01],\n",
       "       [ 9.90000000e+00,  1.34925277e+01]])"
      ]
     },
     "execution_count": 7,
     "metadata": {},
     "output_type": "execute_result"
    }
   ],
   "source": [
    "np.random.seed(42)\n",
    "\n",
    "x_cluster_1 = np.arange(1, 6, 0.1)\n",
    "y_cluster_1 = 1 + (np.random.normal(0, 1, len(x_cluster_1))) * 2\n",
    "\n",
    "x_cluster_2 = np.arange(9, 14, 0.1)\n",
    "y_cluster_2 = 1 + (np.random.normal(0, 1, len(x_cluster_2))) * 2\n",
    "\n",
    "x_cluster_3 = np.arange(3, 10, 0.1)\n",
    "y_cluster_3 = 15 + (np.random.normal(0, 1, len(x_cluster_3))) * 2\n",
    "\n",
    "x = np.concatenate([x_cluster_1, x_cluster_2, x_cluster_3])\n",
    "y = np.concatenate([y_cluster_1, y_cluster_2, y_cluster_3])\n",
    "\n",
    "data = np.column_stack((x,y))\n",
    "print(data.shape)\n",
    "data\n"
   ]
  },
  {
   "cell_type": "markdown",
   "metadata": {},
   "source": [
    "# visualize the data"
   ]
  },
  {
   "cell_type": "code",
   "execution_count": 4,
   "metadata": {},
   "outputs": [
    {
     "data": {
      "text/plain": [
       "<matplotlib.collections.PathCollection at 0xfc434e5d68>"
      ]
     },
     "execution_count": 4,
     "metadata": {},
     "output_type": "execute_result"
    },
    {
     "data": {
      "image/png": "[encoded data removed]",
      "text/plain": [
       "<Figure size 432x288 with 1 Axes>"
      ]
     },
     "metadata": {},
     "output_type": "display_data"
    }
   ],
   "source": [
    "plt.scatter(data[:, 0], data[:, 1], s = 10)"
   ]
  },
  {
   "cell_type": "markdown",
   "metadata": {},
   "source": [
    "# Call k means function"
   ]
  },
  {
   "cell_type": "code",
   "execution_count": 5,
   "metadata": {},
   "outputs": [],
   "source": [
    "K= 3\n",
    "k_means_result = k_means(data, K)\n",
    "\n",
    "centeroids = k_means_result[0]\n",
    "cluster_assignment = (k_means_result[1]).tolist()\n",
    "\n",
    "colors = ['r', 'g','b']\n",
    "f = lambda x: colors[int(x)]\n",
    "cluster_assignment = list(map(f, cluster_assignment))"
   ]
  },
  {
   "cell_type": "markdown",
   "metadata": {},
   "source": [
    "    f is now a function used to change cluster number to color r g & b\n",
    "    if 0 : r ; 1 : b ; 2 : g"
   ]
  },
  {
   "cell_type": "markdown",
   "metadata": {},
   "source": [
    "# Plot the clusters"
   ]
  },
  {
   "cell_type": "code",
   "execution_count": 6,
   "metadata": {},
   "outputs": [
    {
     "data": {
      "text/plain": [
       "<matplotlib.collections.PathCollection at 0xfc4557eef0>"
      ]
     },
     "execution_count": 6,
     "metadata": {},
     "output_type": "execute_result"
    },
    {
     "data": {
      "image/png": "[encoded data removed]",
      "text/plain": [
       "<Figure size 600x600 with 1 Axes>"
      ]
     },
     "metadata": {},
     "output_type": "display_data"
    }
   ],
   "source": [
    "my_dpi = 100 # dots per inch .. (resolution)\n",
    "plt.figure(figsize=(600/my_dpi, 600/my_dpi), dpi = my_dpi)\n",
    "\n",
    "plt.xlabel('X')\n",
    "plt.ylabel('Y')\n",
    "plt.title('K - Means Clustering\\n')\n",
    "\n",
    "plt.scatter(data[:, 0], data[:, 1], color = cluster_assignment, s = 5)\n",
    "plt.scatter(centeroids[:,0],centeroids[:,1], color = 'black', marker='X',s=50)"
   ]
  },
  {
   "cell_type": "markdown",
   "metadata": {},
   "source": [
    "# Using A Public Dataset \n",
    "        \n",
    "        Dataset used : Iris\n",
    "        Description :\n",
    "                     150 rows / examples \n",
    "                     5 coloumn (4 features , 1 class label)\n",
    "                     feature: Sepal-Length\tSepal-Width\tPetal-Length\tPetal-Width\n",
    "                     3 classes : Iris-setosa , iris-versicolor , iris-virginica"
   ]
  },
  {
   "cell_type": "code",
   "execution_count": 7,
   "metadata": {},
   "outputs": [
    {
     "data": {
      "text/html": [
       "<div>\n",
       "<style scoped>\n",
       "    .dataframe tbody tr th:only-of-type {\n",
       "        vertical-align: middle;\n",
       "    }\n",
       "\n",
       "    .dataframe tbody tr th {\n",
       "        vertical-align: top;\n",
       "    }\n",
       "\n",
       "    .dataframe thead th {\n",
       "        text-align: right;\n",
       "    }\n",
       "</style>\n",
       "<table border=\"1\" class=\"dataframe\">\n",
       "  <thead>\n",
       "    <tr style=\"text-align: right;\">\n",
       "      <th></th>\n",
       "      <th>Id</th>\n",
       "      <th>SepalLengthCm</th>\n",
       "      <th>SepalWidthCm</th>\n",
       "      <th>PetalLengthCm</th>\n",
       "      <th>PetalWidthCm</th>\n",
       "      <th>Species</th>\n",
       "    </tr>\n",
       "  </thead>\n",
       "  <tbody>\n",
       "    <tr>\n",
       "      <th>0</th>\n",
       "      <td>1</td>\n",
       "      <td>5.1</td>\n",
       "      <td>3.5</td>\n",
       "      <td>1.4</td>\n",
       "      <td>0.2</td>\n",
       "      <td>Iris-setosa</td>\n",
       "    </tr>\n",
       "    <tr>\n",
       "      <th>1</th>\n",
       "      <td>2</td>\n",
       "      <td>4.9</td>\n",
       "      <td>3.0</td>\n",
       "      <td>1.4</td>\n",
       "      <td>0.2</td>\n",
       "      <td>Iris-setosa</td>\n",
       "    </tr>\n",
       "    <tr>\n",
       "      <th>2</th>\n",
       "      <td>3</td>\n",
       "      <td>4.7</td>\n",
       "      <td>3.2</td>\n",
       "      <td>1.3</td>\n",
       "      <td>0.2</td>\n",
       "      <td>Iris-setosa</td>\n",
       "    </tr>\n",
       "    <tr>\n",
       "      <th>3</th>\n",
       "      <td>4</td>\n",
       "      <td>4.6</td>\n",
       "      <td>3.1</td>\n",
       "      <td>1.5</td>\n",
       "      <td>0.2</td>\n",
       "      <td>Iris-setosa</td>\n",
       "    </tr>\n",
       "    <tr>\n",
       "      <th>4</th>\n",
       "      <td>5</td>\n",
       "      <td>5.0</td>\n",
       "      <td>3.6</td>\n",
       "      <td>1.4</td>\n",
       "      <td>0.2</td>\n",
       "      <td>Iris-setosa</td>\n",
       "    </tr>\n",
       "  </tbody>\n",
       "</table>\n",
       "</div>"
      ],
      "text/plain": [
       "   Id  SepalLengthCm  SepalWidthCm  PetalLengthCm  PetalWidthCm      Species\n",
       "0   1            5.1           3.5            1.4           0.2  Iris-setosa\n",
       "1   2            4.9           3.0            1.4           0.2  Iris-setosa\n",
       "2   3            4.7           3.2            1.3           0.2  Iris-setosa\n",
       "3   4            4.6           3.1            1.5           0.2  Iris-setosa\n",
       "4   5            5.0           3.6            1.4           0.2  Iris-setosa"
      ]
     },
     "execution_count": 7,
     "metadata": {},
     "output_type": "execute_result"
    }
   ],
   "source": [
    "iris = pd.read_csv('iris.csv')\n",
    "iris.head()"
   ]
  },
  {
   "cell_type": "code",
   "execution_count": 8,
   "metadata": {},
   "outputs": [
    {
     "data": {
      "text/html": [
       "<div>\n",
       "<style scoped>\n",
       "    .dataframe tbody tr th:only-of-type {\n",
       "        vertical-align: middle;\n",
       "    }\n",
       "\n",
       "    .dataframe tbody tr th {\n",
       "        vertical-align: top;\n",
       "    }\n",
       "\n",
       "    .dataframe thead th {\n",
       "        text-align: right;\n",
       "    }\n",
       "</style>\n",
       "<table border=\"1\" class=\"dataframe\">\n",
       "  <thead>\n",
       "    <tr style=\"text-align: right;\">\n",
       "      <th></th>\n",
       "      <th>Id</th>\n",
       "      <th>SepalLengthCm</th>\n",
       "      <th>SepalWidthCm</th>\n",
       "      <th>PetalLengthCm</th>\n",
       "      <th>PetalWidthCm</th>\n",
       "      <th>Species</th>\n",
       "      <th>Species_code</th>\n",
       "    </tr>\n",
       "  </thead>\n",
       "  <tbody>\n",
       "    <tr>\n",
       "      <th>0</th>\n",
       "      <td>1</td>\n",
       "      <td>5.1</td>\n",
       "      <td>3.5</td>\n",
       "      <td>1.4</td>\n",
       "      <td>0.2</td>\n",
       "      <td>Iris-setosa</td>\n",
       "      <td>0</td>\n",
       "    </tr>\n",
       "    <tr>\n",
       "      <th>1</th>\n",
       "      <td>2</td>\n",
       "      <td>4.9</td>\n",
       "      <td>3.0</td>\n",
       "      <td>1.4</td>\n",
       "      <td>0.2</td>\n",
       "      <td>Iris-setosa</td>\n",
       "      <td>0</td>\n",
       "    </tr>\n",
       "    <tr>\n",
       "      <th>2</th>\n",
       "      <td>3</td>\n",
       "      <td>4.7</td>\n",
       "      <td>3.2</td>\n",
       "      <td>1.3</td>\n",
       "      <td>0.2</td>\n",
       "      <td>Iris-setosa</td>\n",
       "      <td>0</td>\n",
       "    </tr>\n",
       "    <tr>\n",
       "      <th>3</th>\n",
       "      <td>4</td>\n",
       "      <td>4.6</td>\n",
       "      <td>3.1</td>\n",
       "      <td>1.5</td>\n",
       "      <td>0.2</td>\n",
       "      <td>Iris-setosa</td>\n",
       "      <td>0</td>\n",
       "    </tr>\n",
       "    <tr>\n",
       "      <th>4</th>\n",
       "      <td>5</td>\n",
       "      <td>5.0</td>\n",
       "      <td>3.6</td>\n",
       "      <td>1.4</td>\n",
       "      <td>0.2</td>\n",
       "      <td>Iris-setosa</td>\n",
       "      <td>0</td>\n",
       "    </tr>\n",
       "  </tbody>\n",
       "</table>\n",
       "</div>"
      ],
      "text/plain": [
       "   Id  SepalLengthCm  SepalWidthCm  PetalLengthCm  PetalWidthCm      Species  \\\n",
       "0   1            5.1           3.5            1.4           0.2  Iris-setosa   \n",
       "1   2            4.9           3.0            1.4           0.2  Iris-setosa   \n",
       "2   3            4.7           3.2            1.3           0.2  Iris-setosa   \n",
       "3   4            4.6           3.1            1.5           0.2  Iris-setosa   \n",
       "4   5            5.0           3.6            1.4           0.2  Iris-setosa   \n",
       "\n",
       "   Species_code  \n",
       "0             0  \n",
       "1             0  \n",
       "2             0  \n",
       "3             0  \n",
       "4             0  "
      ]
     },
     "execution_count": 8,
     "metadata": {},
     "output_type": "execute_result"
    }
   ],
   "source": [
    "species = {'Iris-setosa': 0,'Iris-versicolor': 1,'Iris-virginica' : 2}\n",
    "iris['Species_code'] = [species[item] for item in iris.Species]\n",
    "iris.head()"
   ]
  },
  {
   "cell_type": "code",
   "execution_count": 9,
   "metadata": {},
   "outputs": [
    {
     "data": {
      "text/html": [
       "<div>\n",
       "<style scoped>\n",
       "    .dataframe tbody tr th:only-of-type {\n",
       "        vertical-align: middle;\n",
       "    }\n",
       "\n",
       "    .dataframe tbody tr th {\n",
       "        vertical-align: top;\n",
       "    }\n",
       "\n",
       "    .dataframe thead th {\n",
       "        text-align: right;\n",
       "    }\n",
       "</style>\n",
       "<table border=\"1\" class=\"dataframe\">\n",
       "  <thead>\n",
       "    <tr style=\"text-align: right;\">\n",
       "      <th></th>\n",
       "      <th>Id</th>\n",
       "      <th>SepalLengthCm</th>\n",
       "      <th>SepalWidthCm</th>\n",
       "      <th>PetalLengthCm</th>\n",
       "      <th>PetalWidthCm</th>\n",
       "      <th>Species_code</th>\n",
       "    </tr>\n",
       "    <tr>\n",
       "      <th>Species</th>\n",
       "      <th></th>\n",
       "      <th></th>\n",
       "      <th></th>\n",
       "      <th></th>\n",
       "      <th></th>\n",
       "      <th></th>\n",
       "    </tr>\n",
       "  </thead>\n",
       "  <tbody>\n",
       "    <tr>\n",
       "      <th>Iris-setosa</th>\n",
       "      <td>50</td>\n",
       "      <td>50</td>\n",
       "      <td>50</td>\n",
       "      <td>50</td>\n",
       "      <td>50</td>\n",
       "      <td>50</td>\n",
       "    </tr>\n",
       "    <tr>\n",
       "      <th>Iris-versicolor</th>\n",
       "      <td>50</td>\n",
       "      <td>50</td>\n",
       "      <td>50</td>\n",
       "      <td>50</td>\n",
       "      <td>50</td>\n",
       "      <td>50</td>\n",
       "    </tr>\n",
       "    <tr>\n",
       "      <th>Iris-virginica</th>\n",
       "      <td>50</td>\n",
       "      <td>50</td>\n",
       "      <td>50</td>\n",
       "      <td>50</td>\n",
       "      <td>50</td>\n",
       "      <td>50</td>\n",
       "    </tr>\n",
       "  </tbody>\n",
       "</table>\n",
       "</div>"
      ],
      "text/plain": [
       "                 Id  SepalLengthCm  SepalWidthCm  PetalLengthCm  PetalWidthCm  \\\n",
       "Species                                                                         \n",
       "Iris-setosa      50             50            50             50            50   \n",
       "Iris-versicolor  50             50            50             50            50   \n",
       "Iris-virginica   50             50            50             50            50   \n",
       "\n",
       "                 Species_code  \n",
       "Species                        \n",
       "Iris-setosa                50  \n",
       "Iris-versicolor            50  \n",
       "Iris-virginica             50  "
      ]
     },
     "execution_count": 9,
     "metadata": {},
     "output_type": "execute_result"
    }
   ],
   "source": [
    "groups=iris.groupby('Species')\n",
    "groups.count()"
   ]
  },
  {
   "cell_type": "code",
   "execution_count": 10,
   "metadata": {},
   "outputs": [
    {
     "data": {
      "text/html": [
       "<div>\n",
       "<style scoped>\n",
       "    .dataframe tbody tr th:only-of-type {\n",
       "        vertical-align: middle;\n",
       "    }\n",
       "\n",
       "    .dataframe tbody tr th {\n",
       "        vertical-align: top;\n",
       "    }\n",
       "\n",
       "    .dataframe thead th {\n",
       "        text-align: right;\n",
       "    }\n",
       "</style>\n",
       "<table border=\"1\" class=\"dataframe\">\n",
       "  <thead>\n",
       "    <tr style=\"text-align: right;\">\n",
       "      <th></th>\n",
       "      <th>SepalLengthCm</th>\n",
       "      <th>SepalWidthCm</th>\n",
       "      <th>PetalLengthCm</th>\n",
       "      <th>PetalWidthCm</th>\n",
       "    </tr>\n",
       "  </thead>\n",
       "  <tbody>\n",
       "    <tr>\n",
       "      <th>0</th>\n",
       "      <td>5.1</td>\n",
       "      <td>3.5</td>\n",
       "      <td>1.4</td>\n",
       "      <td>0.2</td>\n",
       "    </tr>\n",
       "    <tr>\n",
       "      <th>1</th>\n",
       "      <td>4.9</td>\n",
       "      <td>3.0</td>\n",
       "      <td>1.4</td>\n",
       "      <td>0.2</td>\n",
       "    </tr>\n",
       "    <tr>\n",
       "      <th>2</th>\n",
       "      <td>4.7</td>\n",
       "      <td>3.2</td>\n",
       "      <td>1.3</td>\n",
       "      <td>0.2</td>\n",
       "    </tr>\n",
       "    <tr>\n",
       "      <th>3</th>\n",
       "      <td>4.6</td>\n",
       "      <td>3.1</td>\n",
       "      <td>1.5</td>\n",
       "      <td>0.2</td>\n",
       "    </tr>\n",
       "    <tr>\n",
       "      <th>4</th>\n",
       "      <td>5.0</td>\n",
       "      <td>3.6</td>\n",
       "      <td>1.4</td>\n",
       "      <td>0.2</td>\n",
       "    </tr>\n",
       "  </tbody>\n",
       "</table>\n",
       "</div>"
      ],
      "text/plain": [
       "   SepalLengthCm  SepalWidthCm  PetalLengthCm  PetalWidthCm\n",
       "0            5.1           3.5            1.4           0.2\n",
       "1            4.9           3.0            1.4           0.2\n",
       "2            4.7           3.2            1.3           0.2\n",
       "3            4.6           3.1            1.5           0.2\n",
       "4            5.0           3.6            1.4           0.2"
      ]
     },
     "execution_count": 10,
     "metadata": {},
     "output_type": "execute_result"
    }
   ],
   "source": [
    "features = iris[['SepalLengthCm','SepalWidthCm','PetalLengthCm','PetalWidthCm']]\n",
    "features.head()"
   ]
  },
  {
   "cell_type": "code",
   "execution_count": 11,
   "metadata": {},
   "outputs": [
    {
     "data": {
      "text/plain": [
       "array([[5.1, 3.5, 1.4, 0.2],\n",
       "       [4.9, 3. , 1.4, 0.2],\n",
       "       [4.7, 3.2, 1.3, 0.2],\n",
       "       [4.6, 3.1, 1.5, 0.2],\n",
       "       [5. , 3.6, 1.4, 0.2],\n",
       "       [5.4, 3.9, 1.7, 0.4],\n",
       "       [4.6, 3.4, 1.4, 0.3],\n",
       "       [5. , 3.4, 1.5, 0.2],\n",
       "       [4.4, 2.9, 1.4, 0.2],\n",
       "       [4.9, 3.1, 1.5, 0.1],\n",
       "       [5.4, 3.7, 1.5, 0.2],\n",
       "       [4.8, 3.4, 1.6, 0.2],\n",
       "       [4.8, 3. , 1.4, 0.1],\n",
       "       [4.3, 3. , 1.1, 0.1],\n",
       "       [5.8, 4. , 1.2, 0.2],\n",
       "       [5.7, 4.4, 1.5, 0.4],\n",
       "       [5.4, 3.9, 1.3, 0.4],\n",
       "       [5.1, 3.5, 1.4, 0.3],\n",
       "       [5.7, 3.8, 1.7, 0.3],\n",
       "       [5.1, 3.8, 1.5, 0.3],\n",
       "       [5.4, 3.4, 1.7, 0.2],\n",
       "       [5.1, 3.7, 1.5, 0.4],\n",
       "       [4.6, 3.6, 1. , 0.2],\n",
       "       [5.1, 3.3, 1.7, 0.5],\n",
       "       [4.8, 3.4, 1.9, 0.2],\n",
       "       [5. , 3. , 1.6, 0.2],\n",
       "       [5. , 3.4, 1.6, 0.4],\n",
       "       [5.2, 3.5, 1.5, 0.2],\n",
       "       [5.2, 3.4, 1.4, 0.2],\n",
       "       [4.7, 3.2, 1.6, 0.2],\n",
       "       [4.8, 3.1, 1.6, 0.2],\n",
       "       [5.4, 3.4, 1.5, 0.4],\n",
       "       [5.2, 4.1, 1.5, 0.1],\n",
       "       [5.5, 4.2, 1.4, 0.2],\n",
       "       [4.9, 3.1, 1.5, 0.1],\n",
       "       [5. , 3.2, 1.2, 0.2],\n",
       "       [5.5, 3.5, 1.3, 0.2],\n",
       "       [4.9, 3.1, 1.5, 0.1],\n",
       "       [4.4, 3. , 1.3, 0.2],\n",
       "       [5.1, 3.4, 1.5, 0.2],\n",
       "       [5. , 3.5, 1.3, 0.3],\n",
       "       [4.5, 2.3, 1.3, 0.3],\n",
       "       [4.4, 3.2, 1.3, 0.2],\n",
       "       [5. , 3.5, 1.6, 0.6],\n",
       "       [5.1, 3.8, 1.9, 0.4],\n",
       "       [4.8, 3. , 1.4, 0.3],\n",
       "       [5.1, 3.8, 1.6, 0.2],\n",
       "       [4.6, 3.2, 1.4, 0.2],\n",
       "       [5.3, 3.7, 1.5, 0.2],\n",
       "       [5. , 3.3, 1.4, 0.2],\n",
       "       [7. , 3.2, 4.7, 1.4],\n",
       "       [6.4, 3.2, 4.5, 1.5],\n",
       "       [6.9, 3.1, 4.9, 1.5],\n",
       "       [5.5, 2.3, 4. , 1.3],\n",
       "       [6.5, 2.8, 4.6, 1.5],\n",
       "       [5.7, 2.8, 4.5, 1.3],\n",
       "       [6.3, 3.3, 4.7, 1.6],\n",
       "       [4.9, 2.4, 3.3, 1. ],\n",
       "       [6.6, 2.9, 4.6, 1.3],\n",
       "       [5.2, 2.7, 3.9, 1.4],\n",
       "       [5. , 2. , 3.5, 1. ],\n",
       "       [5.9, 3. , 4.2, 1.5],\n",
       "       [6. , 2.2, 4. , 1. ],\n",
       "       [6.1, 2.9, 4.7, 1.4],\n",
       "       [5.6, 2.9, 3.6, 1.3],\n",
       "       [6.7, 3.1, 4.4, 1.4],\n",
       "       [5.6, 3. , 4.5, 1.5],\n",
       "       [5.8, 2.7, 4.1, 1. ],\n",
       "       [6.2, 2.2, 4.5, 1.5],\n",
       "       [5.6, 2.5, 3.9, 1.1],\n",
       "       [5.9, 3.2, 4.8, 1.8],\n",
       "       [6.1, 2.8, 4. , 1.3],\n",
       "       [6.3, 2.5, 4.9, 1.5],\n",
       "       [6.1, 2.8, 4.7, 1.2],\n",
       "       [6.4, 2.9, 4.3, 1.3],\n",
       "       [6.6, 3. , 4.4, 1.4],\n",
       "       [6.8, 2.8, 4.8, 1.4],\n",
       "       [6.7, 3. , 5. , 1.7],\n",
       "       [6. , 2.9, 4.5, 1.5],\n",
       "       [5.7, 2.6, 3.5, 1. ],\n",
       "       [5.5, 2.4, 3.8, 1.1],\n",
       "       [5.5, 2.4, 3.7, 1. ],\n",
       "       [5.8, 2.7, 3.9, 1.2],\n",
       "       [6. , 2.7, 5.1, 1.6],\n",
       "       [5.4, 3. , 4.5, 1.5],\n",
       "       [6. , 3.4, 4.5, 1.6],\n",
       "       [6.7, 3.1, 4.7, 1.5],\n",
       "       [6.3, 2.3, 4.4, 1.3],\n",
       "       [5.6, 3. , 4.1, 1.3],\n",
       "       [5.5, 2.5, 4. , 1.3],\n",
       "       [5.5, 2.6, 4.4, 1.2],\n",
       "       [6.1, 3. , 4.6, 1.4],\n",
       "       [5.8, 2.6, 4. , 1.2],\n",
       "       [5. , 2.3, 3.3, 1. ],\n",
       "       [5.6, 2.7, 4.2, 1.3],\n",
       "       [5.7, 3. , 4.2, 1.2],\n",
       "       [5.7, 2.9, 4.2, 1.3],\n",
       "       [6.2, 2.9, 4.3, 1.3],\n",
       "       [5.1, 2.5, 3. , 1.1],\n",
       "       [5.7, 2.8, 4.1, 1.3],\n",
       "       [6.3, 3.3, 6. , 2.5],\n",
       "       [5.8, 2.7, 5.1, 1.9],\n",
       "       [7.1, 3. , 5.9, 2.1],\n",
       "       [6.3, 2.9, 5.6, 1.8],\n",
       "       [6.5, 3. , 5.8, 2.2],\n",
       "       [7.6, 3. , 6.6, 2.1],\n",
       "       [4.9, 2.5, 4.5, 1.7],\n",
       "       [7.3, 2.9, 6.3, 1.8],\n",
       "       [6.7, 2.5, 5.8, 1.8],\n",
       "       [7.2, 3.6, 6.1, 2.5],\n",
       "       [6.5, 3.2, 5.1, 2. ],\n",
       "       [6.4, 2.7, 5.3, 1.9],\n",
       "       [6.8, 3. , 5.5, 2.1],\n",
       "       [5.7, 2.5, 5. , 2. ],\n",
       "       [5.8, 2.8, 5.1, 2.4],\n",
       "       [6.4, 3.2, 5.3, 2.3],\n",
       "       [6.5, 3. , 5.5, 1.8],\n",
       "       [7.7, 3.8, 6.7, 2.2],\n",
       "       [7.7, 2.6, 6.9, 2.3],\n",
       "       [6. , 2.2, 5. , 1.5],\n",
       "       [6.9, 3.2, 5.7, 2.3],\n",
       "       [5.6, 2.8, 4.9, 2. ],\n",
       "       [7.7, 2.8, 6.7, 2. ],\n",
       "       [6.3, 2.7, 4.9, 1.8],\n",
       "       [6.7, 3.3, 5.7, 2.1],\n",
       "       [7.2, 3.2, 6. , 1.8],\n",
       "       [6.2, 2.8, 4.8, 1.8],\n",
       "       [6.1, 3. , 4.9, 1.8],\n",
       "       [6.4, 2.8, 5.6, 2.1],\n",
       "       [7.2, 3. , 5.8, 1.6],\n",
       "       [7.4, 2.8, 6.1, 1.9],\n",
       "       [7.9, 3.8, 6.4, 2. ],\n",
       "       [6.4, 2.8, 5.6, 2.2],\n",
       "       [6.3, 2.8, 5.1, 1.5],\n",
       "       [6.1, 2.6, 5.6, 1.4],\n",
       "       [7.7, 3. , 6.1, 2.3],\n",
       "       [6.3, 3.4, 5.6, 2.4],\n",
       "       [6.4, 3.1, 5.5, 1.8],\n",
       "       [6. , 3. , 4.8, 1.8],\n",
       "       [6.9, 3.1, 5.4, 2.1],\n",
       "       [6.7, 3.1, 5.6, 2.4],\n",
       "       [6.9, 3.1, 5.1, 2.3],\n",
       "       [5.8, 2.7, 5.1, 1.9],\n",
       "       [6.8, 3.2, 5.9, 2.3],\n",
       "       [6.7, 3.3, 5.7, 2.5],\n",
       "       [6.7, 3. , 5.2, 2.3],\n",
       "       [6.3, 2.5, 5. , 1.9],\n",
       "       [6.5, 3. , 5.2, 2. ],\n",
       "       [6.2, 3.4, 5.4, 2.3],\n",
       "       [5.9, 3. , 5.1, 1.8]])"
      ]
     },
     "execution_count": 11,
     "metadata": {},
     "output_type": "execute_result"
    }
   ],
   "source": [
    "dataset= features.values\n",
    "dataset"
   ]
  },
  {
   "cell_type": "markdown",
   "metadata": {},
   "source": [
    "# Plot the dataset based on Sepal length and Sepal width"
   ]
  },
  {
   "cell_type": "code",
   "execution_count": 12,
   "metadata": {},
   "outputs": [
    {
     "data": {
      "text/plain": [
       "Text(0,0.5,'Sepal Width')"
      ]
     },
     "execution_count": 12,
     "metadata": {},
     "output_type": "execute_result"
    },
    {
     "data": {
      "image/png": "[encoded data removed]",
      "text/plain": [
       "<Figure size 800x500 with 1 Axes>"
      ]
     },
     "metadata": {},
     "output_type": "display_data"
    }
   ],
   "source": [
    "my_dpi = 100 # dots per inch .. (resolution)\n",
    "plt.figure(figsize=(800/my_dpi, 500/my_dpi), dpi = my_dpi)\n",
    "\n",
    "plt.scatter(dataset[:,0],dataset[:,1], s = 5)\n",
    "plt.title(\"Original Dataset\")\n",
    "plt.xlabel('Sepal Length')\n",
    "plt.ylabel('Sepal Width')"
   ]
  },
  {
   "cell_type": "markdown",
   "metadata": {},
   "source": [
    "# Plot the dataset based on Petal length and Petal width"
   ]
  },
  {
   "cell_type": "code",
   "execution_count": 13,
   "metadata": {},
   "outputs": [
    {
     "data": {
      "text/plain": [
       "Text(0,0.5,'Petal Width')"
      ]
     },
     "execution_count": 13,
     "metadata": {},
     "output_type": "execute_result"
    },
    {
     "data": {
      "image/png": "[encoded data removed]",
      "text/plain": [
       "<Figure size 800x500 with 1 Axes>"
      ]
     },
     "metadata": {},
     "output_type": "display_data"
    }
   ],
   "source": [
    "my_dpi = 100 # dots per inch .. (resolution)\n",
    "plt.figure(figsize=(800/my_dpi, 500/my_dpi), dpi = my_dpi)\n",
    "\n",
    "plt.scatter(dataset[:,2],dataset[:,3], s = 5)\n",
    "plt.title(\"Original Dataset\")\n",
    "plt.xlabel('Petal Length')\n",
    "plt.ylabel('Petal Width')"
   ]
  },
  {
   "cell_type": "markdown",
   "metadata": {},
   "source": [
    "# Use K_means function to Cluster the data points in the dataset"
   ]
  },
  {
   "cell_type": "code",
   "execution_count": 14,
   "metadata": {},
   "outputs": [],
   "source": [
    "k_means_result = k_means(dataset, 3)\n",
    "\n",
    "centeroids = k_means_result[0]\n",
    "cluster_assignment = (k_means_result[1]).tolist()"
   ]
  },
  {
   "cell_type": "code",
   "execution_count": 15,
   "metadata": {},
   "outputs": [],
   "source": [
    "colors = ['r', 'g','b']\n",
    "g = lambda x: colors[int(x)]\n",
    "cluster_assignment = list(map(g, cluster_assignment))"
   ]
  },
  {
   "cell_type": "markdown",
   "metadata": {},
   "source": [
    "# show clusters based on Sepal lenght and Sepal width"
   ]
  },
  {
   "cell_type": "code",
   "execution_count": 16,
   "metadata": {},
   "outputs": [
    {
     "data": {
      "text/plain": [
       "Text(0,0.5,'Sepal Width')"
      ]
     },
     "execution_count": 16,
     "metadata": {},
     "output_type": "execute_result"
    },
    {
     "data": {
      "image/png": "[encoded data removed]",
      "text/plain": [
       "<Figure size 800x500 with 1 Axes>"
      ]
     },
     "metadata": {},
     "output_type": "display_data"
    }
   ],
   "source": [
    "my_dpi = 100 # dots per inch .. (resolution)\n",
    "plt.figure(figsize=(800/my_dpi, 500/my_dpi), dpi = my_dpi)\n",
    "\n",
    "plt.scatter(dataset[:,0],dataset[:,1], s = 5,color = cluster_assignment)\n",
    "plt.scatter(centeroids[:,0],centeroids[:,1], color = 'black', marker='X',s=50)\n",
    "plt.title(\"clusters according to K means\")\n",
    "plt.xlabel('Sepal Length')\n",
    "plt.ylabel('Sepal Width')"
   ]
  },
  {
   "cell_type": "markdown",
   "metadata": {},
   "source": [
    "# show clusters based on Petal lenght and Petal width"
   ]
  },
  {
   "cell_type": "code",
   "execution_count": 18,
   "metadata": {},
   "outputs": [
    {
     "data": {
      "text/plain": [
       "Text(0,0.5,'Petal Width')"
      ]
     },
     "execution_count": 18,
     "metadata": {},
     "output_type": "execute_result"
    },
    {
     "data": {
      "image/png": "[encoded data removed]",
      "text/plain": [
       "<Figure size 800x500 with 1 Axes>"
      ]
     },
     "metadata": {},
     "output_type": "display_data"
    }
   ],
   "source": [
    "my_dpi = 100 # dots per inch .. (resolution)\n",
    "plt.figure(figsize=(800/my_dpi, 500/my_dpi), dpi = my_dpi)\n",
    "\n",
    "plt.scatter(dataset[:,2],dataset[:,3], s = 5, color= cluster_assignment)\n",
    "plt.scatter(centeroids[:,2],centeroids[:,3], color = 'black', marker='X',s=50)\n",
    "plt.title(\"Predicted cluster\")\n",
    "plt.xlabel('Petal Length')\n",
    "plt.ylabel('Petal Width')"
   ]
  },
  {
   "cell_type": "code",
   "execution_count": null,
   "metadata": {},
   "outputs": [],
   "source": []
  }
 ],
 "metadata": {
  "kernelspec": {
   "display_name": "Python 3",
   "language": "python",
   "name": "python3"
  },
  "language_info": {
   "codemirror_mode": {
    "name": "ipython",
    "version": 3
   },
   "file_extension": ".py",
   "mimetype": "text/x-python",
   "name": "python",
   "nbconvert_exporter": "python",
   "pygments_lexer": "ipython3",
   "version": "3.6.5"
  }
 },
 "nbformat": 4,
 "nbformat_minor": 2
}
